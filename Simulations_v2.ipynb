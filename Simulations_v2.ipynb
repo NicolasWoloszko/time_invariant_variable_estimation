{
 "cells": [
  {
   "cell_type": "raw",
   "metadata": {
    "extensions": {
     "jupyter_dashboards": {
      "version": 1,
      "views": {
       "grid_default": {
        "hidden": true
       },
       "report_default": {
        "hidden": true
       }
      }
     }
    }
   },
   "source": [
    "<script>\n",
    "  jQuery(document).ready(function($) {\n",
    "\n",
    "  $(window).load(function(){\n",
    "    $('#preloader').fadeOut('slow',function(){$(this).remove();});\n",
    "  });\n",
    "\n",
    "  });\n",
    "</script>\n",
    "\n",
    "<style type=\"text/css\">\n",
    "  div#preloader { position: fixed;\n",
    "      left: 0;\n",
    "      top: 0;\n",
    "      z-index: 999;\n",
    "      width: 100%;\n",
    "      height: 100%;\n",
    "      overflow: visible;\n",
    "      background: #fff url('http://preloaders.net/preloaders/720/Moving%20line.gif') no-repeat center center;\n",
    "  }\n",
    "\n",
    "</style>\n",
    "\n",
    "<div id=\"preloader\"></div>"
   ]
  },
  {
   "cell_type": "raw",
   "metadata": {
    "extensions": {
     "jupyter_dashboards": {
      "version": 1,
      "views": {
       "grid_default": {
        "hidden": true
       },
       "report_default": {
        "hidden": true
       }
      }
     }
    },
    "hide_input": true
   },
   "source": [
    "<script>\n",
    "  function code_toggle() {\n",
    "    if (code_shown){\n",
    "      $('div.input').hide('500');\n",
    "      $('div.output_stream').hide('500');\n",
    "      $('#toggleButton').val('Show Code')\n",
    "    } else {\n",
    "      $('div.input').show('500');\n",
    "      $('#toggleButton').val('Hide Code')\n",
    "    }\n",
    "    code_shown = !code_shown\n",
    "  }\n",
    "\n",
    "  $( document ).ready(function(){\n",
    "    code_shown=false;\n",
    "    $('div.input').hide();\n",
    "    $('div.output_stream').hide('500')\n",
    "  });\n",
    "</script>\n",
    "<form action=\"javascript:code_toggle()\"><input type=\"submit\" id=\"toggleButton\" value=\"Show Code\"></form>"
   ]
  },
  {
   "cell_type": "markdown",
   "metadata": {
    "extensions": {
     "jupyter_dashboards": {
      "version": 1,
      "views": {
       "grid_default": {
        "col": 0,
        "height": 4,
        "hidden": false,
        "row": 0,
        "width": 4
       },
       "report_default": {
        "hidden": false
       }
      }
     }
    }
   },
   "source": [
    "<link rel=\"icon\" type=\"image/png\" href=\"https://pbs.twimg.com/profile_images/2704512490/f8fdec2f9125956c0f0f92decee4ac71_400x400.png\" sizes=\"32x32\" />"
   ]
  },
  {
   "cell_type": "raw",
   "metadata": {
    "extensions": {
     "jupyter_dashboards": {
      "version": 1,
      "views": {
       "grid_default": {
        "hidden": true
       },
       "report_default": {
        "hidden": true
       }
      }
     }
    },
    "hide_input": false
   },
   "source": [
    "<style>\n",
    ".lev1 {margin-left: 80px}\n",
    ".lev2 {margin-left: 100px}\n",
    ".lev3 {margin-left: 120px}\n",
    ".lev4 {margin-left: 140px}\n",
    ".lev5 {margin-left: 160px}\n",
    ".lev6 {margin-left: 180px}\n",
    ".p {font-family: \"Times New Roman\";}\n",
    "\n",
    ".main_block {\n",
    "    width: 800px;\n",
    "    border: 2px black solid;\n",
    "}\n",
    "\n",
    ".main_block: before, .main_block: after {\n",
    "    overflow: hidden;\n",
    "    content: \"\";\n",
    "    display: table;\n",
    "}\n",
    "\n",
    ".main_block: after {\n",
    "    clear: both;\n",
    "}\n",
    "\n",
    ".inner_block {\n",
    "    display: inline-block;\n",
    "    float: left;\n",
    "    width: 50%;\n",
    "}\n",
    "\n",
    ".inner_block img {\n",
    "    width: 100%;\n",
    "    height: auto;\n",
    "    vertical-align: middle;\n",
    "}\n",
    "</style>"
   ]
  },
  {
   "cell_type": "markdown",
   "metadata": {
    "extensions": {
     "jupyter_dashboards": {
      "version": 1,
      "views": {
       "grid_default": {
        "col": 0,
        "height": 6,
        "hidden": false,
        "row": 4,
        "width": 12
       },
       "report_default": {
        "hidden": false
       }
      }
     }
    }
   },
   "source": [
    "\n",
    "<img src=\"http://www.businesskorea.co.kr/sites/default/files/field/image/oecd.jpg\" alt=\"logo\" align=\"middle\" style=\"width: 200px;\"/img>\n"
   ]
  },
  {
   "cell_type": "markdown",
   "metadata": {
    "extensions": {
     "jupyter_dashboards": {
      "version": 1,
      "views": {
       "grid_default": {
        "col": 0,
        "height": 6,
        "hidden": false,
        "row": 10,
        "width": 12
       },
       "report_default": {
        "hidden": false
       }
      }
     }
    },
    "nbpresent": {
     "id": "459d3bd7-3f86-440b-b986-ce4961ee7a14"
    }
   },
   "source": [
    "\n",
    "\n",
    "<p style=\"margin-top: 22px; font-size:40px;  color:black; text-align: center;  \n",
    "font-weight: bold;  line-height: 100%;\"> Estimation of panel regressions with time-invariant variables </p>\n",
    "***********\n"
   ]
  },
  {
   "cell_type": "markdown",
   "metadata": {
    "extensions": {
     "jupyter_dashboards": {
      "version": 1,
      "views": {
       "grid_default": {
        "col": 0,
        "height": 27,
        "hidden": false,
        "row": 16,
        "width": 12
       },
       "report_default": {
        "hidden": false
       }
      }
     }
    },
    "toc": "true"
   },
   "source": [
    "# Table of Contents\n",
    " <p><div class=\"lev1 toc-item\"><a href=\"#Introduction\" data-toc-modified-id=\"Introduction-1\"><span class=\"toc-item-num\">1&nbsp;&nbsp;</span>Introduction</a></div><div class=\"lev1 toc-item\"><a href=\"#I.-The-Data-Generating-Processes\" data-toc-modified-id=\"I.-The-Data-Generating-Processes-2\"><span class=\"toc-item-num\">2&nbsp;&nbsp;</span>I. The Data Generating Processes</a></div><div class=\"lev2 toc-item\"><a href=\"#1.-A-simple-version-to-begin-with-:-DGP0\" data-toc-modified-id=\"1.-A-simple-version-to-begin-with-:-DGP0-21\"><span class=\"toc-item-num\">2.1&nbsp;&nbsp;</span>1. A simple version to begin with : DGP0</a></div><div class=\"lev2 toc-item\"><a href=\"#2.-Pesaran's-DGP1-:-exogenous-TIV\" data-toc-modified-id=\"2.-Pesaran's-DGP1-:-exogenous-TIV-22\"><span class=\"toc-item-num\">2.2&nbsp;&nbsp;</span>2. Pesaran's DGP1 : exogenous TIV</a></div><div class=\"lev2 toc-item\"><a href=\"#3.-Pesaran's-DGP2-:-TIV-correlated-with-FE\" data-toc-modified-id=\"3.-Pesaran's-DGP2-:-TIV-correlated-with-FE-23\"><span class=\"toc-item-num\">2.3&nbsp;&nbsp;</span>3. Pesaran's DGP2 : TIV correlated with FE</a></div><div class=\"lev1 toc-item\"><a href=\"#II.-Estimators\" data-toc-modified-id=\"II.-Estimators-3\"><span class=\"toc-item-num\">3&nbsp;&nbsp;</span>II. Estimators</a></div><div class=\"lev2 toc-item\"><a href=\"#1.-Naive-method-:-Fixed-Effects-Vector-Decomposition-(FEVD)---(Plümper-and-Troeger-2007)\" data-toc-modified-id=\"1.-Naive-method-:-Fixed-Effects-Vector-Decomposition-(FEVD)---(Plümper-and-Troeger-2007)-31\"><span class=\"toc-item-num\">3.1&nbsp;&nbsp;</span>1. Naive method : Fixed Effects Vector Decomposition (FEVD) - (Plümper and Troeger 2007)</a></div><div class=\"lev2 toc-item\"><a href=\"#2.-Fixed-Effects-Filtered---FEF-(Pesaran-and-Zhou,-2014)\" data-toc-modified-id=\"2.-Fixed-Effects-Filtered---FEF-(Pesaran-and-Zhou,-2014)-32\"><span class=\"toc-item-num\">3.2&nbsp;&nbsp;</span>2. Fixed Effects Filtered - FEF (Pesaran and Zhou, 2014)</a></div><div class=\"lev2 toc-item\"><a href=\"#3.-One-step-estimation-:-Untangling-Fixed-Effects---UFE-(Teulings,-Klaassen,-and-others-2016)-\" data-toc-modified-id=\"3.-One-step-estimation-:-Untangling-Fixed-Effects---UFE-(Teulings,-Klaassen,-and-others-2016)--33\"><span class=\"toc-item-num\">3.3&nbsp;&nbsp;</span>3. One-step estimation : Untangling Fixed Effects - UFE (Teulings, Klaassen, and others 2016) <a class=\"anchor\" id=\"III\"></a></a></div><div class=\"lev3 toc-item\"><a href=\"#Untangling-Normalisation\" data-toc-modified-id=\"Untangling-Normalisation-331\"><span class=\"toc-item-num\">3.3.1&nbsp;&nbsp;</span>Untangling Normalisation</a></div><div class=\"lev3 toc-item\"><a href=\"#Construction-of-$N^u$\" data-toc-modified-id=\"Construction-of-$N^u$-332\"><span class=\"toc-item-num\">3.3.2&nbsp;&nbsp;</span>Construction of <span class=\"MathJax_Preview\" style=\"color: inherit;\"></span><span class=\"MathJax MathJax_Processing\" id=\"MathJax-Element-46-Frame\" tabindex=\"0\"></span><script type=\"math/tex\" id=\"MathJax-Element-46\">N^u</script></a></div><div class=\"lev1 toc-item\"><a href=\"#III.-Monte-Carlo-Simulations\" data-toc-modified-id=\"III.-Monte-Carlo-Simulations-4\"><span class=\"toc-item-num\">4&nbsp;&nbsp;</span>III. Monte Carlo Simulations</a></div><div class=\"lev2 toc-item\"><a href=\"#1.-Replications\" data-toc-modified-id=\"1.-Replications-41\"><span class=\"toc-item-num\">4.1&nbsp;&nbsp;</span>1. Replications</a></div><div class=\"lev2 toc-item\"><a href=\"#2.-Analysis\" data-toc-modified-id=\"2.-Analysis-42\"><span class=\"toc-item-num\">4.2&nbsp;&nbsp;</span>2. Analysis</a></div><div class=\"lev3 toc-item\"><a href=\"#a.-Simple-DGP\" data-toc-modified-id=\"a.-Simple-DGP-421\"><span class=\"toc-item-num\">4.2.1&nbsp;&nbsp;</span>a. Simple DGP</a></div><div class=\"lev3 toc-item\"><a href=\"#(i)-UFE-and-FEF-are-the-same\" data-toc-modified-id=\"(i)-UFE-and-FEF-are-the-same-422\"><span class=\"toc-item-num\">4.2.2&nbsp;&nbsp;</span>(i) UFE and FEF are the same</a></div><div class=\"lev3 toc-item\"><a href=\"#(ii)-Comparison-of-FEF-and-FEVD\" data-toc-modified-id=\"(ii)-Comparison-of-FEF-and-FEVD-423\"><span class=\"toc-item-num\">4.2.3&nbsp;&nbsp;</span>(ii) Comparison of FEF and FEVD</a></div><div class=\"lev3 toc-item\"><a href=\"#b.-Pesaran's-DGP-:-case-1\" data-toc-modified-id=\"b.-Pesaran's-DGP-:-case-1-424\"><span class=\"toc-item-num\">4.2.4&nbsp;&nbsp;</span>b. Pesaran's DGP : case 1</a></div><div class=\"lev3 toc-item\"><a href=\"#c.-Pesaran's-DGP-:-case-2\" data-toc-modified-id=\"c.-Pesaran's-DGP-:-case-2-425\"><span class=\"toc-item-num\">4.2.5&nbsp;&nbsp;</span>c. Pesaran's DGP : case 2</a></div><div class=\"lev3 toc-item\"><a href=\"#d.-Pesaran's-DGP-:-case-3\" data-toc-modified-id=\"d.-Pesaran's-DGP-:-case-3-426\"><span class=\"toc-item-num\">4.2.6&nbsp;&nbsp;</span>d. Pesaran's DGP : case 3</a></div><div class=\"lev1 toc-item\"><a href=\"#Conclusion\" data-toc-modified-id=\"Conclusion-5\"><span class=\"toc-item-num\">5&nbsp;&nbsp;</span>Conclusion</a></div><div class=\"lev1 toc-item\"><a href=\"#Bibliography\" data-toc-modified-id=\"Bibliography-6\"><span class=\"toc-item-num\">6&nbsp;&nbsp;</span>Bibliography</a></div>"
   ]
  },
  {
   "cell_type": "code",
   "execution_count": 3,
   "metadata": {
    "ExecuteTime": {
     "end_time": "2017-01-12T16:57:37.184710",
     "start_time": "2017-01-12T15:57:37.155Z"
    },
    "collapsed": false,
    "extensions": {
     "jupyter_dashboards": {
      "version": 1,
      "views": {
       "grid_default": {
        "hidden": true
       },
       "report_default": {
        "hidden": false
       }
      }
     }
    },
    "nbpresent": {
     "id": "70ef10c9-d871-4d73-b836-58346fec2beb"
    },
    "scrolled": true
   },
   "outputs": [],
   "source": [
    "options(repr.plot.width=5, repr.plot.height=4)\n",
    "#install.packages('ggplot2', repos='http://cran.rstudio.com/')\n",
    "#install.packages('reshape', repos='http://cran.rstudio.com/')\n",
    "#install.packages('reshape2', repos='http://cran.rstudio.com/')\n",
    "#install.packages('plotly', repos='http://cran.rstudio.com/')\n",
    "#install.packages('plm', repos='http://cran.rstudio.com/')\n",
    "library('plm')\n",
    "library('ggplot2')\n",
    "library('plotly')\n",
    "\n",
    "Sys.setenv(\"plotly_username\"=\"NicolasWoloszko\")\n",
    "Sys.setenv(\"plotly_api_key\"=\"Rq01zHODMCjSxOiI6EsX\")\n",
    "\n",
    "options(repr.plot.width=8, repr.plot.height=4)"
   ]
  },
  {
   "cell_type": "markdown",
   "metadata": {
    "extensions": {
     "jupyter_dashboards": {
      "version": 1,
      "views": {
       "grid_default": {
        "col": 0,
        "height": 7,
        "hidden": false,
        "row": 43,
        "width": 12
       },
       "report_default": {
        "hidden": false
       }
      }
     }
    }
   },
   "source": [
    "# Introduction\n",
    "\n",
    "The following notebook aims at comparing various estimators of time-invariant variables in panel data settings. First, we compare two two-step estimators : \n",
    "* the Fixed Effects Vector Decomposition (FEVD) by Plumper and Troeger, that is much criticized by Greene as a 'naïve' estimator\n",
    "* the Fixed Effects Filtered (FEF) estimator, by Pesaran and Zhou, is supposed to have better asymptotic properties than the FEVD, as shown by the Monte Carlo simulations performed by the authors. \n",
    "\n",
    "Second, we introduce a one-step estimator, the Untangling Fixed Effects estimator (UFE), by Teulings and Klaassen. "
   ]
  },
  {
   "cell_type": "markdown",
   "metadata": {
    "extensions": {
     "jupyter_dashboards": {
      "version": 1,
      "views": {
       "grid_default": {
        "col": 4,
        "height": 4,
        "hidden": false,
        "row": 0,
        "width": 4
       },
       "report_default": {
        "hidden": false
       }
      }
     }
    }
   },
   "source": [
    "<a class=\"anchor\" id=\"I\"></a>"
   ]
  },
  {
   "cell_type": "markdown",
   "metadata": {
    "extensions": {
     "jupyter_dashboards": {
      "version": 1,
      "views": {
       "grid_default": {
        "col": 8,
        "height": 4,
        "hidden": false,
        "row": 0,
        "width": 4
       },
       "report_default": {
        "hidden": false
       }
      }
     }
    },
    "nbpresent": {
     "id": "12a51f07-f957-4625-bb2f-5e8fccffff17"
    }
   },
   "source": [
    "# I. The Data Generating Processes"
   ]
  },
  {
   "cell_type": "markdown",
   "metadata": {
    "extensions": {
     "jupyter_dashboards": {
      "version": 1,
      "views": {
       "grid_default": {
        "col": 0,
        "height": 4,
        "hidden": false,
        "row": 50,
        "width": 4
       },
       "report_default": {
        "hidden": false
       }
      }
     }
    }
   },
   "source": [
    "## 1. A simple version to begin with : DGP0"
   ]
  },
  {
   "cell_type": "markdown",
   "metadata": {
    "extensions": {
     "jupyter_dashboards": {
      "version": 1,
      "views": {
       "grid_default": {
        "col": 4,
        "height": 20,
        "hidden": false,
        "row": 50,
        "width": null
       },
       "report_default": {
        "hidden": false
       }
      }
     }
    },
    "nbpresent": {
     "id": "fffeb8b9-0f86-436b-95b2-41bd56f64108"
    }
   },
   "source": [
    "##### The model \n",
    "\n",
    "$$y_{it} = \\alpha_i + x_{1, it} \\beta_1+ x_{2, it} \\beta_2 +z_{i} \\gamma+ \\epsilon_{it}$$\n",
    "\n",
    "With  \n",
    "$$\\epsilon_{it} \\sim \\mathcal{N}(0, \\sigma^2)$$\n",
    "\n",
    "##### Country fixed effects :\n",
    "\n",
    "The country-fixed effects are correlated with the time-invariant variables\n",
    "$$\\alpha_{i} = \\bar z_i \\gamma + v_i$$\n",
    "$v_i$ is a small noise\n",
    "\n",
    "##### Time-varying regressors : \n",
    "\n",
    "$$x_{1, it} = 1 + \\alpha_i g_{1,t} + \\omega_{it,1}$$\n",
    "$$x_{2, it} = 1 + \\alpha_i g_{2,t} + \\omega_{it,2}$$\n",
    "\n",
    "Where the time effects $g_{1,t}$ and $g_{2,t}$ are generated as $U(0,2)$, and are then kept fixed across the replications. $\\omega_{it,1}$ and $\\omega_{it,2}$ are generated as AR(1) processes (we use a simplified version of PZ2014) : \n",
    "\n",
    "$$\\omega_{it,j} = \\mu_{ij} + \\rho_{ij} \\omega_{it-1,j} \\text{, for }j=1,2 $$ \n",
    "$$\\mu_{ij} \\sim \\mathcal{N}(0,2)$$\n",
    "$$\\rho_{ij} \\sim U[0, 0.98] $$\n",
    "\n",
    "##### Time-invariant covariates : \n",
    "* First step : $z_{it} \\sim U[0,1]$   \n",
    "* Second step : $z_{it}$ is an ordered combination of U[0,1] so as to resemble decreasing stairs  \n",
    "* Third step : $z_{it}$ is simulated by inversing the empirical distribution function"
   ]
  },
  {
   "cell_type": "markdown",
   "metadata": {
    "extensions": {
     "jupyter_dashboards": {
      "version": 1,
      "views": {
       "grid_default": {
        "col": 0,
        "height": 4,
        "hidden": false,
        "row": 54,
        "width": 4
       },
       "report_default": {
        "hidden": false
       }
      }
     }
    },
    "nbpresent": {
     "id": "ac0a1fe8-a308-4345-8dd2-32e2d015d5c5"
    }
   },
   "source": [
    "****"
   ]
  },
  {
   "cell_type": "code",
   "execution_count": 6,
   "metadata": {
    "ExecuteTime": {
     "end_time": "2017-01-12T16:58:05.812904",
     "start_time": "2017-01-12T15:58:05.770Z"
    },
    "collapsed": false,
    "extensions": {
     "jupyter_dashboards": {
      "version": 1,
      "views": {
       "grid_default": {
        "hidden": true
       },
       "report_default": {
        "hidden": false
       }
      }
     }
    },
    "nbpresent": {
     "id": "032ddf95-2dae-4020-b700-6c633b17d57f"
    }
   },
   "outputs": [],
   "source": [
    "DGP=function(N, T, beta1, beta2, gamma){\n",
    "    country=rep(1:N, each=T)\n",
    "    z=rep(runif(N, 0, 1), each=T)\n",
    "    alpha_bycountry=rnorm(N, 0, 0.1)\n",
    "    alpha=rep(alpha_bycountry, each=T)\n",
    "\n",
    "    z_bar_bycountry=aggregate(z,by=list(country), mean)\n",
    "    z_bar=rep(z_bar_bycountry[,2], each=T)\n",
    "\n",
    "    mu_bycountry1=rnorm(N, 0, 2)\n",
    "    rho_bycountry1=runif(N, 0, 0.98)\n",
    "\n",
    "    mu_bycountry2=rnorm(N, 0, 2)\n",
    "    rho_bycountry2=runif(N, 0, 0.98)\n",
    "\n",
    "    generate_omega<-function(rho, mu){\n",
    "        return(arima.sim(model=list(ar=c(rho)),innov = rep(mu, T), n=T))\n",
    "    } #AR(1) with a constant innovation varying across countries\n",
    "\n",
    "    omega1= as.vector(mapply(generate_omega, rho_bycountry1, mu_bycountry1))#mapply returns a matrix whose columns we stack in a single vector\n",
    "    omega2= as.vector(mapply(generate_omega, rho_bycountry2, mu_bycountry2))\n",
    "\n",
    "    g_byyear=runif(T, 0, 2)\n",
    "    g=unlist(rep(list(g_byyear), N))\n",
    "\n",
    "    x1=1 + alpha*g + omega1\n",
    "    x2=1 + alpha*g + omega2\n",
    "\n",
    "    epsilon=rnorm(N*T, 0, 3)\n",
    "\n",
    "    y=alpha + x1*beta1 + x2*beta2 +z*gamma+ epsilon\n",
    "    #print(length(alpha))\n",
    "    #print(length(x1))\n",
    "    years=rep(1:T, N)\n",
    "    d=cbind(country, years, y, x1, x2,z, alpha, epsilon)\n",
    "    d=as.data.frame(d)\n",
    "    \n",
    "    data=pdata.frame(d, c(\"country\",\"years\"))\n",
    "    return(data) \n",
    "}\n",
    "\n",
    "N=50\n",
    "T=30\n",
    "d=DGP(N=N, T=T, beta1=1.5, beta2=0.5, gamma=0.7)"
   ]
  },
  {
   "cell_type": "code",
   "execution_count": 34,
   "metadata": {
    "collapsed": false,
    "extensions": {
     "jupyter_dashboards": {
      "version": 1,
      "views": {
       "grid_default": {
        "col": 4,
        "height": 12,
        "hidden": false,
        "row": 105,
        "width": 7
       },
       "report_default": {
        "hidden": false
       }
      }
     }
    },
    "nbpresent": {
     "id": "2ec67921-f0c5-45b9-9753-f586a743d4d8"
    }
   },
   "outputs": [
    {
     "data": {
      "text/html": [
       "<table>\n",
       "<thead><tr><th></th><th scope=col>country</th><th scope=col>years</th><th scope=col>y</th><th scope=col>x1</th><th scope=col>x2</th><th scope=col>z</th><th scope=col>alpha</th><th scope=col>epsilon</th></tr></thead>\n",
       "<tbody>\n",
       "\t<tr><th scope=row>1-1</th><td>1          </td><td>1          </td><td>-0.8414555 </td><td>1.1853331  </td><td> -7.069506 </td><td>0.8092401  </td><td>-0.06933098</td><td> 0.4181610 </td></tr>\n",
       "\t<tr><th scope=row>1-2</th><td>1          </td><td>2          </td><td> 2.7589162 </td><td>0.9717086  </td><td> -8.136497 </td><td>0.8092401  </td><td>-0.06933098</td><td> 4.8724648 </td></tr>\n",
       "\t<tr><th scope=row>1-3</th><td>1          </td><td>3          </td><td>-3.3918263 </td><td>0.8900100  </td><td> -9.194114 </td><td>0.8092401  </td><td>-0.06933098</td><td>-0.6269211 </td></tr>\n",
       "\t<tr><th scope=row>1-4</th><td>1          </td><td>4          </td><td>-4.6974003 </td><td>0.7982939  </td><td>-10.268714 </td><td>0.8092401  </td><td>-0.06933098</td><td>-1.2576213 </td></tr>\n",
       "\t<tr><th scope=row>1-5</th><td>1          </td><td>5          </td><td>-6.3660395 </td><td>0.8044106  </td><td>-11.223049 </td><td>0.8092401  </td><td>-0.06933098</td><td>-2.4582681 </td></tr>\n",
       "\t<tr><th scope=row>1-6</th><td>1          </td><td>6          </td><td>-9.7938250 </td><td>0.7999871  </td><td>-12.158612 </td><td>0.8092401  </td><td>-0.06933098</td><td>-5.4116370 </td></tr>\n",
       "</tbody>\n",
       "</table>\n"
      ],
      "text/latex": [
       "\\begin{tabular}{r|llllllll}\n",
       "  & country & years & y & x1 & x2 & z & alpha & epsilon\\\\\n",
       "\\hline\n",
       "\t1-1 & 1           & 1           & -0.8414555  & 1.1853331   &  -7.069506  & 0.8092401   & -0.06933098 &  0.4181610 \\\\\n",
       "\t1-2 & 1           & 2           &  2.7589162  & 0.9717086   &  -8.136497  & 0.8092401   & -0.06933098 &  4.8724648 \\\\\n",
       "\t1-3 & 1           & 3           & -3.3918263  & 0.8900100   &  -9.194114  & 0.8092401   & -0.06933098 & -0.6269211 \\\\\n",
       "\t1-4 & 1           & 4           & -4.6974003  & 0.7982939   & -10.268714  & 0.8092401   & -0.06933098 & -1.2576213 \\\\\n",
       "\t1-5 & 1           & 5           & -6.3660395  & 0.8044106   & -11.223049  & 0.8092401   & -0.06933098 & -2.4582681 \\\\\n",
       "\t1-6 & 1           & 6           & -9.7938250  & 0.7999871   & -12.158612  & 0.8092401   & -0.06933098 & -5.4116370 \\\\\n",
       "\\end{tabular}\n"
      ],
      "text/markdown": [
       "\n",
       "| <!--/--> | country | years | y | x1 | x2 | z | alpha | epsilon | \n",
       "|---|---|---|---|---|---|\n",
       "| 1-1 | 1           | 1           | -0.8414555  | 1.1853331   |  -7.069506  | 0.8092401   | -0.06933098 |  0.4181610  | \n",
       "| 1-2 | 1           | 2           |  2.7589162  | 0.9717086   |  -8.136497  | 0.8092401   | -0.06933098 |  4.8724648  | \n",
       "| 1-3 | 1           | 3           | -3.3918263  | 0.8900100   |  -9.194114  | 0.8092401   | -0.06933098 | -0.6269211  | \n",
       "| 1-4 | 1           | 4           | -4.6974003  | 0.7982939   | -10.268714  | 0.8092401   | -0.06933098 | -1.2576213  | \n",
       "| 1-5 | 1           | 5           | -6.3660395  | 0.8044106   | -11.223049  | 0.8092401   | -0.06933098 | -2.4582681  | \n",
       "| 1-6 | 1           | 6           | -9.7938250  | 0.7999871   | -12.158612  | 0.8092401   | -0.06933098 | -5.4116370  | \n",
       "\n",
       "\n"
      ],
      "text/plain": [
       "    country years y          x1        x2         z         alpha      \n",
       "1-1 1       1     -0.8414555 1.1853331  -7.069506 0.8092401 -0.06933098\n",
       "1-2 1       2      2.7589162 0.9717086  -8.136497 0.8092401 -0.06933098\n",
       "1-3 1       3     -3.3918263 0.8900100  -9.194114 0.8092401 -0.06933098\n",
       "1-4 1       4     -4.6974003 0.7982939 -10.268714 0.8092401 -0.06933098\n",
       "1-5 1       5     -6.3660395 0.8044106 -11.223049 0.8092401 -0.06933098\n",
       "1-6 1       6     -9.7938250 0.7999871 -12.158612 0.8092401 -0.06933098\n",
       "    epsilon   \n",
       "1-1  0.4181610\n",
       "1-2  4.8724648\n",
       "1-3 -0.6269211\n",
       "1-4 -1.2576213\n",
       "1-5 -2.4582681\n",
       "1-6 -5.4116370"
      ]
     },
     "metadata": {},
     "output_type": "display_data"
    }
   ],
   "source": [
    "data=pdata.frame(d, c(\"country\",\"years\"))#, drop = TRUE)\n",
    "head(data)"
   ]
  },
  {
   "cell_type": "code",
   "execution_count": 7,
   "metadata": {
    "ExecuteTime": {
     "end_time": "2017-01-12T16:58:07.942916",
     "start_time": "2017-01-12T15:58:07.790Z"
    },
    "collapsed": false
   },
   "outputs": [
    {
     "data": {
      "image/png": "[encoded data removed]",
      "text/plain": [
       "plot without title"
      ]
     },
     "metadata": {},
     "output_type": "display_data"
    }
   ],
   "source": [
    "ts.plot(matrix(d$y, ncol=N))"
   ]
  },
  {
   "cell_type": "markdown",
   "metadata": {},
   "source": [
    "Plot of x1, x2, and z"
   ]
  },
  {
   "cell_type": "code",
   "execution_count": 23,
   "metadata": {
    "ExecuteTime": {
     "end_time": "2017-01-12T17:03:23.720500",
     "start_time": "2017-01-12T16:03:23.618Z"
    },
    "collapsed": false
   },
   "outputs": [
    {
     "ename": "ERROR",
     "evalue": "Error in matrix(d$z, ncol = N): 'data' doit être de type vecteur, il était 'NULL'\n",
     "output_type": "error",
     "traceback": [
      "Error in matrix(d$z, ncol = N): 'data' doit être de type vecteur, il était 'NULL'\nTraceback:\n",
      "1. ts.plot(matrix(d$z, ncol = N))",
      "2. matrix(d$z, ncol = N)"
     ]
    },
    {
     "data": {
      "image/png": "[encoded data removed]",
      "text/plain": [
       "plot without title"
      ]
     },
     "metadata": {},
     "output_type": "display_data"
    }
   ],
   "source": [
    "options(repr.plot.width=8, repr.plot.height=4)\n",
    "\n",
    "par(mfrow=c(1,2))\n",
    "ts.plot(matrix(d$x1, ncol=N))\n",
    "ts.plot(matrix(d$x2, ncol=N))\n",
    "ts.plot(matrix(d$z, ncol=N))"
   ]
  },
  {
   "cell_type": "markdown",
   "metadata": {
    "extensions": {
     "jupyter_dashboards": {
      "version": 1,
      "views": {
       "grid_default": {
        "col": 0,
        "height": 4,
        "hidden": false,
        "row": 112,
        "width": 4
       },
       "report_default": {
        "hidden": false
       }
      }
     }
    }
   },
   "source": [
    "## 2. Pesaran's DGP1 : exogenous TIV"
   ]
  },
  {
   "cell_type": "code",
   "execution_count": 11,
   "metadata": {
    "ExecuteTime": {
     "end_time": "2017-01-12T17:00:10.847136",
     "start_time": "2017-01-12T16:00:10.809Z"
    },
    "collapsed": false,
    "extensions": {
     "jupyter_dashboards": {
      "version": 1,
      "views": {
       "grid_default": {
        "hidden": true
       },
       "report_default": {
        "hidden": false
       }
      }
     }
    }
   },
   "outputs": [],
   "source": [
    "#Function coding\n",
    "DGP1=function(N, T, beta1, beta2, gamma1, gamma2, case){\n",
    "    country=rep(1:N, each=T)\n",
    "    z1=rep(1+rnorm(N, 0, 1), each=T)\n",
    "    z2=rep(runif(N, 7, 12), each=T)\n",
    "    \n",
    "    alpha_bycountry=0.5*(rchisq(N, 2)-2)\n",
    "    alpha=rep(alpha_bycountry, each=T)\n",
    "\n",
    "    #z_bar_bycountry=aggregate(z,by=list(country), mean)\n",
    "    #z_bar=rep(z_bar_bycountry[,2], each=T)\n",
    "\n",
    "    mu_bycountry1=rnorm(N, 0, 2)\n",
    "    rho_bycountry1=runif(N, 0, 0.98)\n",
    "\n",
    "    mu_bycountry2=rnorm(N, 0, 2)\n",
    "    rho_bycountry2=runif(N, 0, 0.98)\n",
    "    \n",
    "    sigma=0.5*(1+0.5*rchisq(N, 2))\n",
    "    \n",
    "    epsi1=rnorm(N, 0, sigma)\n",
    "    epsi2=rnorm(N, 0, sigma)\n",
    "    \n",
    "    omega_zero1_bycountry=rnorm(N, mu_bycountry1, sigma)\n",
    "    omega_zero2_bycountry=rnorm(N, mu_bycountry2, sigma)\n",
    "\n",
    "    generate_omega<-function(rho, mu, epsi, start){\n",
    "        vecteur_innovation=mu*(1-rho)+sqrt(1-rho^2)*epsi\n",
    "        return(arima.sim(model=list(ar=c(rho)),innov = rep(vecteur_innovation, T),start.innov=start, n.start=1, n=T))\n",
    "    } \n",
    "\n",
    "    #attention epsi 1 ou epsi2 !!!!!\n",
    "    omega1= as.vector(mapply(generate_omega, rho_bycountry1, mu_bycountry1, epsi1, omega_zero1_bycountry))#mapply returns a matrix whose columns we stack in a single vector\n",
    "    omega2= as.vector(mapply(generate_omega, rho_bycountry2, mu_bycountry2, epsi2, omega_zero2_bycountry))\n",
    "\n",
    "    g1_byyear=runif(T, 0, 2)\n",
    "    g1=unlist(rep(list(g1_byyear), N))\n",
    "\n",
    "    g2_byyear=runif(T, 0, 2)\n",
    "    g2=unlist(rep(list(g2_byyear), N))\n",
    "\n",
    "    x1=1 + alpha*g1 + omega1\n",
    "    x2=1 + alpha*g2 + omega2\n",
    "    \n",
    "    if (case==1){\n",
    "        epsilon=rnorm(N*T, 0, 1)\n",
    "    }\n",
    "    \n",
    "    if (case==2){\n",
    "        epsilon=as.vector(mapply((function (x) rnorm(T, 0, x)), sigma))\n",
    "    }\n",
    "    \n",
    "    if (case==3){\n",
    "        rho=runif(N, 0, 0.98)\n",
    "        sig=0.5*(1+0.5*rchisq(N, 2))\n",
    "        nu=rnorm(N, 0, sig)\n",
    "        generate_epsilon<-function(rho, sig, nu){\n",
    "            vecteur_innovation=nu*sqrt(1-rho^2)\n",
    "            return(arima.sim(model=list(ar=c(rho)),innov = rep(vecteur_innovation, T),start.innov=0, n.start=1, n=T))\n",
    "            } \n",
    "        epsilon=as.vector(mapply(generate_epsilon, rho, sig, nu))\n",
    "    }\n",
    "    \n",
    "    y=alpha + x1*beta1 + x2*beta2 +z1*gamma1+z2*gamma2+ epsilon\n",
    "    #print(length(alpha))\n",
    "    #print(length(x1))\n",
    "    years=rep(1:T, N)\n",
    "    d=cbind(country, years, y, x1, x2,z1, z2, alpha, epsilon)\n",
    "    d=as.data.frame(d)\n",
    "    \n",
    "    #data=pdata.frame(d, c(\"country\",\"years\"))\n",
    "    return(d) \n",
    "}\n",
    "\n",
    "d=DGP1(N=50, T=30, beta1=1, beta2=1, gamma=1, gamma2=1, case=3)"
   ]
  },
  {
   "cell_type": "markdown",
   "metadata": {
    "extensions": {
     "jupyter_dashboards": {
      "version": 1,
      "views": {
       "grid_default": {
        "col": 0,
        "height": 4,
        "hidden": false,
        "row": 116,
        "width": 4
       },
       "report_default": {
        "hidden": false
       }
      }
     }
    }
   },
   "source": [
    "Plot of y"
   ]
  },
  {
   "cell_type": "code",
   "execution_count": 12,
   "metadata": {
    "ExecuteTime": {
     "end_time": "2017-01-12T17:00:12.044409",
     "start_time": "2017-01-12T16:00:11.918Z"
    },
    "collapsed": false,
    "extensions": {
     "jupyter_dashboards": {
      "version": 1,
      "views": {
       "grid_default": {
        "col": 4,
        "height": 13,
        "hidden": false,
        "row": 117,
        "width": 4
       },
       "report_default": {
        "hidden": false
       }
      }
     }
    }
   },
   "outputs": [
    {
     "data": {
      "image/png": "[encoded data removed]",
      "text/plain": [
       "plot without title"
      ]
     },
     "metadata": {},
     "output_type": "display_data"
    }
   ],
   "source": [
    "N=50\n",
    "T=30\n",
    "d=DGP1(N=N, T=T, beta1=1, beta2=1, gamma=1, gamma2=1, case=1)\n",
    "ts.plot(matrix(d$y, ncol=N))"
   ]
  },
  {
   "cell_type": "markdown",
   "metadata": {
    "extensions": {
     "jupyter_dashboards": {
      "version": 1,
      "views": {
       "grid_default": {
        "col": 8,
        "height": 4,
        "hidden": false,
        "row": 117,
        "width": 4
       },
       "report_default": {
        "hidden": false
       }
      }
     }
    }
   },
   "source": [
    "Plot of x1 and x2 ; z1 and z2"
   ]
  },
  {
   "cell_type": "code",
   "execution_count": 19,
   "metadata": {
    "ExecuteTime": {
     "end_time": "2017-01-12T17:02:17.374287",
     "start_time": "2017-01-12T16:02:17.206Z"
    },
    "collapsed": false,
    "extensions": {
     "jupyter_dashboards": {
      "version": 1,
      "views": {
       "grid_default": {
        "col": 0,
        "height": 13,
        "hidden": false,
        "row": 120,
        "width": 4
       },
       "report_default": {
        "hidden": false
       }
      }
     }
    }
   },
   "outputs": [
    {
     "data": {
      "image/png": "[encoded data removed]",
      "text/plain": [
       "Plot with title “z2”"
      ]
     },
     "metadata": {},
     "output_type": "display_data"
    }
   ],
   "source": [
    "options(repr.plot.width=8, repr.plot.height=7)\n",
    "par(mfrow=c(2,2))\n",
    "ts.plot(matrix(d$x1, ncol=N), main=\"x1\")\n",
    "ts.plot(matrix(d$x2, ncol=N), main=\"x2\")\n",
    "ts.plot(matrix(d$z1, ncol=N), main=\"z1\")\n",
    "ts.plot(matrix(d$z2, ncol=N), main=\"z2\")"
   ]
  },
  {
   "cell_type": "markdown",
   "metadata": {
    "extensions": {
     "jupyter_dashboards": {
      "version": 1,
      "views": {
       "grid_default": {
        "col": 4,
        "height": 4,
        "hidden": false,
        "row": 130,
        "width": 4
       },
       "report_default": {
        "hidden": false
       }
      }
     }
    }
   },
   "source": [
    "## 3. Pesaran's DGP2 : TIV correlated with FE"
   ]
  },
  {
   "cell_type": "code",
   "execution_count": null,
   "metadata": {
    "collapsed": true,
    "extensions": {
     "jupyter_dashboards": {
      "version": 1,
      "views": {
       "grid_default": {
        "hidden": true
       },
       "report_default": {
        "hidden": false
       }
      }
     }
    }
   },
   "outputs": [],
   "source": []
  },
  {
   "cell_type": "markdown",
   "metadata": {
    "extensions": {
     "jupyter_dashboards": {
      "version": 1,
      "views": {
       "grid_default": {
        "col": 0,
        "height": 4,
        "hidden": false,
        "row": 133,
        "width": 4
       },
       "report_default": {
        "hidden": false
       }
      }
     }
    },
    "nbpresent": {
     "id": "09ff3668-3715-459b-a6bb-d52aa64997c4"
    }
   },
   "source": [
    "__________________________"
   ]
  },
  {
   "cell_type": "markdown",
   "metadata": {
    "extensions": {
     "jupyter_dashboards": {
      "version": 1,
      "views": {
       "grid_default": {
        "col": 4,
        "height": 4,
        "hidden": false,
        "row": 134,
        "width": 4
       },
       "report_default": {
        "hidden": false
       }
      }
     }
    }
   },
   "source": [
    "# II. Estimators"
   ]
  },
  {
   "cell_type": "markdown",
   "metadata": {
    "extensions": {
     "jupyter_dashboards": {
      "version": 1,
      "views": {
       "grid_default": {
        "col": 4,
        "height": 4,
        "hidden": false,
        "row": 138,
        "width": 4
       },
       "report_default": {
        "hidden": false
       }
      }
     }
    },
    "nbpresent": {
     "id": "01adc18c-190d-40bd-ad94-aa49b23c6ddd"
    }
   },
   "source": [
    "## 1. Naive method : Fixed Effects Vector Decomposition (FEVD) - (Plümper and Troeger 2007)"
   ]
  },
  {
   "cell_type": "markdown",
   "metadata": {
    "extensions": {
     "jupyter_dashboards": {
      "version": 1,
      "views": {
       "grid_default": {
        "col": 8,
        "height": 4,
        "hidden": false,
        "row": 138,
        "width": 4
       },
       "report_default": {
        "hidden": false
       }
      }
     }
    },
    "nbpresent": {
     "id": "c947fd52-1adb-4ac7-a2ef-b13e8d06b335"
    }
   },
   "source": [
    "###### Step 1:Fixed effects regression of y on x1 and x2"
   ]
  },
  {
   "cell_type": "markdown",
   "metadata": {
    "extensions": {
     "jupyter_dashboards": {
      "version": 1,
      "views": {
       "grid_default": {
        "col": 0,
        "height": 4,
        "hidden": false,
        "row": 141,
        "width": 4
       },
       "report_default": {
        "hidden": false
       }
      }
     }
    },
    "nbpresent": {
     "id": "b1b66d9e-b1dd-4e3c-ba18-f89b29119abb"
    }
   },
   "source": [
    "We create a country-mean version of the data"
   ]
  },
  {
   "cell_type": "code",
   "execution_count": 28,
   "metadata": {
    "collapsed": false,
    "extensions": {
     "jupyter_dashboards": {
      "version": 1,
      "views": {
       "grid_default": {
        "col": 4,
        "height": 8,
        "hidden": false,
        "row": 142,
        "width": 8
       },
       "report_default": {
        "hidden": false
       }
      }
     }
    },
    "nbpresent": {
     "id": "6780fa84-e2b9-4d55-8483-c026eb6075d1"
    }
   },
   "outputs": [
    {
     "data": {
      "text/html": [
       "<table>\n",
       "<thead><tr><th scope=col>Group.1</th><th scope=col>country</th><th scope=col>years</th><th scope=col>y</th><th scope=col>x1</th><th scope=col>x2</th><th scope=col>z</th><th scope=col>alpha</th><th scope=col>epsilon</th></tr></thead>\n",
       "<tbody>\n",
       "\t<tr><td>1           </td><td>1           </td><td>15.5        </td><td>-7.721654   </td><td> 0.8629154  </td><td>-18.697435  </td><td>0.8092401   </td><td>-0.06933098 </td><td>-0.164446791</td></tr>\n",
       "\t<tr><td>2           </td><td>2           </td><td>15.5        </td><td> 1.567281   </td><td> 1.1768016  </td><td> -1.770667  </td><td>0.6887985   </td><td>-0.06223774 </td><td> 0.267491157</td></tr>\n",
       "\t<tr><td>3           </td><td>3           </td><td>15.5        </td><td> 3.045966   </td><td> 1.2691506  </td><td>  2.191063  </td><td>0.3822505   </td><td> 0.10905247 </td><td>-0.329919267</td></tr>\n",
       "\t<tr><td>4           </td><td>4           </td><td>15.5        </td><td>23.928320   </td><td>12.1316701  </td><td> 11.300413  </td><td>0.2580496   </td><td>-0.10616018 </td><td> 0.006134125</td></tr>\n",
       "\t<tr><td>5           </td><td>5           </td><td>15.5        </td><td> 8.242754   </td><td> 5.2782650  </td><td> -2.758456  </td><td>0.9143260   </td><td> 0.14482177 </td><td> 0.919734264</td></tr>\n",
       "\t<tr><td>6           </td><td>6           </td><td>15.5        </td><td>-4.354291   </td><td>-2.3945253  </td><td>  1.058132  </td><td>0.3038223   </td><td>-0.15010475 </td><td>-1.354140182</td></tr>\n",
       "</tbody>\n",
       "</table>\n"
      ],
      "text/latex": [
       "\\begin{tabular}{r|lllllllll}\n",
       " Group.1 & country & years & y & x1 & x2 & z & alpha & epsilon\\\\\n",
       "\\hline\n",
       "\t 1            & 1            & 15.5         & -7.721654    &  0.8629154   & -18.697435   & 0.8092401    & -0.06933098  & -0.164446791\\\\\n",
       "\t 2            & 2            & 15.5         &  1.567281    &  1.1768016   &  -1.770667   & 0.6887985    & -0.06223774  &  0.267491157\\\\\n",
       "\t 3            & 3            & 15.5         &  3.045966    &  1.2691506   &   2.191063   & 0.3822505    &  0.10905247  & -0.329919267\\\\\n",
       "\t 4            & 4            & 15.5         & 23.928320    & 12.1316701   &  11.300413   & 0.2580496    & -0.10616018  &  0.006134125\\\\\n",
       "\t 5            & 5            & 15.5         &  8.242754    &  5.2782650   &  -2.758456   & 0.9143260    &  0.14482177  &  0.919734264\\\\\n",
       "\t 6            & 6            & 15.5         & -4.354291    & -2.3945253   &   1.058132   & 0.3038223    & -0.15010475  & -1.354140182\\\\\n",
       "\\end{tabular}\n"
      ],
      "text/markdown": [
       "\n",
       "Group.1 | country | years | y | x1 | x2 | z | alpha | epsilon | \n",
       "|---|---|---|---|---|---|\n",
       "| 1            | 1            | 15.5         | -7.721654    |  0.8629154   | -18.697435   | 0.8092401    | -0.06933098  | -0.164446791 | \n",
       "| 2            | 2            | 15.5         |  1.567281    |  1.1768016   |  -1.770667   | 0.6887985    | -0.06223774  |  0.267491157 | \n",
       "| 3            | 3            | 15.5         |  3.045966    |  1.2691506   |   2.191063   | 0.3822505    |  0.10905247  | -0.329919267 | \n",
       "| 4            | 4            | 15.5         | 23.928320    | 12.1316701   |  11.300413   | 0.2580496    | -0.10616018  |  0.006134125 | \n",
       "| 5            | 5            | 15.5         |  8.242754    |  5.2782650   |  -2.758456   | 0.9143260    |  0.14482177  |  0.919734264 | \n",
       "| 6            | 6            | 15.5         | -4.354291    | -2.3945253   |   1.058132   | 0.3038223    | -0.15010475  | -1.354140182 | \n",
       "\n",
       "\n"
      ],
      "text/plain": [
       "  Group.1 country years y         x1         x2         z         alpha      \n",
       "1 1       1       15.5  -7.721654  0.8629154 -18.697435 0.8092401 -0.06933098\n",
       "2 2       2       15.5   1.567281  1.1768016  -1.770667 0.6887985 -0.06223774\n",
       "3 3       3       15.5   3.045966  1.2691506   2.191063 0.3822505  0.10905247\n",
       "4 4       4       15.5  23.928320 12.1316701  11.300413 0.2580496 -0.10616018\n",
       "5 5       5       15.5   8.242754  5.2782650  -2.758456 0.9143260  0.14482177\n",
       "6 6       6       15.5  -4.354291 -2.3945253   1.058132 0.3038223 -0.15010475\n",
       "  epsilon     \n",
       "1 -0.164446791\n",
       "2  0.267491157\n",
       "3 -0.329919267\n",
       "4  0.006134125\n",
       "5  0.919734264\n",
       "6 -1.354140182"
      ]
     },
     "metadata": {},
     "output_type": "display_data"
    }
   ],
   "source": [
    "data_cmean=aggregate(d, by=list(data$country), FUN=mean)\n",
    "head(data_cmean)"
   ]
  },
  {
   "cell_type": "markdown",
   "metadata": {
    "extensions": {
     "jupyter_dashboards": {
      "version": 1,
      "views": {
       "grid_default": {
        "col": 0,
        "height": 4,
        "hidden": false,
        "row": 145,
        "width": 4
       },
       "report_default": {
        "hidden": false
       }
      }
     }
    },
    "nbpresent": {
     "id": "09014a69-c2f6-4c37-9c67-58c6bf1fefb4"
    }
   },
   "source": [
    "We then run the linear regression on the original dataset, regarding the country indexes as categorical variables"
   ]
  },
  {
   "cell_type": "code",
   "execution_count": 39,
   "metadata": {
    "collapsed": false,
    "extensions": {
     "jupyter_dashboards": {
      "version": 1,
      "views": {
       "grid_default": {
        "col": 0,
        "height": 19,
        "hidden": false,
        "row": 149,
        "width": 4
       },
       "report_default": {
        "hidden": false
       }
      }
     }
    },
    "nbpresent": {
     "id": "42872c6f-7eb1-4922-b76a-d8200295dd56"
    }
   },
   "outputs": [
    {
     "data": {
      "text/plain": [
       "Oneway (individual) effect Within Model\n",
       "\n",
       "Call:\n",
       "plm(formula = y ~ x1 + x2, data = data, effect = \"individual\", \n",
       "    model = \"within\")\n",
       "\n",
       "Balanced Panel: n=50, T=30, N=1500\n",
       "\n",
       "Residuals :\n",
       "    Min.  1st Qu.   Median  3rd Qu.     Max. \n",
       "-10.6000  -2.0800  -0.0274   1.9400  11.5000 \n",
       "\n",
       "Coefficients :\n",
       "   Estimate Std. Error t-value  Pr(>|t|)    \n",
       "x1 1.522808   0.024005  63.436 < 2.2e-16 ***\n",
       "x2 0.490208   0.039922  12.279 < 2.2e-16 ***\n",
       "---\n",
       "Signif. codes:  0 ‘***’ 0.001 ‘**’ 0.01 ‘*’ 0.05 ‘.’ 0.1 ‘ ’ 1\n",
       "\n",
       "Total Sum of Squares:    52572\n",
       "Residual Sum of Squares: 13513\n",
       "R-Squared:      0.74296\n",
       "Adj. R-Squared: 0.71721\n",
       "F-statistic: 2092.7 on 2 and 1448 DF, p-value: < 2.22e-16"
      ]
     },
     "metadata": {},
     "output_type": "display_data"
    }
   ],
   "source": [
    "M1=plm(y~x1+x2, data=data, effect=\"individual\", model=\"within\")\n",
    "summary(M1)\n",
    "#M1$residuals"
   ]
  },
  {
   "cell_type": "markdown",
   "metadata": {
    "extensions": {
     "jupyter_dashboards": {
      "version": 1,
      "views": {
       "grid_default": {
        "col": 11,
        "height": 4,
        "hidden": false,
        "row": 105,
        "width": null
       },
       "report_default": {
        "hidden": false
       }
      }
     }
    },
    "nbpresent": {
     "id": "32d4c670-e5ad-4d7f-bbe3-7b089bad30de"
    }
   },
   "source": [
    "\"We run  this FE model with the sole intention to obtain estimates of the unit effects $\\hat u_i$\n",
    "\n",
    "$\\hat u_i = \\bar y_i - \\beta_1 \\bar x_1 + \\beta_2 \\bar x_2 - \\bar \\epsilon$\n",
    "\n",
    "$\\bar \\epsilon=0$ by construction"
   ]
  },
  {
   "cell_type": "code",
   "execution_count": 58,
   "metadata": {
    "collapsed": false,
    "extensions": {
     "jupyter_dashboards": {
      "version": 1,
      "views": {
       "grid_default": {
        "col": 0,
        "height": 8,
        "hidden": false,
        "row": 168,
        "width": 9
       },
       "report_default": {
        "hidden": false
       }
      }
     }
    },
    "nbpresent": {
     "id": "0a745b31-977a-4400-827c-a5ec7b6a21ef"
    }
   },
   "outputs": [
    {
     "data": {
      "text/html": [
       "<table>\n",
       "<thead><tr><th scope=col>Group.1</th><th scope=col>country</th><th scope=col>years</th><th scope=col>y</th><th scope=col>x1</th><th scope=col>x2</th><th scope=col>z</th><th scope=col>alpha</th><th scope=col>epsilon</th><th scope=col>ui_hat_mean</th></tr></thead>\n",
       "<tbody>\n",
       "\t<tr><td>1           </td><td>1           </td><td>15.5        </td><td>-7.721654   </td><td> 0.8629154  </td><td>-18.697435  </td><td>0.8092401   </td><td>-0.06933098 </td><td>-0.164446791</td><td> 0.12992350 </td></tr>\n",
       "\t<tr><td>2           </td><td>2           </td><td>15.5        </td><td> 1.567281   </td><td> 1.1768016  </td><td> -1.770667  </td><td>0.6887985   </td><td>-0.06223774 </td><td> 0.267491157</td><td> 0.64323309 </td></tr>\n",
       "\t<tr><td>3           </td><td>3           </td><td>15.5        </td><td> 3.045966   </td><td> 1.2691506  </td><td>  2.191063  </td><td>0.3822505   </td><td> 0.10905247 </td><td>-0.329919267</td><td> 0.03921622 </td></tr>\n",
       "\t<tr><td>4           </td><td>4           </td><td>15.5        </td><td>23.928320   </td><td>12.1316701  </td><td> 11.300413  </td><td>0.2580496   </td><td>-0.10616018 </td><td> 0.006134125</td><td>-0.08544118 </td></tr>\n",
       "\t<tr><td>5           </td><td>5           </td><td>15.5        </td><td> 8.242754   </td><td> 5.2782650  </td><td> -2.758456  </td><td>0.9143260   </td><td> 0.14482177 </td><td> 0.919734264</td><td> 1.55718496 </td></tr>\n",
       "\t<tr><td>6           </td><td>6           </td><td>15.5        </td><td>-4.354291   </td><td>-2.3945253  </td><td>  1.058132  </td><td>0.3038223   </td><td>-0.15010475 </td><td>-1.354140182</td><td>-1.22659296 </td></tr>\n",
       "</tbody>\n",
       "</table>\n"
      ],
      "text/latex": [
       "\\begin{tabular}{r|llllllllll}\n",
       " Group.1 & country & years & y & x1 & x2 & z & alpha & epsilon & ui\\_hat\\_mean\\\\\n",
       "\\hline\n",
       "\t 1            & 1            & 15.5         & -7.721654    &  0.8629154   & -18.697435   & 0.8092401    & -0.06933098  & -0.164446791 &  0.12992350 \\\\\n",
       "\t 2            & 2            & 15.5         &  1.567281    &  1.1768016   &  -1.770667   & 0.6887985    & -0.06223774  &  0.267491157 &  0.64323309 \\\\\n",
       "\t 3            & 3            & 15.5         &  3.045966    &  1.2691506   &   2.191063   & 0.3822505    &  0.10905247  & -0.329919267 &  0.03921622 \\\\\n",
       "\t 4            & 4            & 15.5         & 23.928320    & 12.1316701   &  11.300413   & 0.2580496    & -0.10616018  &  0.006134125 & -0.08544118 \\\\\n",
       "\t 5            & 5            & 15.5         &  8.242754    &  5.2782650   &  -2.758456   & 0.9143260    &  0.14482177  &  0.919734264 &  1.55718496 \\\\\n",
       "\t 6            & 6            & 15.5         & -4.354291    & -2.3945253   &   1.058132   & 0.3038223    & -0.15010475  & -1.354140182 & -1.22659296 \\\\\n",
       "\\end{tabular}\n"
      ],
      "text/markdown": [
       "\n",
       "Group.1 | country | years | y | x1 | x2 | z | alpha | epsilon | ui_hat_mean | \n",
       "|---|---|---|---|---|---|\n",
       "| 1            | 1            | 15.5         | -7.721654    |  0.8629154   | -18.697435   | 0.8092401    | -0.06933098  | -0.164446791 |  0.12992350  | \n",
       "| 2            | 2            | 15.5         |  1.567281    |  1.1768016   |  -1.770667   | 0.6887985    | -0.06223774  |  0.267491157 |  0.64323309  | \n",
       "| 3            | 3            | 15.5         |  3.045966    |  1.2691506   |   2.191063   | 0.3822505    |  0.10905247  | -0.329919267 |  0.03921622  | \n",
       "| 4            | 4            | 15.5         | 23.928320    | 12.1316701   |  11.300413   | 0.2580496    | -0.10616018  |  0.006134125 | -0.08544118  | \n",
       "| 5            | 5            | 15.5         |  8.242754    |  5.2782650   |  -2.758456   | 0.9143260    |  0.14482177  |  0.919734264 |  1.55718496  | \n",
       "| 6            | 6            | 15.5         | -4.354291    | -2.3945253   |   1.058132   | 0.3038223    | -0.15010475  | -1.354140182 | -1.22659296  | \n",
       "\n",
       "\n"
      ],
      "text/plain": [
       "  Group.1 country years y         x1         x2         z         alpha      \n",
       "1 1       1       15.5  -7.721654  0.8629154 -18.697435 0.8092401 -0.06933098\n",
       "2 2       2       15.5   1.567281  1.1768016  -1.770667 0.6887985 -0.06223774\n",
       "3 3       3       15.5   3.045966  1.2691506   2.191063 0.3822505  0.10905247\n",
       "4 4       4       15.5  23.928320 12.1316701  11.300413 0.2580496 -0.10616018\n",
       "5 5       5       15.5   8.242754  5.2782650  -2.758456 0.9143260  0.14482177\n",
       "6 6       6       15.5  -4.354291 -2.3945253   1.058132 0.3038223 -0.15010475\n",
       "  epsilon      ui_hat_mean\n",
       "1 -0.164446791  0.12992350\n",
       "2  0.267491157  0.64323309\n",
       "3 -0.329919267  0.03921622\n",
       "4  0.006134125 -0.08544118\n",
       "5  0.919734264  1.55718496\n",
       "6 -1.354140182 -1.22659296"
      ]
     },
     "metadata": {},
     "output_type": "display_data"
    }
   ],
   "source": [
    "data_cmean$ui_hat_mean=data_cmean$y - M1$coefficients[1] * data_cmean$x1 -M1$coefficients[2] * data_cmean$x2 \n",
    "#ui_hat=data$y - M1$coefficients[1] * data$x1 -M1$coefficients[2] * data$x2 \n",
    "#ui_hat_mean=(aggregate(ui_hat, by=list(country), FUN=mean)['x'])$x #average over time by country of the residuals\n",
    "head(data_cmean)"
   ]
  },
  {
   "cell_type": "markdown",
   "metadata": {
    "extensions": {
     "jupyter_dashboards": {
      "version": 1,
      "views": {
       "grid_default": {
        "col": 11,
        "height": 4,
        "hidden": false,
        "row": 109,
        "width": null
       },
       "report_default": {
        "hidden": false
       }
      }
     }
    },
    "nbpresent": {
     "id": "a9b190f9-2693-446e-84b9-1cded20e718e"
    }
   },
   "source": [
    "###### Step 2 : The estimated unit effect $\\hat u_i$ are regressed on the TIV to obtain an estimator of $\\gamma$ (without an intercept)"
   ]
  },
  {
   "cell_type": "code",
   "execution_count": 59,
   "metadata": {
    "collapsed": false,
    "extensions": {
     "jupyter_dashboards": {
      "version": 1,
      "views": {
       "grid_default": {
        "col": 4,
        "height": 16,
        "hidden": false,
        "row": 150,
        "width": 4
       },
       "report_default": {
        "hidden": false
       }
      }
     }
    },
    "nbpresent": {
     "id": "19a610de-64f8-48c0-8b18-075d9c825266"
    }
   },
   "outputs": [
    {
     "data": {
      "text/plain": [
       "\n",
       "Call:\n",
       "lm(formula = ui_hat_mean ~ 0 + z, data = data_cmean)\n",
       "\n",
       "Residuals:\n",
       "     Min       1Q   Median       3Q      Max \n",
       "-1.74444 -0.36879  0.04249  0.58353  1.48786 \n",
       "\n",
       "Coefficients:\n",
       "  Estimate Std. Error t value Pr(>|t|)    \n",
       "z   0.6725     0.1666   4.037  0.00019 ***\n",
       "---\n",
       "Signif. codes:  0 ‘***’ 0.001 ‘**’ 0.01 ‘*’ 0.05 ‘.’ 0.1 ‘ ’ 1\n",
       "\n",
       "Residual standard error: 0.7287 on 49 degrees of freedom\n",
       "Multiple R-squared:  0.2496,\tAdjusted R-squared:  0.2343 \n",
       "F-statistic:  16.3 on 1 and 49 DF,  p-value: 0.0001898\n"
      ]
     },
     "metadata": {},
     "output_type": "display_data"
    }
   ],
   "source": [
    "M2=lm(ui_hat_mean~0+z, data=data_cmean)\n",
    "summary(M2)"
   ]
  },
  {
   "cell_type": "markdown",
   "metadata": {
    "extensions": {
     "jupyter_dashboards": {
      "version": 1,
      "views": {
       "grid_default": {
        "col": 11,
        "height": 4,
        "hidden": false,
        "row": 113,
        "width": null
       },
       "report_default": {
        "hidden": false
       }
      }
     }
    },
    "nbpresent": {
     "id": "cf3d726b-5ad4-449c-899d-ecaf793441f0"
    }
   },
   "source": [
    "We thus compute the residual $h_i$"
   ]
  },
  {
   "cell_type": "code",
   "execution_count": 64,
   "metadata": {
    "collapsed": false,
    "extensions": {
     "jupyter_dashboards": {
      "version": 1,
      "views": {
       "grid_default": {
        "col": 0,
        "height": 12,
        "hidden": false,
        "row": 176,
        "width": 8
       },
       "report_default": {
        "hidden": false
       }
      }
     }
    },
    "nbpresent": {
     "id": "03cfd81c-c609-4076-81c7-707f35dde36e"
    }
   },
   "outputs": [
    {
     "data": {
      "text/html": [
       "<table>\n",
       "<thead><tr><th></th><th scope=col>country</th><th scope=col>years</th><th scope=col>y</th><th scope=col>x1</th><th scope=col>x2</th><th scope=col>z</th><th scope=col>alpha</th><th scope=col>epsilon</th><th scope=col>hi</th></tr></thead>\n",
       "<tbody>\n",
       "\t<tr><th scope=row>1-1</th><td>1          </td><td>1          </td><td>-0.8414555 </td><td>1.1853331  </td><td> -7.069506 </td><td>0.8092401  </td><td>-0.06933098</td><td> 0.4181610 </td><td>-0.4142919 </td></tr>\n",
       "\t<tr><th scope=row>1-2</th><td>1          </td><td>2          </td><td> 2.7589162 </td><td>0.9717086  </td><td> -8.136497 </td><td>0.8092401  </td><td>-0.06933098</td><td> 4.8724648 </td><td>-0.4142919 </td></tr>\n",
       "\t<tr><th scope=row>1-3</th><td>1          </td><td>3          </td><td>-3.3918263 </td><td>0.8900100  </td><td> -9.194114 </td><td>0.8092401  </td><td>-0.06933098</td><td>-0.6269211 </td><td>-0.4142919 </td></tr>\n",
       "\t<tr><th scope=row>1-4</th><td>1          </td><td>4          </td><td>-4.6974003 </td><td>0.7982939  </td><td>-10.268714 </td><td>0.8092401  </td><td>-0.06933098</td><td>-1.2576213 </td><td>-0.4142919 </td></tr>\n",
       "\t<tr><th scope=row>1-5</th><td>1          </td><td>5          </td><td>-6.3660395 </td><td>0.8044106  </td><td>-11.223049 </td><td>0.8092401  </td><td>-0.06933098</td><td>-2.4582681 </td><td>-0.4142919 </td></tr>\n",
       "\t<tr><th scope=row>1-6</th><td>1          </td><td>6          </td><td>-9.7938250 </td><td>0.7999871  </td><td>-12.158612 </td><td>0.8092401  </td><td>-0.06933098</td><td>-5.4116370 </td><td>-0.4142919 </td></tr>\n",
       "</tbody>\n",
       "</table>\n"
      ],
      "text/latex": [
       "\\begin{tabular}{r|lllllllll}\n",
       "  & country & years & y & x1 & x2 & z & alpha & epsilon & hi\\\\\n",
       "\\hline\n",
       "\t1-1 & 1           & 1           & -0.8414555  & 1.1853331   &  -7.069506  & 0.8092401   & -0.06933098 &  0.4181610  & -0.4142919 \\\\\n",
       "\t1-2 & 1           & 2           &  2.7589162  & 0.9717086   &  -8.136497  & 0.8092401   & -0.06933098 &  4.8724648  & -0.4142919 \\\\\n",
       "\t1-3 & 1           & 3           & -3.3918263  & 0.8900100   &  -9.194114  & 0.8092401   & -0.06933098 & -0.6269211  & -0.4142919 \\\\\n",
       "\t1-4 & 1           & 4           & -4.6974003  & 0.7982939   & -10.268714  & 0.8092401   & -0.06933098 & -1.2576213  & -0.4142919 \\\\\n",
       "\t1-5 & 1           & 5           & -6.3660395  & 0.8044106   & -11.223049  & 0.8092401   & -0.06933098 & -2.4582681  & -0.4142919 \\\\\n",
       "\t1-6 & 1           & 6           & -9.7938250  & 0.7999871   & -12.158612  & 0.8092401   & -0.06933098 & -5.4116370  & -0.4142919 \\\\\n",
       "\\end{tabular}\n"
      ],
      "text/markdown": [
       "\n",
       "| <!--/--> | country | years | y | x1 | x2 | z | alpha | epsilon | hi | \n",
       "|---|---|---|---|---|---|\n",
       "| 1-1 | 1           | 1           | -0.8414555  | 1.1853331   |  -7.069506  | 0.8092401   | -0.06933098 |  0.4181610  | -0.4142919  | \n",
       "| 1-2 | 1           | 2           |  2.7589162  | 0.9717086   |  -8.136497  | 0.8092401   | -0.06933098 |  4.8724648  | -0.4142919  | \n",
       "| 1-3 | 1           | 3           | -3.3918263  | 0.8900100   |  -9.194114  | 0.8092401   | -0.06933098 | -0.6269211  | -0.4142919  | \n",
       "| 1-4 | 1           | 4           | -4.6974003  | 0.7982939   | -10.268714  | 0.8092401   | -0.06933098 | -1.2576213  | -0.4142919  | \n",
       "| 1-5 | 1           | 5           | -6.3660395  | 0.8044106   | -11.223049  | 0.8092401   | -0.06933098 | -2.4582681  | -0.4142919  | \n",
       "| 1-6 | 1           | 6           | -9.7938250  | 0.7999871   | -12.158612  | 0.8092401   | -0.06933098 | -5.4116370  | -0.4142919  | \n",
       "\n",
       "\n"
      ],
      "text/plain": [
       "    country years y          x1        x2         z         alpha      \n",
       "1-1 1       1     -0.8414555 1.1853331  -7.069506 0.8092401 -0.06933098\n",
       "1-2 1       2      2.7589162 0.9717086  -8.136497 0.8092401 -0.06933098\n",
       "1-3 1       3     -3.3918263 0.8900100  -9.194114 0.8092401 -0.06933098\n",
       "1-4 1       4     -4.6974003 0.7982939 -10.268714 0.8092401 -0.06933098\n",
       "1-5 1       5     -6.3660395 0.8044106 -11.223049 0.8092401 -0.06933098\n",
       "1-6 1       6     -9.7938250 0.7999871 -12.158612 0.8092401 -0.06933098\n",
       "    epsilon    hi        \n",
       "1-1  0.4181610 -0.4142919\n",
       "1-2  4.8724648 -0.4142919\n",
       "1-3 -0.6269211 -0.4142919\n",
       "1-4 -1.2576213 -0.4142919\n",
       "1-5 -2.4582681 -0.4142919\n",
       "1-6 -5.4116370 -0.4142919"
      ]
     },
     "metadata": {},
     "output_type": "display_data"
    }
   ],
   "source": [
    "#hi=rep(M2$residuals, each=T)\n",
    "#data_fevd=cbind(data, hi)\n",
    "\n",
    "head(data)"
   ]
  },
  {
   "cell_type": "markdown",
   "metadata": {
    "extensions": {
     "jupyter_dashboards": {
      "version": 1,
      "views": {
       "grid_default": {
        "col": 8,
        "height": 4,
        "hidden": false,
        "row": 150,
        "width": null
       },
       "report_default": {
        "hidden": false
       }
      }
     }
    },
    "nbpresent": {
     "id": "3fc979c1-9595-454e-b8f6-c0e16bc70212"
    }
   },
   "source": [
    "###### Step 3 : Pooled OLS regression using the $h_i$ as estimates of fixed effects : \n",
    "\n",
    "$$y_{it} = \\delta h_i + x_{1, it} \\beta_1+ x_{2, it} \\beta_2 +z_{it} \\gamma+ \\epsilon_{it}$$"
   ]
  },
  {
   "cell_type": "code",
   "execution_count": 65,
   "metadata": {
    "collapsed": false,
    "extensions": {
     "jupyter_dashboards": {
      "version": 1,
      "views": {
       "grid_default": {
        "col": 8,
        "height": 20,
        "hidden": false,
        "row": 176,
        "width": 4
       },
       "report_default": {
        "hidden": false
       }
      }
     }
    },
    "nbpresent": {
     "id": "8ace141c-677c-4bb9-83ab-7fef6c4ac527"
    }
   },
   "outputs": [
    {
     "data": {
      "text/plain": [
       "\n",
       "Call:\n",
       "lm(formula = y ~ hi + x1 + x2 + z, data = data)\n",
       "\n",
       "Residuals:\n",
       "     Min       1Q   Median       3Q      Max \n",
       "-10.5990  -2.0849  -0.0274   1.9360  11.4964 \n",
       "\n",
       "Coefficients:\n",
       "              Estimate Std. Error t value Pr(>|t|)    \n",
       "(Intercept) -7.270e-15  1.815e-01   0.000   1.0000    \n",
       "hi           1.000e+00  1.262e-01   7.926 4.38e-15 ***\n",
       "x1           1.523e+00  9.718e-03 156.697  < 2e-16 ***\n",
       "x2           4.902e-01  1.216e-02  40.307  < 2e-16 ***\n",
       "z            6.725e-01  2.948e-01   2.281   0.0227 *  \n",
       "---\n",
       "Signif. codes:  0 ‘***’ 0.001 ‘**’ 0.01 ‘*’ 0.05 ‘.’ 0.1 ‘ ’ 1\n",
       "\n",
       "Residual standard error: 3.006 on 1495 degrees of freedom\n",
       "Multiple R-squared:  0.9591,\tAdjusted R-squared:  0.959 \n",
       "F-statistic:  8757 on 4 and 1495 DF,  p-value: < 2.2e-16\n"
      ]
     },
     "metadata": {},
     "output_type": "display_data"
    }
   ],
   "source": [
    "#M3=lm(y~hi+x1+x2+z, data=data_fevd)\n",
    "M3=lm(y~hi+x1+x2+z, data=data)\n",
    "summary(M3)"
   ]
  },
  {
   "cell_type": "code",
   "execution_count": 66,
   "metadata": {
    "collapsed": false,
    "extensions": {
     "jupyter_dashboards": {
      "version": 1,
      "views": {
       "grid_default": {
        "col": 8,
        "height": 4,
        "hidden": false,
        "row": 154,
        "width": 4
       },
       "report_default": {
        "hidden": false
       }
      }
     }
    },
    "nbpresent": {
     "id": "d16e2120-d02c-40ab-8920-d6dfe370e80e"
    }
   },
   "outputs": [
    {
     "data": {
      "text/html": [
       "<strong>z:</strong> 0.672501733196908"
      ],
      "text/latex": [
       "\\textbf{z:} 0.672501733196908"
      ],
      "text/markdown": [
       "**z:** 0.672501733196908"
      ],
      "text/plain": [
       "        z \n",
       "0.6725017 "
      ]
     },
     "metadata": {},
     "output_type": "display_data"
    }
   ],
   "source": [
    "M3$coefficients[5]"
   ]
  },
  {
   "cell_type": "code",
   "execution_count": 120,
   "metadata": {
    "ExecuteTime": {
     "end_time": "2017-01-11T17:33:30.976325",
     "start_time": "2017-01-11T16:33:30.916Z"
    },
    "collapsed": false,
    "extensions": {
     "jupyter_dashboards": {
      "version": 1,
      "views": {
       "grid_default": {
        "col": 8,
        "height": 4,
        "hidden": false,
        "row": 158,
        "width": 4
       },
       "report_default": {
        "hidden": false
       }
      }
     }
    },
    "nbpresent": {
     "id": "b48c901e-eee4-4bd6-9c6e-455ba3bc40ca"
    }
   },
   "outputs": [
    {
     "data": {
      "text/html": [
       "<dl class=dl-horizontal>\n",
       "\t<dt>x1</dt>\n",
       "\t\t<dd>1.00798845720732</dd>\n",
       "\t<dt>x2</dt>\n",
       "\t\t<dd>0.995772651528629</dd>\n",
       "</dl>\n"
      ],
      "text/latex": [
       "\\begin{description*}\n",
       "\\item[x1] 1.00798845720732\n",
       "\\item[x2] 0.995772651528629\n",
       "\\end{description*}\n"
      ],
      "text/markdown": [
       "x1\n",
       ":   1.00798845720732x2\n",
       ":   0.995772651528629\n",
       "\n"
      ],
      "text/plain": [
       "       x1        x2 \n",
       "1.0079885 0.9957727 "
      ]
     },
     "metadata": {},
     "output_type": "display_data"
    }
   ],
   "source": [
    "#Function coding\n",
    "FEVD = function (d, TIVs){\n",
    "    T=max(as.numeric(as.character(d$years)))\n",
    "    data=pdata.frame(d, c(\"country\",\"years\")) \n",
    "    data_cmean=aggregate(d, by=list(country=d$country), FUN=mean)\n",
    "    M1=plm(y~x1+x2, data=data, effect=\"individual\", model=\"within\")\n",
    "    data_cmean$ui_hat_mean=data_cmean$y - M1$coefficients[1] * data_cmean$x1 -M1$coefficients[2] * data_cmean$x2 \n",
    "    \n",
    "    fmla=as.formula(paste(\"ui_hat_mean~0+\", paste(TIVs, collapse=\"+\"), sep=\" \"))\n",
    "    M2=lm(fmla, data=data_cmean)\n",
    "    \n",
    "    fmla2=as.formula(paste(\"y~hi+x1+x2+\", paste(TIVs, collapse=\"+\"), sep=\" \"))\n",
    "    data$hi=rep(M2$residuals, each=T)\n",
    "    M3=lm(fmla2, data=data)\n",
    "    #return(M3$coefficients[c(5,6)])\n",
    "    return(M1$coefficients)\n",
    "}\n",
    "\n",
    "\n",
    "FEVD(d, TIVs=list(\"z1\", \"z2\"))"
   ]
  },
  {
   "cell_type": "code",
   "execution_count": 122,
   "metadata": {
    "ExecuteTime": {
     "end_time": "2017-01-11T17:37:06.992951",
     "start_time": "2017-01-11T16:37:06.974Z"
    },
    "collapsed": false,
    "extensions": {
     "jupyter_dashboards": {
      "version": 1,
      "views": {
       "grid_default": {
        "col": 8,
        "height": 4,
        "hidden": false,
        "row": 162,
        "width": 4
       },
       "report_default": {
        "hidden": false
       }
      }
     }
    }
   },
   "outputs": [
    {
     "data": {
      "text/html": [
       "<ol class=list-inline>\n",
       "\t<li>14.4609658889165</li>\n",
       "\t<li>11.4784095547524</li>\n",
       "\t<li>9.49887682138406</li>\n",
       "\t<li>8.40877488996002</li>\n",
       "\t<li>11.8552977261288</li>\n",
       "</ol>\n"
      ],
      "text/latex": [
       "\\begin{enumerate*}\n",
       "\\item 14.4609658889165\n",
       "\\item 11.4784095547524\n",
       "\\item 9.49887682138406\n",
       "\\item 8.40877488996002\n",
       "\\item 11.8552977261288\n",
       "\\end{enumerate*}\n"
      ],
      "text/markdown": [
       "1. 14.4609658889165\n",
       "2. 11.4784095547524\n",
       "3. 9.49887682138406\n",
       "4. 8.40877488996002\n",
       "5. 11.8552977261288\n",
       "\n",
       "\n"
      ],
      "text/plain": [
       "[1] 14.460966 11.478410  9.498877  8.408775 11.855298"
      ]
     },
     "metadata": {},
     "output_type": "display_data"
    }
   ],
   "source": [
    "data_cmean$y - M1$coefficients[1] * data_cmean$x1 -M1$coefficients[2] * data_cmean$x2 "
   ]
  },
  {
   "cell_type": "code",
   "execution_count": null,
   "metadata": {
    "collapsed": true,
    "extensions": {
     "jupyter_dashboards": {
      "version": 1,
      "views": {
       "grid_default": {
        "hidden": true
       },
       "report_default": {
        "hidden": false
       }
      }
     }
    }
   },
   "outputs": [],
   "source": []
  },
  {
   "cell_type": "code",
   "execution_count": null,
   "metadata": {
    "collapsed": true,
    "extensions": {
     "jupyter_dashboards": {
      "version": 1,
      "views": {
       "grid_default": {
        "hidden": true
       },
       "report_default": {
        "hidden": false
       }
      }
     }
    }
   },
   "outputs": [],
   "source": []
  },
  {
   "cell_type": "code",
   "execution_count": 123,
   "metadata": {
    "ExecuteTime": {
     "end_time": "2017-01-11T17:38:17.090398",
     "start_time": "2017-01-11T16:38:17.020Z"
    },
    "collapsed": false,
    "extensions": {
     "jupyter_dashboards": {
      "version": 1,
      "views": {
       "grid_default": {
        "col": 0,
        "height": 4,
        "hidden": false,
        "row": 188,
        "width": 4
       },
       "report_default": {
        "hidden": false
       }
      }
     }
    }
   },
   "outputs": [
    {
     "data": {
      "text/html": [
       "<dl class=dl-horizontal>\n",
       "\t<dt>z1</dt>\n",
       "\t\t<dd>1.12074882735716</dd>\n",
       "\t<dt>z2</dt>\n",
       "\t\t<dd>0.989349510945684</dd>\n",
       "</dl>\n"
      ],
      "text/latex": [
       "\\begin{description*}\n",
       "\\item[z1] 1.12074882735716\n",
       "\\item[z2] 0.989349510945684\n",
       "\\end{description*}\n"
      ],
      "text/markdown": [
       "z1\n",
       ":   1.12074882735716z2\n",
       ":   0.989349510945684\n",
       "\n"
      ],
      "text/plain": [
       "       z1        z2 \n",
       "1.1207488 0.9893495 "
      ]
     },
     "metadata": {},
     "output_type": "display_data"
    }
   ],
   "source": [
    "#window test\n",
    "FEVD = function (d, TIVs){\n",
    "    T=max(as.numeric(as.character(d$years)))\n",
    "    data=pdata.frame(d, c(\"country\",\"years\")) \n",
    "    data_cmean=aggregate(d, by=list(country=d$country), FUN=mean)\n",
    "    M1=plm(y~x1+x2, data=data, effect=\"individual\", model=\"within\")\n",
    "    data_cmean$ui_hat_mean=data_cmean$y - M1$coefficients[1] * data_cmean$x1 -M1$coefficients[2] * data_cmean$x2 \n",
    "    \n",
    "    fmla=as.formula(paste(\"ui_hat_mean~0+\", paste(TIVs, collapse=\"+\"), sep=\" \"))\n",
    "    M2=lm(fmla, data=data_cmean)\n",
    "    \n",
    "    fmla2=as.formula(paste(\"y~hi+x1+x2+\", paste(TIVs, collapse=\"+\"), sep=\" \"))\n",
    "    data$hi=rep(M2$residuals, each=T)\n",
    "    M3=lm(fmla2, data=data)\n",
    "    return(M3$coefficients[c(5,6)])\n",
    "}\n",
    "\n",
    "N=50\n",
    "T=40\n",
    "d=DGP1(N=N, T=T, beta1=beta1, beta2=beta2, gamma1=gamma1, gamma2=gamma2, case=1)\n",
    "TIVs=list(\"z1\", \"z2\")\n",
    "\n",
    "FEVD(d, TIVs=list(\"z1\", \"z2\"))"
   ]
  },
  {
   "cell_type": "code",
   "execution_count": 3,
   "metadata": {
    "ExecuteTime": {
     "end_time": "2017-01-12T14:44:54.011553",
     "start_time": "2017-01-12T13:44:53.980Z"
    },
    "collapsed": false,
    "extensions": {
     "jupyter_dashboards": {
      "version": 1,
      "views": {
       "grid_default": {
        "hidden": true
       },
       "report_default": {
        "hidden": false
       }
      }
     }
    }
   },
   "outputs": [
    {
     "ename": "ERROR",
     "evalue": "Error in eval(expr, envir, enclos): impossible de trouver la fonction \"DGP1\"\n",
     "output_type": "error",
     "traceback": [
      "Error in eval(expr, envir, enclos): impossible de trouver la fonction \"DGP1\"\nTraceback:\n"
     ]
    }
   ],
   "source": [
    "N=5\n",
    "T=4\n",
    "d=DGP1(N=N, T=T, beta1=beta1, beta2=beta2, gamma1=gamma1, gamma2=gamma2, case=1)\n",
    "\n",
    "T=max(as.numeric(as.character(d$years)))\n",
    "\n",
    "data=pdata.frame(d, c(\"country\",\"years\")) \n",
    "M1=plm(y~x1+x2, data=data, effect=\"individual\", model=\"within\")\n",
    "\n",
    "d$ui_hat=M1$residuals\n",
    "data_cmean=aggregate(d, by=list(d$country), FUN=mean)\n",
    "\n",
    "fmla=as.formula(paste(\"ui_hat~\", paste(TIVs, collapse=\"+\"), sep=\" \"))\n",
    "M2_fef=lm(fmla, data=data_cmean)\n",
    "data$hi=rep(M2_fef$residuals, each=T)\n",
    "fmla2=as.formula(paste(\"y~hi+x1+x2+\", paste(TIVs, collapse=\"+\"), sep=\" \"))\n",
    "M3_fef=lm(fmla2, data=data)\n",
    "(M3_fef$coefficients[c(5, 6)])"
   ]
  },
  {
   "cell_type": "code",
   "execution_count": 90,
   "metadata": {
    "ExecuteTime": {
     "end_time": "2017-01-11T17:31:06.471690",
     "start_time": "2017-01-11T16:31:06.450Z"
    },
    "collapsed": false,
    "extensions": {
     "jupyter_dashboards": {
      "version": 1,
      "views": {
       "grid_default": {
        "col": 4,
        "height": 4,
        "hidden": false,
        "row": 188,
        "width": 4
       },
       "report_default": {
        "hidden": false
       }
      }
     }
    }
   },
   "outputs": [
    {
     "data": {
      "text/html": [
       "<dl class=dl-horizontal>\n",
       "\t<dt>x1</dt>\n",
       "\t\t<dd>0.848487056291497</dd>\n",
       "\t<dt>x2</dt>\n",
       "\t\t<dd>0.842168606529425</dd>\n",
       "</dl>\n"
      ],
      "text/latex": [
       "\\begin{description*}\n",
       "\\item[x1] 0.848487056291497\n",
       "\\item[x2] 0.842168606529425\n",
       "\\end{description*}\n"
      ],
      "text/markdown": [
       "x1\n",
       ":   0.848487056291497x2\n",
       ":   0.842168606529425\n",
       "\n"
      ],
      "text/plain": [
       "       x1        x2 \n",
       "0.8484871 0.8421686 "
      ]
     },
     "metadata": {},
     "output_type": "display_data"
    }
   ],
   "source": [
    "M1$coefficients"
   ]
  },
  {
   "cell_type": "code",
   "execution_count": 65,
   "metadata": {
    "ExecuteTime": {
     "end_time": "2017-01-11T17:28:58.579601",
     "start_time": "2017-01-11T16:28:58.551Z"
    },
    "collapsed": false,
    "extensions": {
     "jupyter_dashboards": {
      "version": 1,
      "views": {
       "grid_default": {
        "col": 0,
        "height": 4,
        "hidden": false,
        "row": 192,
        "width": 4
       },
       "report_default": {
        "hidden": false
       }
      }
     }
    }
   },
   "outputs": [
    {
     "data": {
      "text/html": [
       "<ol class=list-inline>\n",
       "\t<li>10.1398063085438</li>\n",
       "\t<li>6.96128833679986</li>\n",
       "\t<li>12.9603983197362</li>\n",
       "\t<li>9.90473125857766</li>\n",
       "\t<li>9.45674315816168</li>\n",
       "</ol>\n"
      ],
      "text/latex": [
       "\\begin{enumerate*}\n",
       "\\item 10.1398063085438\n",
       "\\item 6.96128833679986\n",
       "\\item 12.9603983197362\n",
       "\\item 9.90473125857766\n",
       "\\item 9.45674315816168\n",
       "\\end{enumerate*}\n"
      ],
      "text/markdown": [
       "1. 10.1398063085438\n",
       "2. 6.96128833679986\n",
       "3. 12.9603983197362\n",
       "4. 9.90473125857766\n",
       "5. 9.45674315816168\n",
       "\n",
       "\n"
      ],
      "text/plain": [
       "[1] 10.139806  6.961288 12.960398  9.904731  9.456743"
      ]
     },
     "metadata": {},
     "output_type": "display_data"
    }
   ],
   "source": [
    "data_cmean=aggregate(d, by=list(d$country), FUN=mean)\n",
    "\n",
    "#(aggregate(M1$residuals, by=list(d$country), FUN=mean))\n",
    "data_cmean$y - M1$coefficients[1] * data_cmean$x1 -M1$coefficients[2] * data_cmean$x2"
   ]
  },
  {
   "cell_type": "code",
   "execution_count": 60,
   "metadata": {
    "ExecuteTime": {
     "end_time": "2017-01-11T17:27:19.263611",
     "start_time": "2017-01-11T16:27:19.245Z"
    },
    "collapsed": false,
    "extensions": {
     "jupyter_dashboards": {
      "version": 1,
      "views": {
       "grid_default": {
        "col": 4,
        "height": 4,
        "hidden": false,
        "row": 192,
        "width": 4
       },
       "report_default": {
        "hidden": false
       }
      }
     }
    }
   },
   "outputs": [
    {
     "data": {
      "text/html": [
       "<dl class=dl-horizontal>\n",
       "\t<dt>(Intercept)</dt>\n",
       "\t\t<dd>8.05086506747718</dd>\n",
       "\t<dt>x1</dt>\n",
       "\t\t<dd>1.429074401829</dd>\n",
       "\t<dt>x2</dt>\n",
       "\t\t<dd>1.31138476874135</dd>\n",
       "</dl>\n"
      ],
      "text/latex": [
       "\\begin{description*}\n",
       "\\item[(Intercept)] 8.05086506747718\n",
       "\\item[x1] 1.429074401829\n",
       "\\item[x2] 1.31138476874135\n",
       "\\end{description*}\n"
      ],
      "text/markdown": [
       "(Intercept)\n",
       ":   8.05086506747718x1\n",
       ":   1.429074401829x2\n",
       ":   1.31138476874135\n",
       "\n"
      ],
      "text/plain": [
       "(Intercept)          x1          x2 \n",
       "   8.050865    1.429074    1.311385 "
      ]
     },
     "metadata": {},
     "output_type": "display_data"
    }
   ],
   "source": [
    "M1$coefficients"
   ]
  },
  {
   "cell_type": "code",
   "execution_count": 62,
   "metadata": {
    "ExecuteTime": {
     "end_time": "2017-01-11T17:27:40.279933",
     "start_time": "2017-01-11T16:27:40.259Z"
    },
    "collapsed": false,
    "extensions": {
     "jupyter_dashboards": {
      "version": 1,
      "views": {
       "grid_default": {
        "col": 0,
        "height": 4,
        "hidden": false,
        "row": 196,
        "width": 4
       },
       "report_default": {
        "hidden": false
       }
      }
     }
    }
   },
   "outputs": [
    {
     "data": {
      "text/html": [
       "<ol class=list-inline>\n",
       "\t<li>7.93869889458931</li>\n",
       "\t<li>6.81479679470806</li>\n",
       "\t<li>9.20412026330146</li>\n",
       "\t<li>8.17800033995197</li>\n",
       "\t<li>8.11870904483506</li>\n",
       "</ol>\n"
      ],
      "text/latex": [
       "\\begin{enumerate*}\n",
       "\\item 7.93869889458931\n",
       "\\item 6.81479679470806\n",
       "\\item 9.20412026330146\n",
       "\\item 8.17800033995197\n",
       "\\item 8.11870904483506\n",
       "\\end{enumerate*}\n"
      ],
      "text/markdown": [
       "1. 7.93869889458931\n",
       "2. 6.81479679470806\n",
       "3. 9.20412026330146\n",
       "4. 8.17800033995197\n",
       "5. 8.11870904483506\n",
       "\n",
       "\n"
      ],
      "text/plain": [
       "[1] 7.938699 6.814797 9.204120 8.178000 8.118709"
      ]
     },
     "metadata": {},
     "output_type": "display_data"
    }
   ],
   "source": [
    "data_cmean$y-M1$coefficients[2] * data_cmean$x1 -M1$coefficients[3] * data_cmean$x2 "
   ]
  },
  {
   "cell_type": "code",
   "execution_count": 26,
   "metadata": {
    "ExecuteTime": {
     "end_time": "2017-01-11T16:56:19.424261",
     "start_time": "2017-01-11T15:56:19.402Z"
    },
    "collapsed": false,
    "extensions": {
     "jupyter_dashboards": {
      "version": 1,
      "views": {
       "grid_default": {
        "col": 4,
        "height": 7,
        "hidden": false,
        "row": 196,
        "width": 4
       },
       "report_default": {
        "hidden": false
       }
      }
     }
    }
   },
   "outputs": [
    {
     "data": {
      "text/html": [
       "<table>\n",
       "<thead><tr><th scope=col>Group.1</th><th scope=col>x</th></tr></thead>\n",
       "<tbody>\n",
       "\t<tr><td>1            </td><td> 1.301043e-17</td></tr>\n",
       "\t<tr><td>2            </td><td>-9.462917e-16</td></tr>\n",
       "\t<tr><td>3            </td><td>-6.730727e-16</td></tr>\n",
       "\t<tr><td>4            </td><td>-7.355228e-16</td></tr>\n",
       "\t<tr><td>5            </td><td> 4.510281e-17</td></tr>\n",
       "</tbody>\n",
       "</table>\n"
      ],
      "text/latex": [
       "\\begin{tabular}{r|ll}\n",
       " Group.1 & x\\\\\n",
       "\\hline\n",
       "\t 1             &  1.301043e-17\\\\\n",
       "\t 2             & -9.462917e-16\\\\\n",
       "\t 3             & -6.730727e-16\\\\\n",
       "\t 4             & -7.355228e-16\\\\\n",
       "\t 5             &  4.510281e-17\\\\\n",
       "\\end{tabular}\n"
      ],
      "text/markdown": [
       "\n",
       "Group.1 | x | \n",
       "|---|---|---|---|---|\n",
       "| 1             |  1.301043e-17 | \n",
       "| 2             | -9.462917e-16 | \n",
       "| 3             | -6.730727e-16 | \n",
       "| 4             | -7.355228e-16 | \n",
       "| 5             |  4.510281e-17 | \n",
       "\n",
       "\n"
      ],
      "text/plain": [
       "  Group.1 x            \n",
       "1 1        1.301043e-17\n",
       "2 2       -9.462917e-16\n",
       "3 3       -6.730727e-16\n",
       "4 4       -7.355228e-16\n",
       "5 5        4.510281e-17"
      ]
     },
     "metadata": {},
     "output_type": "display_data"
    }
   ],
   "source": [
    "aggregate(M1$residuals, by=list(d$country), FUN=mean)\n",
    "#M1$residuals\n",
    "#data_cmean$y - M1$coefficients[1] * data_cmean$x1 -M1$coefficients[2] * data_cmean$x2 "
   ]
  },
  {
   "cell_type": "code",
   "execution_count": 21,
   "metadata": {
    "ExecuteTime": {
     "end_time": "2017-01-11T16:53:10.257108",
     "start_time": "2017-01-11T15:53:10.233Z"
    },
    "collapsed": false,
    "extensions": {
     "jupyter_dashboards": {
      "version": 1,
      "views": {
       "grid_default": {
        "col": 8,
        "height": 4,
        "hidden": false,
        "row": 196,
        "width": 4
       },
       "report_default": {
        "hidden": false
       }
      }
     }
    }
   },
   "outputs": [
    {
     "data": {
      "text/html": [
       "-4.9960036108132e-15"
      ],
      "text/latex": [
       "-4.9960036108132e-15"
      ],
      "text/markdown": [
       "-4.9960036108132e-15"
      ],
      "text/plain": [
       "[1] -4.996004e-15"
      ]
     },
     "metadata": {},
     "output_type": "display_data"
    }
   ],
   "source": [
    "1.70718125107867-0.224495085016229-2.09095495022902+0.608268784166574"
   ]
  },
  {
   "cell_type": "code",
   "execution_count": null,
   "metadata": {
    "collapsed": true,
    "extensions": {
     "jupyter_dashboards": {
      "version": 1,
      "views": {
       "grid_default": {
        "hidden": true
       },
       "report_default": {
        "hidden": false
       }
      }
     }
    }
   },
   "outputs": [],
   "source": []
  },
  {
   "cell_type": "code",
   "execution_count": 52,
   "metadata": {
    "ExecuteTime": {
     "end_time": "2017-01-09T12:19:32.113666",
     "start_time": "2017-01-09T11:19:32.091Z"
    },
    "collapsed": false,
    "extensions": {
     "jupyter_dashboards": {
      "version": 1,
      "views": {
       "grid_default": {
        "col": 0,
        "height": 4,
        "hidden": false,
        "row": 200,
        "width": 4
       },
       "report_default": {
        "hidden": false
       }
      }
     }
    }
   },
   "outputs": [
    {
     "data": {
      "text/plain": [
       "ui_hat_mean ~ 0 + z1 + z2"
      ]
     },
     "metadata": {},
     "output_type": "display_data"
    }
   ],
   "source": [
    "TIVs=list(\"z1\", \"z2\")\n",
    "#as.formula(paste(\"ui_hat_mean~0+\"), TIVs, collapse=\"+\")\n",
    "fmla=as.formula(paste(\"ui_hat_mean~0+\", paste(TIVs, collapse=\"+\"), sep=\" \"))"
   ]
  },
  {
   "cell_type": "markdown",
   "metadata": {
    "extensions": {
     "jupyter_dashboards": {
      "version": 1,
      "views": {
       "grid_default": {
        "col": 8,
        "height": 4,
        "hidden": false,
        "row": 200,
        "width": 4
       },
       "report_default": {
        "hidden": false
       }
      }
     }
    },
    "nbpresent": {
     "id": "3b7d0233-523a-43d7-bab3-46aaa0d1e454"
    }
   },
   "source": [
    "## 2. Fixed Effects Filtered - FEF (Pesaran and Zhou, 2014)"
   ]
  },
  {
   "cell_type": "markdown",
   "metadata": {
    "extensions": {
     "jupyter_dashboards": {
      "version": 1,
      "views": {
       "grid_default": {
        "col": 4,
        "height": 4,
        "hidden": false,
        "row": 203,
        "width": 4
       },
       "report_default": {
        "hidden": false
       }
      }
     }
    },
    "nbpresent": {
     "id": "4f89f034-7ff4-4a40-9268-bd63ac7ca42c"
    }
   },
   "source": [
    "Step 1 is exactly the same as for the FEVD. Step 2 differs. We regress the time averages of the residuals obtained in step 2 on Z *and an interecept*. "
   ]
  },
  {
   "cell_type": "code",
   "execution_count": 23,
   "metadata": {
    "collapsed": false,
    "extensions": {
     "jupyter_dashboards": {
      "version": 1,
      "views": {
       "grid_default": {
        "col": 0,
        "height": 14,
        "hidden": false,
        "row": 204,
        "width": 4
       },
       "report_default": {
        "hidden": false
       }
      }
     }
    },
    "nbpresent": {
     "id": "00a77d1d-b3c5-403e-99fa-92acb16ec1b6"
    },
    "scrolled": true
   },
   "outputs": [
    {
     "data": {
      "text/plain": [
       "\n",
       "Call:\n",
       "lm(formula = ui_hat_mean ~ data_cmean$z)\n",
       "\n",
       "Residuals:\n",
       "    Min      1Q  Median      3Q     Max \n",
       "-1.1517 -0.4381 -0.2369  0.4388  1.7928 \n",
       "\n",
       "Coefficients:\n",
       "             Estimate Std. Error t value Pr(>|t|)\n",
       "(Intercept)  -0.09307    0.29840  -0.312    0.758\n",
       "data_cmean$z  0.52289    0.55082   0.949    0.352\n",
       "\n",
       "Residual standard error: 0.7444 on 23 degrees of freedom\n",
       "Multiple R-squared:  0.0377,\tAdjusted R-squared:  -0.004135 \n",
       "F-statistic: 0.9012 on 1 and 23 DF,  p-value: 0.3523\n"
      ]
     },
     "metadata": {},
     "output_type": "display_data"
    }
   ],
   "source": [
    "M2_fef=lm(ui_hat_mean~data_cmean$z)\n",
    "summary(M2_fef)"
   ]
  },
  {
   "cell_type": "code",
   "execution_count": 24,
   "metadata": {
    "collapsed": false,
    "extensions": {
     "jupyter_dashboards": {
      "version": 1,
      "views": {
       "grid_default": {
        "col": 8,
        "height": 19,
        "hidden": false,
        "row": 204,
        "width": 4
       },
       "report_default": {
        "hidden": false
       }
      }
     }
    }
   },
   "outputs": [
    {
     "data": {
      "text/plain": [
       "\n",
       "Call:\n",
       "lm(formula = y ~ hi + x1 + x2 + z, data = data_fef)\n",
       "\n",
       "Residuals:\n",
       "    Min      1Q  Median      3Q     Max \n",
       "-9.7432 -2.0934  0.0419  1.9965  8.6032 \n",
       "\n",
       "Coefficients:\n",
       "            Estimate Std. Error t value Pr(>|t|)    \n",
       "(Intercept) -0.09307    0.22908  -0.406    0.685    \n",
       "hi           1.00000    0.24948   4.008 6.73e-05 ***\n",
       "x1           1.44485    0.02416  59.803  < 2e-16 ***\n",
       "x2           0.40339    0.02570  15.698  < 2e-16 ***\n",
       "z            0.52289    0.41570   1.258    0.209    \n",
       "---\n",
       "Signif. codes:  0 ‘***’ 0.001 ‘**’ 0.01 ‘*’ 0.05 ‘.’ 0.1 ‘ ’ 1\n",
       "\n",
       "Residual standard error: 3.026 on 745 degrees of freedom\n",
       "Multiple R-squared:  0.8818,\tAdjusted R-squared:  0.8811 \n",
       "F-statistic:  1389 on 4 and 745 DF,  p-value: < 2.2e-16\n"
      ]
     },
     "metadata": {},
     "output_type": "display_data"
    }
   ],
   "source": [
    "hi=rep(M2_fef$residuals, each=T)\n",
    "data_fef=cbind(data, hi)\n",
    "M3_fef=lm(y~hi+x1+x2+z, data=data_fef)\n",
    "summary(M3_fef)"
   ]
  },
  {
   "cell_type": "code",
   "execution_count": 33,
   "metadata": {
    "ExecuteTime": {
     "end_time": "2017-01-12T14:48:37.787445",
     "start_time": "2017-01-12T13:48:37.748Z"
    },
    "collapsed": false,
    "extensions": {
     "jupyter_dashboards": {
      "version": 1,
      "views": {
       "grid_default": {
        "col": 4,
        "height": 4,
        "hidden": false,
        "row": 207,
        "width": 4
       },
       "report_default": {
        "hidden": false
       }
      }
     }
    },
    "nbpresent": {
     "id": "498379ed-413f-4d7e-96d4-b15709f29d6a"
    }
   },
   "outputs": [
    {
     "data": {
      "text/html": [
       "<dl class=dl-horizontal>\n",
       "\t<dt>z1</dt>\n",
       "\t\t<dd>3.0661040405528</dd>\n",
       "\t<dt>z2</dt>\n",
       "\t\t<dd>0.292129255161815</dd>\n",
       "</dl>\n"
      ],
      "text/latex": [
       "\\begin{description*}\n",
       "\\item[z1] 3.0661040405528\n",
       "\\item[z2] 0.292129255161815\n",
       "\\end{description*}\n"
      ],
      "text/markdown": [
       "z1\n",
       ":   3.0661040405528z2\n",
       ":   0.292129255161815\n",
       "\n"
      ],
      "text/plain": [
       "       z1        z2 \n",
       "3.0661040 0.2921293 "
      ]
     },
     "metadata": {},
     "output_type": "display_data"
    }
   ],
   "source": [
    "d=DGP1(N=N, T=T, beta1=beta1, beta2=beta2, gamma1=gamma1, gamma2=gamma2, case=1)\n",
    "\n",
    "FEF = function (d, TIVs){\n",
    "    T=max(d$years)\n",
    "    data=pdata.frame(d, c(\"country\",\"years\")) \n",
    "    data_cmean=aggregate(d, by=list(data$country), FUN=mean)\n",
    "    M1=plm(y~x1+x2, data=data, effect=\"individual\", model=\"within\")\n",
    "    data_cmean$ui_hat_mean=data_cmean$y - M1$coefficients[1] * data_cmean$x1 -M1$coefficients[2] * data_cmean$x2 \n",
    "    fmla=as.formula(paste(\"ui_hat_mean~\", paste(TIVs, collapse=\"+\"), sep=\" \"))\n",
    "    M2_fef=lm(fmla, data=data_cmean)\n",
    "    return(M2_fef$coefficients[c(2, 3)])\n",
    "}\n",
    "\n",
    "FEF(d, TIVs=list(\"z1\", \"z2\"))"
   ]
  },
  {
   "cell_type": "code",
   "execution_count": null,
   "metadata": {
    "collapsed": true,
    "extensions": {
     "jupyter_dashboards": {
      "version": 1,
      "views": {
       "grid_default": {
        "hidden": true
       },
       "report_default": {
        "hidden": false
       }
      }
     }
    }
   },
   "outputs": [],
   "source": [
    "FEVD = function (d, TIVs){\n",
    "    T=max(d$years)\n",
    "    #data=pdata.frame(d, c(\"country\",\"years\")) \n",
    "    data_cmean=aggregate(d, by=list(country=data$country), FUN=mean)\n",
    "    M1=plm(y~x1+x2, data=data, effect=\"individual\", model=\"within\")\n",
    "    data_cmean$ui_hat_mean=data_cmean$y - M1$coefficients[1] * data_cmean$x1 -M1$coefficients[2] * data_cmean$x2 \n",
    "    \n",
    "    fmla=as.formula(paste(\"ui_hat_mean~0+\", paste(TIVs, collapse=\"+\"), sep=\" \"))\n",
    "    M2=lm(fmla, data=data_cmean)\n",
    "    \n",
    "    fmla2=as.formula(paste(\"y~hi+x1+x2+\", paste(TIVs, collapse=\"+\"), sep=\" \"))\n",
    "    data$hi=rep(M2$residuals, each=T)\n",
    "    M3=lm(fmla2, data=data)\n",
    "    return(M3$coefficients[c(5,6)])\n",
    "}\n",
    "\n",
    "FEVD(d, TIVs=list(\"z1\", \"z2\"))"
   ]
  },
  {
   "cell_type": "code",
   "execution_count": 2,
   "metadata": {
    "ExecuteTime": {
     "end_time": "2017-01-12T14:44:32.464559",
     "start_time": "2017-01-12T13:44:32.438Z"
    },
    "collapsed": true,
    "extensions": {
     "jupyter_dashboards": {
      "version": 1,
      "views": {
       "grid_default": {
        "hidden": true
       },
       "report_default": {
        "hidden": false
       }
      }
     }
    }
   },
   "outputs": [],
   "source": [
    "#Function coding \n",
    "#we put here the function that calculates the UFE estimator. We are anticipating what's to come so that we don't have to \n",
    "#to make too many replications\n",
    "\n",
    "TIVs=c('z')\n",
    "\n",
    "UFE=function(d, TIVs){\n",
    "    N=max(d$country)\n",
    "    T=max(d$years)\n",
    "    \n",
    "    M4=plm(y~x1+x2+z, data=d, effect=\"individual\", model=\"within\")\n",
    "    \n",
    "    fe_vect=rep(1, times=N)\n",
    "    row_1=matrix(c(0,fe_vect, 0), nrow=1)\n",
    "    row_2=matrix(c(0, unique(d$z), 0), nrow=1)\n",
    "    Nu=rbind(row_1, row_2)\n",
    "    \n",
    "    D=rep(1, times=N*T)\n",
    "    for (i in 1:N){\n",
    "        small_vec=(1:N==i)*1\n",
    "        large_vec=rep(small_vec, each=T)\n",
    "        D=cbind(D, large_vec)\n",
    "    }\n",
    "    \n",
    "    Z=d[TIVs]\n",
    "    \n",
    "    DZ=as.matrix(cbind(D, Z))\n",
    "    Ru=rbind(DZ, Nu)\n",
    "    \n",
    "    N0_row_1=matrix(c(1,rep(0, times=N+1)), nrow=1)\n",
    "    N0_row_2=matrix(rep(0, times=N+2), nrow=1)\n",
    "    N0=rbind(N0_row_1, N0_row_2)\n",
    "    R0=rbind(DZ, N0)\n",
    "    Rou=solve(t(Ru)%*%Ru)%*%t(Ru)%*%R0\n",
    "    \n",
    "    delta_0=matrix(c(0, fixef(M4)), ncol=1)\n",
    "    gamma_0=matrix(rep(0, times=length(TIVs)), ncol=1)\n",
    "    param_0=rbind(delta_0, gamma_0)\n",
    "\n",
    "    param_u=Rou%*%param_0\n",
    "    return(tail(param_u, n=1)[1])\n",
    "    #return(param_u)\n",
    "}"
   ]
  },
  {
   "cell_type": "markdown",
   "metadata": {
    "extensions": {
     "jupyter_dashboards": {
      "version": 1,
      "views": {
       "grid_default": {
        "col": 4,
        "height": 4,
        "hidden": false,
        "row": 211,
        "width": 4
       },
       "report_default": {
        "hidden": false
       }
      }
     }
    },
    "nbpresent": {
     "id": "54bdc88e-dff1-4264-8717-f71477904006"
    }
   },
   "source": [
    "__________________________"
   ]
  },
  {
   "cell_type": "markdown",
   "metadata": {
    "extensions": {
     "jupyter_dashboards": {
      "version": 1,
      "views": {
       "grid_default": {
        "col": 4,
        "height": 4,
        "hidden": false,
        "row": 215,
        "width": 4
       },
       "report_default": {
        "hidden": false
       }
      }
     }
    },
    "nbpresent": {
     "id": "c3cd7af8-a306-437b-8c98-25b1ee314258"
    }
   },
   "source": [
    "## 3. One-step estimation : Untangling Fixed Effects - UFE (Teulings, Klaassen, and others 2016) <a class=\"anchor\" id=\"III\"></a>"
   ]
  },
  {
   "cell_type": "markdown",
   "metadata": {
    "collapsed": true,
    "extensions": {
     "jupyter_dashboards": {
      "version": 1,
      "views": {
       "grid_default": {
        "col": 9,
        "height": 6,
        "hidden": false,
        "row": 166,
        "width": null
       },
       "report_default": {
        "hidden": false
       }
      }
     }
    }
   },
   "source": [
    "We work on the following model (expressed in matrix form) :\n",
    "\n",
    "$$ y = D \\delta + Z \\gamma + X\\beta + \\epsilon$$\n",
    "\n",
    "* $D \\delta$ represents the deterministic block, where $D$ includes country fixed-effects, year fixed-effects and time trends. \n",
    "* $Z \\gamma$ represents time-invariant and country-invariant variables and their associated parameters. \n",
    "* $X$ represents the variables that vary accross time and space, and $\\beta$ is the associated parameters. "
   ]
  },
  {
   "cell_type": "markdown",
   "metadata": {
    "collapsed": true,
    "extensions": {
     "jupyter_dashboards": {
      "version": 1,
      "views": {
       "grid_default": {
        "col": 9,
        "height": 4,
        "hidden": false,
        "row": 172,
        "width": null
       },
       "report_default": {
        "hidden": false
       }
      }
     }
    }
   },
   "source": [
    "We set all elements of $\\gamma^0$ to 0. That's why statistical packages usually do. "
   ]
  },
  {
   "cell_type": "markdown",
   "metadata": {
    "extensions": {
     "jupyter_dashboards": {
      "version": 1,
      "views": {
       "grid_default": {
        "col": 0,
        "height": 4,
        "hidden": false,
        "row": 222,
        "width": 4
       },
       "report_default": {
        "hidden": false
       }
      }
     }
    }
   },
   "source": [
    "And the country fixed effects:"
   ]
  },
  {
   "cell_type": "markdown",
   "metadata": {
    "extensions": {
     "jupyter_dashboards": {
      "version": 1,
      "views": {
       "grid_default": {
        "col": 0,
        "height": 4,
        "hidden": false,
        "row": 226,
        "width": 4
       },
       "report_default": {
        "hidden": false
       }
      }
     }
    }
   },
   "source": [
    "The coefficients associated with time invariant variable z is exluded from the table and considered equal to zero. "
   ]
  },
  {
   "cell_type": "markdown",
   "metadata": {
    "collapsed": true,
    "extensions": {
     "jupyter_dashboards": {
      "version": 1,
      "views": {
       "grid_default": {
        "col": 0,
        "height": 18,
        "hidden": false,
        "row": 236,
        "width": null
       },
       "report_default": {
        "hidden": false
       }
      }
     }
    }
   },
   "source": [
    "### Untangling Normalisation\n",
    "\n",
    "The untangling normalization leaves $\\beta$ as it is : $\\beta^u = \\beta^0$. The other sets of parameters are obtained thanks to the $R^{Ou}$ transformation matrix : \n",
    "\n",
    "$$\n",
    "\\left( \\begin{array}{c}\n",
    "\\delta^u  \\\\\n",
    "\\gamma^u  \\end{array} \\right)\n",
    "=R^{Ou}\n",
    "\\left( \\begin{array}{c}\n",
    "\\delta^0  \\\\\n",
    "\\gamma^0  \\end{array} \\right)\n",
    "$$\n",
    "\n",
    "The transformation matrix is defined as follows :\n",
    "\n",
    "$$ R^{Ou}=(R^{u\\prime} R^{u})^{-1} R^{u\\prime}R^{0} $$\n",
    "\n",
    "Where $R^{u}$ and $R^{0}$ are given by : \n",
    "\n",
    "$$ R^{u} = \\left( \\begin{array}{c} D \\space\\space Z  \\\\ N^u   \\end{array} \\right)$$\n",
    "\n",
    "$$ R^{0} =  \\left( \\begin{array}{c} D \\space\\space Z  \\\\ N^0  \\end{array} \\right)$$\n",
    "\n",
    "$N^0$ is the zero-normalizing matrix, that takes all parameters associated to time-invariant variables to zero and one parameter associated with country-fixed effects to zero. It is composed of zeros and ones : $N^0 = (0, 1, ..., 1, 0, ..., 0)$\n",
    "\n",
    "$N^u$ is given by the following equation and specified in the paper (see page 16). \n",
    "\n",
    "$$N^u  \\left( \\begin{array}{c} \\delta^u  \\\\ \\gamma^u  \\end{array} \\right)=0$$\n"
   ]
  },
  {
   "cell_type": "markdown",
   "metadata": {
    "extensions": {
     "jupyter_dashboards": {
      "version": 1,
      "views": {
       "grid_default": {
        "col": 4,
        "height": 4,
        "hidden": false,
        "row": 226,
        "width": 4
       },
       "report_default": {
        "hidden": false
       }
      }
     }
    }
   },
   "source": [
    "We will code a generic function that works for models including country FE, TIV and variables varying across time and space. "
   ]
  },
  {
   "cell_type": "markdown",
   "metadata": {
    "extensions": {
     "jupyter_dashboards": {
      "version": 1,
      "views": {
       "grid_default": {
        "col": 0,
        "height": 11,
        "hidden": false,
        "row": 254,
        "width": null
       },
       "report_default": {
        "hidden": false
       }
      }
     }
    }
   },
   "source": [
    "### Construction of $N^u$\n",
    "\n",
    "$N^u$ : number of columns equal to the number of parameters that are deterministic, time invariant or country-invariant : \n",
    "\n",
    "* $\\alpha$ : 1\n",
    "* $\\alpha_i$ : N\n",
    "* $\\nu$ : k\n",
    "\n",
    "Sum : $1 + N + k$\n",
    "\n",
    "$N^u$ contains as many rows as there are normalization equations. There are two : \n",
    "* One for setting the sum (~mean) of the $\\alpha_i$ to zero \n",
    "* k for making the vector of country fixed effects ($\\alpha_i$) orthogonal to the vector of TIVs coefficients, k beeing the number of TIVs (k=1 in our case)\n",
    "\n",
    "Number of rows : 1 + #TIV "
   ]
  },
  {
   "cell_type": "markdown",
   "metadata": {
    "extensions": {
     "jupyter_dashboards": {
      "version": 1,
      "views": {
       "grid_default": {
        "col": 0,
        "height": 4,
        "hidden": false,
        "row": 317,
        "width": null
       },
       "report_default": {
        "hidden": false
       }
      }
     }
    }
   },
   "source": [
    "$\\delta^0$ : we take $\\alpha=0$ and keep the $\\alpha_i$\n",
    "\n",
    "$\\gamma_0$ : the parameters associated to the TIVs"
   ]
  },
  {
   "cell_type": "markdown",
   "metadata": {
    "extensions": {
     "jupyter_dashboards": {
      "version": 1,
      "views": {
       "grid_default": {
        "col": 0,
        "height": 7,
        "hidden": false,
        "row": 321,
        "width": null
       },
       "report_default": {
        "hidden": false
       }
      }
     }
    }
   },
   "source": [
    "*Verification:*\n",
    "We need to verify that \n",
    "\n",
    "$$N^u \n",
    "\\left( \\begin{array}{c}\n",
    "\\delta^u  \\\\\n",
    "\\gamma^u  \\end{array} \\right)\n",
    "=0$$\n",
    "\n",
    "This is what we get for : \n",
    "\n",
    "$$N^u \n",
    "\\left( \\begin{array}{c}\n",
    "\\delta^u  \\\\\n",
    "\\gamma^u  \\end{array} \\right)$$"
   ]
  },
  {
   "cell_type": "code",
   "execution_count": null,
   "metadata": {
    "collapsed": true
   },
   "outputs": [],
   "source": [
    "TIVs=c('z')\n",
    "\n",
    "UFE=function(d, TIVs){\n",
    "    N=max(d$country)\n",
    "    T=max(d$years)\n",
    "    \n",
    "    M4=plm(y~x1+x2+z, data=d, effect=\"individual\", model=\"within\")\n",
    "    \n",
    "    fe_vect=rep(1, times=N)\n",
    "    row_1=matrix(c(0,fe_vect, 0), nrow=1)\n",
    "    row_2=matrix(c(0, unique(d$z), 0), nrow=1)\n",
    "    Nu=rbind(row_1, row_2)\n",
    "    \n",
    "    D=rep(1, times=N*T)\n",
    "    for (i in 1:N){\n",
    "        small_vec=(1:N==i)*1\n",
    "        large_vec=rep(small_vec, each=T)\n",
    "        D=cbind(D, large_vec)\n",
    "    }\n",
    "    \n",
    "    Z=d[TIVs]\n",
    "    \n",
    "    DZ=as.matrix(cbind(D, Z))\n",
    "    Ru=rbind(DZ, Nu)\n",
    "    \n",
    "    N0_row_1=matrix(c(1,rep(0, times=N+1)), nrow=1)\n",
    "    N0_row_2=matrix(rep(0, times=N+2), nrow=1)\n",
    "    N0=rbind(N0_row_1, N0_row_2)\n",
    "    R0=rbind(DZ, N0)\n",
    "    Rou=solve(t(Ru)%*%Ru)%*%t(Ru)%*%R0\n",
    "    \n",
    "    delta_0=matrix(c(0, fixef(M4)), ncol=1)\n",
    "    gamma_0=matrix(rep(0, times=length(TIVs)), ncol=1)\n",
    "    param_0=rbind(delta_0, gamma_0)\n",
    "\n",
    "    param_u=Rou%*%param_0\n",
    "    return(tail(param_u, n=1)[1])\n",
    "    #return(param_u)\n",
    "}"
   ]
  },
  {
   "cell_type": "markdown",
   "metadata": {
    "extensions": {
     "jupyter_dashboards": {
      "version": 1,
      "views": {
       "grid_default": {
        "col": 4,
        "height": 4,
        "hidden": false,
        "row": 328,
        "width": 4
       },
       "report_default": {
        "hidden": false
       }
      }
     }
    }
   },
   "source": [
    "# III. Monte Carlo Simulations"
   ]
  },
  {
   "cell_type": "markdown",
   "metadata": {
    "extensions": {
     "jupyter_dashboards": {
      "version": 1,
      "views": {
       "grid_default": {
        "col": 8,
        "height": 4,
        "hidden": false,
        "row": 328,
        "width": 4
       },
       "report_default": {
        "hidden": false
       }
      }
     }
    }
   },
   "source": [
    "## 1. Replications"
   ]
  },
  {
   "cell_type": "code",
   "execution_count": 42,
   "metadata": {
    "ExecuteTime": {
     "end_time": "2017-01-12T15:57:52.214118",
     "start_time": "2017-01-12T14:24:54.125Z"
    },
    "collapsed": false,
    "extensions": {
     "jupyter_dashboards": {
      "version": 1,
      "views": {
       "grid_default": {
        "hidden": true
       },
       "report_default": {
        "hidden": false
       }
      }
     }
    }
   },
   "outputs": [],
   "source": [
    "#=file : simulations_DGP1.R\n",
    "library(\"plm\")\n",
    "\n",
    "DGP1=function(N, T, beta1, beta2, gamma1, gamma2, case){\n",
    "    country=rep(1:N, each=T)\n",
    "    z1=rep(1+rnorm(N, 0, 1), each=T)\n",
    "    z2=rep(runif(N, 7, 12), each=T)\n",
    "    \n",
    "    alpha_bycountry=0.5*(rchisq(N, 2)-2)\n",
    "    alpha=rep(alpha_bycountry, each=T)\n",
    "\n",
    "    #z_bar_bycountry=aggregate(z,by=list(country), mean)\n",
    "    #z_bar=rep(z_bar_bycountry[,2], each=T)\n",
    "\n",
    "    mu_bycountry1=rnorm(N, 0, 2)\n",
    "    rho_bycountry1=runif(N, 0, 0.98)\n",
    "\n",
    "    mu_bycountry2=rnorm(N, 0, 2)\n",
    "    rho_bycountry2=runif(N, 0, 0.98)\n",
    "    \n",
    "    sigma=0.5*(1+0.5*rchisq(N, 2))\n",
    "    \n",
    "    epsi1=rnorm(N, 0, sigma)\n",
    "    epsi2=rnorm(N, 0, sigma)\n",
    "    \n",
    "    omega_zero1_bycountry=rnorm(N, mu_bycountry1, sigma)\n",
    "    omega_zero2_bycountry=rnorm(N, mu_bycountry2, sigma)\n",
    "\n",
    "    generate_omega<-function(rho, mu, epsi, start){\n",
    "        vecteur_innovation=mu*(1-rho)+sqrt(1-rho^2)*epsi\n",
    "        return(arima.sim(model=list(ar=c(rho)),innov = rep(vecteur_innovation, T),start.innov=start, n.start=1, n=T))\n",
    "    } \n",
    "\n",
    "    omega1= as.vector(mapply(generate_omega, rho_bycountry1, mu_bycountry1, epsi1, omega_zero1_bycountry))#mapply returns a matrix whose columns we stack in a single vector\n",
    "    omega2= as.vector(mapply(generate_omega, rho_bycountry2, mu_bycountry2, epsi2, omega_zero2_bycountry))\n",
    "\n",
    "    g1_byyear=runif(T, 0, 2)\n",
    "    g1=unlist(rep(list(g1_byyear), N))\n",
    "\n",
    "    g2_byyear=runif(T, 0, 2)\n",
    "    g2=unlist(rep(list(g2_byyear), N))\n",
    "\n",
    "    x1=1 + alpha*g1 + omega1\n",
    "    x2=1 + alpha*g2 + omega2\n",
    "    \n",
    "    if (case==1){\n",
    "        epsilon=rnorm(N*T, 0, 1)\n",
    "    }\n",
    "    \n",
    "    if (case==2){\n",
    "        epsilon=as.vector(mapply((function (x) rnorm(T, 0, x)), sigma))\n",
    "    }\n",
    "    \n",
    "    #if (case==3){\n",
    "    #    epsilon=AR1...\n",
    "    #}\n",
    "    \n",
    "    y=alpha + x1*beta1 + x2*beta2 +z1*gamma1+z2*gamma2+ epsilon\n",
    "    #print(length(alpha))\n",
    "    #print(length(x1))\n",
    "    years=rep(1:T, N)\n",
    "    d=cbind(country, years, y, x1, x2,z1, z2, alpha, epsilon)\n",
    "    d=as.data.frame(d)\n",
    "    \n",
    "    #data=pdata.frame(d, c(\"country\",\"years\"))\n",
    "    return(d) \n",
    "}\n",
    "\n",
    "\n",
    "FEF = function (d, TIVs){\n",
    "    T=max(d$years)\n",
    "    data=pdata.frame(d, c(\"country\",\"years\")) \n",
    "    data_cmean=aggregate(d, by=list(data$country), FUN=mean)\n",
    "    M1=plm(y~x1+x2, data=data, effect=\"individual\", model=\"within\")\n",
    "    data_cmean$ui_hat_mean=data_cmean$y - M1$coefficients[1] * data_cmean$x1 -M1$coefficients[2] * data_cmean$x2 \n",
    "    fmla=as.formula(paste(\"ui_hat_mean~\", paste(TIVs, collapse=\"+\"), sep=\" \"))\n",
    "    M2_fef=lm(fmla, data=data_cmean)\n",
    "    return(M2_fef$coefficients[c(2, 3)])\n",
    "}\n",
    "\n",
    "\n",
    "FEVD = function (d, TIVs){\n",
    "    T=max(as.numeric(as.character(d$years)))\n",
    "    data=pdata.frame(d, c(\"country\",\"years\")) \n",
    "    data_cmean=aggregate(d, by=list(country=d$country), FUN=mean)\n",
    "    M1=plm(y~x1+x2, data=data, effect=\"individual\", model=\"within\")\n",
    "    data_cmean$ui_hat_mean=data_cmean$y - M1$coefficients[1] * data_cmean$x1 -M1$coefficients[2] * data_cmean$x2 \n",
    "    \n",
    "    fmla=as.formula(paste(\"ui_hat_mean~0+\", paste(TIVs, collapse=\"+\"), sep=\" \"))\n",
    "    M2=lm(fmla, data=data_cmean)\n",
    "    \n",
    "    fmla2=as.formula(paste(\"y~hi+x1+x2+\", paste(TIVs, collapse=\"+\"), sep=\" \"))\n",
    "    data$hi=rep(M2$residuals, each=T)\n",
    "    M3=lm(fmla2, data=data)\n",
    "    return(M3$coefficients[c(5,6)])\n",
    "}\n",
    "\n",
    "\n",
    "TIVs=list(\"z1\", \"z2\")\n",
    "\n",
    "process=function(N, T){\n",
    "    d=DGP1(N=N, T=T, beta1=beta1, beta2=beta2, gamma1=gamma1, gamma2=gamma2, case=1)\n",
    "    fevd=FEVD(d, TIVs=TIVs)\n",
    "    fef=FEF(d, TIVs=TIVs)\n",
    "    #ufe=UFE(d, 'z')\n",
    "    #return(list(N, T, fevd, fef))#, ufe))\n",
    "    outcome=paste(c(N, T, fevd, fef), collapse=\", \")\n",
    "    #cat(outcome, file=output, append=TRUE, sep=\"\\n\")\n",
    "    #cat(outcome)\n",
    "    return (outcome)\n",
    "}\n",
    "\n",
    "processN=function(T){\n",
    "    #return(lapply(seqN, process, T=T))\n",
    "    l=lapply(seqN, process, T=T)\n",
    "    return(paste(l, collapse=\"\\n\"))\n",
    "}\n",
    "\n",
    "process_rep=function(rep){\n",
    "    l=(lapply(seqT, processN))\n",
    "    out=paste(c(unlist(l), \"\"), collapse=\"\\n\")\n",
    "    cat(out,file=output, append=TRUE)\n",
    "    #return(l)\n",
    "}\n",
    "\n",
    "\n",
    "#output=\"/Users/Nicolas/Simulations_R/simulations_results_dgp1_case1_v2.txt\"\n",
    "path=\"/Users/Nicolas/Google\\ Drive/OECD/2016\\ -\\ Consultant\\ ECO/OECD_SSD_Fixed_Effects\"\n",
    "setwd(path)\n",
    "output=\"simulations_results_dgp1_case1_v2.txt\"\n",
    "\n",
    "seqN=c(30, 50, 100, 500, 1000)\n",
    "seqT=c(5, 10, 30, 40)\n",
    "nb_rep=10\n",
    "beta1=1\n",
    "beta2=1\n",
    "gamma1=1\n",
    "gamma2=1\n",
    "\n",
    "\n",
    "#ptm=proc.time()\n",
    "#l=lapply(1:nb_rep, process_rep)\n",
    "#proc.time()-ptm\n",
    "                                  \n",
    "ptm=proc.time()\n",
    "for (i in 1:10){\n",
    "    l=lapply(1:nb_rep, process_rep)#, mc.cores=4, mc.preschedule = FALSE)\n",
    "    x=proc.time()-ptm\n",
    "    log_message=paste('\\n','It took ', as.numeric(x[3]/60), \"minutes to do iteration\", i)\n",
    "    cat(log_message, file=\"log_v2.txt\", append=TRUE, sep=\"\\n\")\n",
    "    \n",
    "}"
   ]
  },
  {
   "cell_type": "markdown",
   "metadata": {
    "extensions": {
     "jupyter_dashboards": {
      "version": 1,
      "views": {
       "grid_default": {
        "col": 8,
        "height": 4,
        "hidden": false,
        "row": 336,
        "width": 4
       },
       "report_default": {
        "hidden": false
       }
      }
     }
    }
   },
   "source": [
    "## 2. Analysis"
   ]
  },
  {
   "cell_type": "markdown",
   "metadata": {
    "extensions": {
     "jupyter_dashboards": {
      "version": 1,
      "views": {
       "grid_default": {
        "col": 0,
        "height": 4,
        "hidden": false,
        "row": 340,
        "width": 4
       },
       "report_default": {
        "hidden": false
       }
      }
     }
    }
   },
   "source": [
    "### a. Simple DGP"
   ]
  },
  {
   "cell_type": "markdown",
   "metadata": {
    "extensions": {
     "jupyter_dashboards": {
      "version": 1,
      "views": {
       "grid_default": {
        "col": 0,
        "height": 5,
        "hidden": false,
        "row": 344,
        "width": 12
       },
       "report_default": {
        "hidden": false
       }
      }
     }
    }
   },
   "source": [
    "### (i) UFE and FEF are the same\n",
    "\n",
    "We performed 500 Monte Carlo replications for each (N, T) couple, N in (10, 30, 50, 100, 500, 1000) and T in (5, 10, 30, 40). We thus demonstrate a strong result : FEF and UFE estimators are perfectly equivalent. There is worth noting that whereas the UFE estimator might appear as more attractive as it is a one-step estimator, it is much more computationally costly than the FEF estimator (up to 10 times more time-consuming to run). "
   ]
  },
  {
   "cell_type": "code",
   "execution_count": 118,
   "metadata": {
    "ExecuteTime": {
     "end_time": "2017-01-09T15:38:20.413575",
     "start_time": "2017-01-09T14:38:20.288Z"
    },
    "collapsed": false,
    "extensions": {
     "jupyter_dashboards": {
      "version": 1,
      "views": {
       "grid_default": {
        "col": 0,
        "height": 8,
        "hidden": false,
        "row": 349,
        "width": 4
       },
       "report_default": {
        "hidden": false
       }
      }
     }
    }
   },
   "outputs": [
    {
     "data": {
      "text/html": [
       "<table>\n",
       "<thead><tr><th scope=col>N</th><th scope=col>T</th><th scope=col>FEF</th><th scope=col>UFE</th></tr></thead>\n",
       "<tbody>\n",
       "\t<tr><td>  10      </td><td>5         </td><td> 6.2582227</td><td> 6.2582227</td></tr>\n",
       "\t<tr><td>  30      </td><td>5         </td><td> 0.5715063</td><td> 0.5715063</td></tr>\n",
       "\t<tr><td>  50      </td><td>5         </td><td>-0.2470817</td><td>-0.2470817</td></tr>\n",
       "\t<tr><td> 100      </td><td>5         </td><td> 0.2485363</td><td> 0.2485363</td></tr>\n",
       "\t<tr><td> 500      </td><td>5         </td><td> 1.0991052</td><td> 1.0991052</td></tr>\n",
       "\t<tr><td>1000      </td><td>5         </td><td> 0.8078357</td><td> 0.8078357</td></tr>\n",
       "</tbody>\n",
       "</table>\n"
      ],
      "text/latex": [
       "\\begin{tabular}{r|llll}\n",
       " N & T & FEF & UFE\\\\\n",
       "\\hline\n",
       "\t   10       & 5          &  6.2582227 &  6.2582227\\\\\n",
       "\t   30       & 5          &  0.5715063 &  0.5715063\\\\\n",
       "\t   50       & 5          & -0.2470817 & -0.2470817\\\\\n",
       "\t  100       & 5          &  0.2485363 &  0.2485363\\\\\n",
       "\t  500       & 5          &  1.0991052 &  1.0991052\\\\\n",
       "\t 1000       & 5          &  0.8078357 &  0.8078357\\\\\n",
       "\\end{tabular}\n"
      ],
      "text/markdown": [
       "\n",
       "N | T | FEF | UFE | \n",
       "|---|---|---|---|---|---|\n",
       "|   10       | 5          |  6.2582227 |  6.2582227 | \n",
       "|   30       | 5          |  0.5715063 |  0.5715063 | \n",
       "|   50       | 5          | -0.2470817 | -0.2470817 | \n",
       "|  100       | 5          |  0.2485363 |  0.2485363 | \n",
       "|  500       | 5          |  1.0991052 |  1.0991052 | \n",
       "| 1000       | 5          |  0.8078357 |  0.8078357 | \n",
       "\n",
       "\n"
      ],
      "text/plain": [
       "  N    T FEF        UFE       \n",
       "1   10 5  6.2582227  6.2582227\n",
       "2   30 5  0.5715063  0.5715063\n",
       "3   50 5 -0.2470817 -0.2470817\n",
       "4  100 5  0.2485363  0.2485363\n",
       "5  500 5  1.0991052  1.0991052\n",
       "6 1000 5  0.8078357  0.8078357"
      ]
     },
     "metadata": {},
     "output_type": "display_data"
    }
   ],
   "source": [
    "path=\"/Users/Nicolas/Google Drive/OECD/2016 - Consultant ECO/OECD_SSD_Fixed_Effects\"\n",
    "setwd(path)\n",
    "results_ufe=read.table(\"replication_results_ufe.txt\", sep=\",\")\n",
    "colnames(results_ufe)=c(\"N\", \"T\", \"FEF\", \"UFE\")\n",
    "head(results_ufe)"
   ]
  },
  {
   "cell_type": "markdown",
   "metadata": {
    "extensions": {
     "jupyter_dashboards": {
      "version": 1,
      "views": {
       "grid_default": {
        "col": 4,
        "height": 4,
        "hidden": false,
        "row": 340,
        "width": null
       },
       "report_default": {
        "hidden": false
       }
      }
     }
    }
   },
   "source": [
    "Table 3 displays the mean value of FEF and UFE estimates as well as the mean of the quadratic differences over 100 replications made for various $(n, t)$ tuples. \n",
    "\n",
    "##### <center> Table 1. Equivalence of FEF and UFE </center>"
   ]
  },
  {
   "cell_type": "code",
   "execution_count": 119,
   "metadata": {
    "ExecuteTime": {
     "end_time": "2017-01-09T15:38:23.795613",
     "start_time": "2017-01-09T14:38:23.732Z"
    },
    "collapsed": false,
    "extensions": {
     "jupyter_dashboards": {
      "version": 1,
      "views": {
       "grid_default": {
        "col": 4,
        "height": 12,
        "hidden": false,
        "row": 349,
        "width": 5
       },
       "report_default": {
        "hidden": false
       }
      }
     }
    },
    "scrolled": true
   },
   "outputs": [
    {
     "data": {
      "text/html": [
       "<table>\n",
       "<thead><tr><th scope=col>N</th><th scope=col>T</th><th scope=col>FEF</th><th scope=col>UFE</th><th scope=col>Mean_quadratic_difference</th></tr></thead>\n",
       "<tbody>\n",
       "\t<tr><td>  10        </td><td> 5          </td><td>1.2651472   </td><td>1.2651472   </td><td>1.559088e-26</td></tr>\n",
       "\t<tr><td>  30        </td><td> 5          </td><td>0.9255007   </td><td>0.9255007   </td><td>3.705662e-28</td></tr>\n",
       "\t<tr><td>  50        </td><td> 5          </td><td>0.9375893   </td><td>0.9375893   </td><td>2.081947e-28</td></tr>\n",
       "\t<tr><td> 100        </td><td> 5          </td><td>0.8920135   </td><td>0.8920135   </td><td>1.151292e-28</td></tr>\n",
       "\t<tr><td> 500        </td><td> 5          </td><td>0.9066743   </td><td>0.9066743   </td><td>1.867544e-28</td></tr>\n",
       "\t<tr><td>1000        </td><td> 5          </td><td>0.9010138   </td><td>0.9010138   </td><td>3.036846e-28</td></tr>\n",
       "\t<tr><td>  10        </td><td>10          </td><td>1.1068143   </td><td>1.1068143   </td><td>3.862147e-25</td></tr>\n",
       "\t<tr><td>  30        </td><td>10          </td><td>0.9261906   </td><td>0.9261906   </td><td>2.927274e-27</td></tr>\n",
       "\t<tr><td>  50        </td><td>10          </td><td>0.9001964   </td><td>0.9001964   </td><td>1.444311e-27</td></tr>\n",
       "\t<tr><td> 100        </td><td>10          </td><td>0.9101259   </td><td>0.9101259   </td><td>8.489144e-28</td></tr>\n",
       "\t<tr><td> 500        </td><td>10          </td><td>0.8923720   </td><td>0.8923720   </td><td>8.639675e-28</td></tr>\n",
       "\t<tr><td>1000        </td><td>10          </td><td>0.8957976   </td><td>0.8957976   </td><td>1.339241e-27</td></tr>\n",
       "\t<tr><td>  10        </td><td>30          </td><td>0.9214479   </td><td>0.9214479   </td><td>8.169299e-23</td></tr>\n",
       "\t<tr><td>  30        </td><td>30          </td><td>0.9226102   </td><td>0.9226102   </td><td>1.375530e-25</td></tr>\n",
       "\t<tr><td>  50        </td><td>30          </td><td>0.8941722   </td><td>0.8941722   </td><td>5.210101e-26</td></tr>\n",
       "\t<tr><td> 100        </td><td>30          </td><td>0.8981971   </td><td>0.8981971   </td><td>3.172914e-26</td></tr>\n",
       "\t<tr><td> 500        </td><td>30          </td><td>0.9040031   </td><td>0.9040031   </td><td>1.847838e-26</td></tr>\n",
       "\t<tr><td>1000        </td><td>30          </td><td>0.8986597   </td><td>0.8986597   </td><td>2.116352e-26</td></tr>\n",
       "\t<tr><td>  10        </td><td>40          </td><td>0.9510281   </td><td>0.9510281   </td><td>4.066281e-23</td></tr>\n",
       "\t<tr><td>  30        </td><td>40          </td><td>0.9100937   </td><td>0.9100937   </td><td>4.014635e-25</td></tr>\n",
       "\t<tr><td>  50        </td><td>40          </td><td>0.9129527   </td><td>0.9129527   </td><td>1.808016e-25</td></tr>\n",
       "\t<tr><td> 100        </td><td>40          </td><td>0.8991152   </td><td>0.8991152   </td><td>1.032775e-25</td></tr>\n",
       "\t<tr><td> 500        </td><td>40          </td><td>0.8946653   </td><td>0.8946653   </td><td>3.805844e-26</td></tr>\n",
       "\t<tr><td>1000        </td><td>40          </td><td>0.9020383   </td><td>0.9020383   </td><td>4.154351e-26</td></tr>\n",
       "</tbody>\n",
       "</table>\n"
      ],
      "text/latex": [
       "\\begin{tabular}{r|lllll}\n",
       " N & T & FEF & UFE & Mean\\_quadratic\\_difference\\\\\n",
       "\\hline\n",
       "\t   10         &  5           & 1.2651472    & 1.2651472    & 1.559088e-26\\\\\n",
       "\t   30         &  5           & 0.9255007    & 0.9255007    & 3.705662e-28\\\\\n",
       "\t   50         &  5           & 0.9375893    & 0.9375893    & 2.081947e-28\\\\\n",
       "\t  100         &  5           & 0.8920135    & 0.8920135    & 1.151292e-28\\\\\n",
       "\t  500         &  5           & 0.9066743    & 0.9066743    & 1.867544e-28\\\\\n",
       "\t 1000         &  5           & 0.9010138    & 0.9010138    & 3.036846e-28\\\\\n",
       "\t   10         & 10           & 1.1068143    & 1.1068143    & 3.862147e-25\\\\\n",
       "\t   30         & 10           & 0.9261906    & 0.9261906    & 2.927274e-27\\\\\n",
       "\t   50         & 10           & 0.9001964    & 0.9001964    & 1.444311e-27\\\\\n",
       "\t  100         & 10           & 0.9101259    & 0.9101259    & 8.489144e-28\\\\\n",
       "\t  500         & 10           & 0.8923720    & 0.8923720    & 8.639675e-28\\\\\n",
       "\t 1000         & 10           & 0.8957976    & 0.8957976    & 1.339241e-27\\\\\n",
       "\t   10         & 30           & 0.9214479    & 0.9214479    & 8.169299e-23\\\\\n",
       "\t   30         & 30           & 0.9226102    & 0.9226102    & 1.375530e-25\\\\\n",
       "\t   50         & 30           & 0.8941722    & 0.8941722    & 5.210101e-26\\\\\n",
       "\t  100         & 30           & 0.8981971    & 0.8981971    & 3.172914e-26\\\\\n",
       "\t  500         & 30           & 0.9040031    & 0.9040031    & 1.847838e-26\\\\\n",
       "\t 1000         & 30           & 0.8986597    & 0.8986597    & 2.116352e-26\\\\\n",
       "\t   10         & 40           & 0.9510281    & 0.9510281    & 4.066281e-23\\\\\n",
       "\t   30         & 40           & 0.9100937    & 0.9100937    & 4.014635e-25\\\\\n",
       "\t   50         & 40           & 0.9129527    & 0.9129527    & 1.808016e-25\\\\\n",
       "\t  100         & 40           & 0.8991152    & 0.8991152    & 1.032775e-25\\\\\n",
       "\t  500         & 40           & 0.8946653    & 0.8946653    & 3.805844e-26\\\\\n",
       "\t 1000         & 40           & 0.9020383    & 0.9020383    & 4.154351e-26\\\\\n",
       "\\end{tabular}\n"
      ],
      "text/markdown": [
       "\n",
       "N | T | FEF | UFE | Mean_quadratic_difference | \n",
       "|---|---|---|---|---|---|---|---|---|---|---|---|---|---|---|---|---|---|---|---|---|---|---|---|\n",
       "|   10         |  5           | 1.2651472    | 1.2651472    | 1.559088e-26 | \n",
       "|   30         |  5           | 0.9255007    | 0.9255007    | 3.705662e-28 | \n",
       "|   50         |  5           | 0.9375893    | 0.9375893    | 2.081947e-28 | \n",
       "|  100         |  5           | 0.8920135    | 0.8920135    | 1.151292e-28 | \n",
       "|  500         |  5           | 0.9066743    | 0.9066743    | 1.867544e-28 | \n",
       "| 1000         |  5           | 0.9010138    | 0.9010138    | 3.036846e-28 | \n",
       "|   10         | 10           | 1.1068143    | 1.1068143    | 3.862147e-25 | \n",
       "|   30         | 10           | 0.9261906    | 0.9261906    | 2.927274e-27 | \n",
       "|   50         | 10           | 0.9001964    | 0.9001964    | 1.444311e-27 | \n",
       "|  100         | 10           | 0.9101259    | 0.9101259    | 8.489144e-28 | \n",
       "|  500         | 10           | 0.8923720    | 0.8923720    | 8.639675e-28 | \n",
       "| 1000         | 10           | 0.8957976    | 0.8957976    | 1.339241e-27 | \n",
       "|   10         | 30           | 0.9214479    | 0.9214479    | 8.169299e-23 | \n",
       "|   30         | 30           | 0.9226102    | 0.9226102    | 1.375530e-25 | \n",
       "|   50         | 30           | 0.8941722    | 0.8941722    | 5.210101e-26 | \n",
       "|  100         | 30           | 0.8981971    | 0.8981971    | 3.172914e-26 | \n",
       "|  500         | 30           | 0.9040031    | 0.9040031    | 1.847838e-26 | \n",
       "| 1000         | 30           | 0.8986597    | 0.8986597    | 2.116352e-26 | \n",
       "|   10         | 40           | 0.9510281    | 0.9510281    | 4.066281e-23 | \n",
       "|   30         | 40           | 0.9100937    | 0.9100937    | 4.014635e-25 | \n",
       "|   50         | 40           | 0.9129527    | 0.9129527    | 1.808016e-25 | \n",
       "|  100         | 40           | 0.8991152    | 0.8991152    | 1.032775e-25 | \n",
       "|  500         | 40           | 0.8946653    | 0.8946653    | 3.805844e-26 | \n",
       "| 1000         | 40           | 0.9020383    | 0.9020383    | 4.154351e-26 | \n",
       "\n",
       "\n"
      ],
      "text/plain": [
       "   N    T  FEF       UFE       Mean_quadratic_difference\n",
       "1    10  5 1.2651472 1.2651472 1.559088e-26             \n",
       "2    30  5 0.9255007 0.9255007 3.705662e-28             \n",
       "3    50  5 0.9375893 0.9375893 2.081947e-28             \n",
       "4   100  5 0.8920135 0.8920135 1.151292e-28             \n",
       "5   500  5 0.9066743 0.9066743 1.867544e-28             \n",
       "6  1000  5 0.9010138 0.9010138 3.036846e-28             \n",
       "7    10 10 1.1068143 1.1068143 3.862147e-25             \n",
       "8    30 10 0.9261906 0.9261906 2.927274e-27             \n",
       "9    50 10 0.9001964 0.9001964 1.444311e-27             \n",
       "10  100 10 0.9101259 0.9101259 8.489144e-28             \n",
       "11  500 10 0.8923720 0.8923720 8.639675e-28             \n",
       "12 1000 10 0.8957976 0.8957976 1.339241e-27             \n",
       "13   10 30 0.9214479 0.9214479 8.169299e-23             \n",
       "14   30 30 0.9226102 0.9226102 1.375530e-25             \n",
       "15   50 30 0.8941722 0.8941722 5.210101e-26             \n",
       "16  100 30 0.8981971 0.8981971 3.172914e-26             \n",
       "17  500 30 0.9040031 0.9040031 1.847838e-26             \n",
       "18 1000 30 0.8986597 0.8986597 2.116352e-26             \n",
       "19   10 40 0.9510281 0.9510281 4.066281e-23             \n",
       "20   30 40 0.9100937 0.9100937 4.014635e-25             \n",
       "21   50 40 0.9129527 0.9129527 1.808016e-25             \n",
       "22  100 40 0.8991152 0.8991152 1.032775e-25             \n",
       "23  500 40 0.8946653 0.8946653 3.805844e-26             \n",
       "24 1000 40 0.9020383 0.9020383 4.154351e-26             "
      ]
     },
     "metadata": {},
     "output_type": "display_data"
    }
   ],
   "source": [
    "results_ufe$Mean_quadratic_difference=(results_ufe$FEF-results_ufe$UFE)^2\n",
    "aggregate(cbind(FEF,UFE, Mean_quadratic_difference)~N+T, data=results_ufe, mean, na.rm=TRUE)"
   ]
  },
  {
   "cell_type": "markdown",
   "metadata": {
    "extensions": {
     "jupyter_dashboards": {
      "version": 1,
      "views": {
       "grid_default": {
        "col": 0,
        "height": 4,
        "hidden": false,
        "row": 357,
        "width": 4
       },
       "report_default": {
        "hidden": false
       }
      }
     }
    }
   },
   "source": [
    "### (ii) Comparison of FEF and FEVD"
   ]
  },
  {
   "cell_type": "markdown",
   "metadata": {
    "extensions": {
     "jupyter_dashboards": {
      "version": 1,
      "views": {
       "grid_default": {
        "col": 9,
        "height": 7,
        "hidden": false,
        "row": 349,
        "width": null
       },
       "report_default": {
        "hidden": false
       }
      }
     }
    }
   },
   "source": [
    "In order to compare the performances of the two estimators, we use two metrics : bias and Mean Square Error. We compare them using bias ratios and MSE ratios. We shall put the FEF at the numerator and the FEVD at the denominator. We expect the FEF to perform better and thus the ratios to be inferior to one.\n",
    "\n",
    "$$\\text{Bias Ratio}=\\frac{B(FEF)}{B(FEVD)}$$\n",
    "\n",
    "$$\\text{MSE Ratio}=\\frac{MSE(FEF)}{MSE(FEVD)}$$\n",
    "\n",
    "$$MSE(\\hat{\\gamma})=\\sum(\\hat{\\gamma}-\\gamma)^2$$"
   ]
  },
  {
   "cell_type": "code",
   "execution_count": 28,
   "metadata": {
    "ExecuteTime": {
     "end_time": "2017-01-12T17:37:38.493076",
     "start_time": "2017-01-12T16:37:37.584Z"
    },
    "collapsed": false,
    "extensions": {
     "jupyter_dashboards": {
      "version": 1,
      "views": {
       "grid_default": {
        "col": 0,
        "height": 9,
        "hidden": false,
        "row": 361,
        "width": 4
       },
       "report_default": {
        "hidden": false
       }
      }
     }
    }
   },
   "outputs": [
    {
     "data": {
      "text/html": [
       "<table>\n",
       "<thead><tr><th scope=col>N</th><th scope=col>T</th><th scope=col>FEVD</th><th scope=col>FEF</th></tr></thead>\n",
       "<tbody>\n",
       "\t<tr><td> 10       </td><td>3         </td><td> 0.9932661</td><td> 2.8974375</td></tr>\n",
       "\t<tr><td> 30       </td><td>3         </td><td> 0.3812613</td><td> 0.1354366</td></tr>\n",
       "\t<tr><td> 50       </td><td>3         </td><td>-0.3845274</td><td>-0.1508713</td></tr>\n",
       "\t<tr><td>100       </td><td>3         </td><td> 2.0438915</td><td> 0.3829692</td></tr>\n",
       "\t<tr><td>250       </td><td>3         </td><td> 0.5812527</td><td> 0.8722829</td></tr>\n",
       "\t<tr><td>500       </td><td>3         </td><td> 0.2943151</td><td> 0.0116557</td></tr>\n",
       "</tbody>\n",
       "</table>\n"
      ],
      "text/latex": [
       "\\begin{tabular}{r|llll}\n",
       " N & T & FEVD & FEF\\\\\n",
       "\\hline\n",
       "\t  10        & 3          &  0.9932661 &  2.8974375\\\\\n",
       "\t  30        & 3          &  0.3812613 &  0.1354366\\\\\n",
       "\t  50        & 3          & -0.3845274 & -0.1508713\\\\\n",
       "\t 100        & 3          &  2.0438915 &  0.3829692\\\\\n",
       "\t 250        & 3          &  0.5812527 &  0.8722829\\\\\n",
       "\t 500        & 3          &  0.2943151 &  0.0116557\\\\\n",
       "\\end{tabular}\n"
      ],
      "text/markdown": [
       "\n",
       "N | T | FEVD | FEF | \n",
       "|---|---|---|---|---|---|\n",
       "|  10        | 3          |  0.9932661 |  2.8974375 | \n",
       "|  30        | 3          |  0.3812613 |  0.1354366 | \n",
       "|  50        | 3          | -0.3845274 | -0.1508713 | \n",
       "| 100        | 3          |  2.0438915 |  0.3829692 | \n",
       "| 250        | 3          |  0.5812527 |  0.8722829 | \n",
       "| 500        | 3          |  0.2943151 |  0.0116557 | \n",
       "\n",
       "\n"
      ],
      "text/plain": [
       "  N   T FEVD       FEF       \n",
       "1  10 3  0.9932661  2.8974375\n",
       "2  30 3  0.3812613  0.1354366\n",
       "3  50 3 -0.3845274 -0.1508713\n",
       "4 100 3  2.0438915  0.3829692\n",
       "5 250 3  0.5812527  0.8722829\n",
       "6 500 3  0.2943151  0.0116557"
      ]
     },
     "metadata": {},
     "output_type": "display_data"
    },
    {
     "data": {
      "text/html": [
       "<ol class=list-inline>\n",
       "\t<li>90000</li>\n",
       "\t<li>4</li>\n",
       "</ol>\n"
      ],
      "text/latex": [
       "\\begin{enumerate*}\n",
       "\\item 90000\n",
       "\\item 4\n",
       "\\end{enumerate*}\n"
      ],
      "text/markdown": [
       "1. 90000\n",
       "2. 4\n",
       "\n",
       "\n"
      ],
      "text/plain": [
       "[1] 90000     4"
      ]
     },
     "metadata": {},
     "output_type": "display_data"
    }
   ],
   "source": [
    "#Data Retrieval\n",
    "results=read.table(\"replication_results.txt\", sep=\",\")\n",
    "colnames(results)=c(\"N\", \"T\", \"FEVD\", \"FEF\")\n",
    "\n",
    "head(results)\n",
    "dim(results)"
   ]
  },
  {
   "cell_type": "code",
   "execution_count": 29,
   "metadata": {
    "ExecuteTime": {
     "end_time": "2017-01-12T17:37:40.232391",
     "start_time": "2017-01-12T16:37:39.960Z"
    },
    "collapsed": false,
    "extensions": {
     "jupyter_dashboards": {
      "version": 1,
      "views": {
       "grid_default": {
        "hidden": true
       },
       "report_default": {
        "hidden": false
       }
      }
     }
    },
    "hide_input": true
   },
   "outputs": [],
   "source": [
    "#Data wrangling to prepare for plotting\n",
    "wrangle=function(results, UFE){\n",
    "    \n",
    "    r_fevd=results[c('N', 'T', 'FEVD')]\n",
    "    colnames(r_fevd)=c('N', 'T', 'gamma')\n",
    "    estimator='FEVD'\n",
    "    r_fevd=cbind(r_fevd, estimator)\n",
    "\n",
    "    r_fef=results[c('N', 'T', 'FEF')]\n",
    "    colnames(r_fef)=c('N', 'T', 'gamma')\n",
    "    estimator='FEF'\n",
    "    r_fef=cbind(r_fef, estimator)\n",
    "    r_fef$N=r_fef$N+5\n",
    "\n",
    "    if(UFE){\n",
    "        r_ufe=results[c('N', 'T', 'UFE')]\n",
    "        colnames(r_ufe)=c('N', 'T', 'gamma')\n",
    "        estimator='UFE'\n",
    "        r_ufe=cbind(r_ufe, estimator)\n",
    "        r_ufe$T=r_ufe$T+2  \n",
    "        re=rbind(r_fef, r_fevd, r_ufe)\n",
    "    }\n",
    "    else {\n",
    "        re=rbind(r_fef, r_fevd)\n",
    "    }\n",
    "    \n",
    "    return(re)\n",
    "}\n",
    "\n",
    "re=wrangle(results, UFE=FALSE)"
   ]
  },
  {
   "cell_type": "code",
   "execution_count": 30,
   "metadata": {
    "ExecuteTime": {
     "end_time": "2017-01-12T17:37:42.584302",
     "start_time": "2017-01-12T16:37:42.556Z"
    },
    "collapsed": true,
    "extensions": {
     "jupyter_dashboards": {
      "version": 1,
      "views": {
       "grid_default": {
        "hidden": true
       },
       "report_default": {
        "hidden": false
       }
      }
     }
    }
   },
   "outputs": [],
   "source": [
    "smoothing_method='glm'\n",
    "display_bias_ratio=function(results, gamma, title){  \n",
    "    results$bias_fevd=abs(results$FEVD-gamma)\n",
    "    results$bias_fef=abs(results$FEF-gamma)\n",
    "    results$bias_ratio=results$bias_fef/results$bias_fevd\n",
    "    results_agr=aggregate(bias_ratio~N+T, data=results, mean, na.rm=TRUE)\n",
    "    p=ggplot(data=results_agr, aes(x=N, y=bias_ratio))+ geom_hline(yintercept=1)+geom_point(size=1)+ stat_smooth(method=smoothing_method)+ facet_grid(. ~ T) #+ theme_bw()\n",
    "    #p=p+ scale_y_continuous(limit = c(0, 3))\n",
    "    gg <- ggplotly(p)\n",
    "    #layout(gg, dragmode = \"pan\")\n",
    "    chart_link12 = plotly_POST(gg, filename=title)\n",
    "    #print(p)#+ scale_y_continuous(limit = c(0, 3)))\n",
    "}\n",
    "\n",
    "display_var_ratio=function(results, gamma, title){\n",
    "    results$var_fevd=abs(results$FEVD-gamma)\n",
    "    results$var_fef=abs(results$FEF-gamma)\n",
    "    var_table=aggregate(cbind(var_fevd,var_fef)~N+T, data=results, var, na.rm=TRUE)\n",
    "    var_table$var_ratio=var_table$var_fef/var_table$var_fevd\n",
    "    p2=ggplot(data=var_table, aes(x=N, y=var_ratio))+ geom_hline(yintercept=1)+geom_point(size=1)+ stat_smooth(se=TRUE, method=smoothing_method)+ facet_grid(. ~ T) #+ theme_bw()\n",
    "    #print(p2)\n",
    "    gg <- ggplotly(p2)\n",
    "    chart_link12 = plotly_POST(gg, filename=title)\n",
    "}\n",
    "\n",
    "display_mse=function(results, gamma, title){\n",
    "    results$var_fevd=abs(results$FEVD-gamma)^2\n",
    "    results$var_fef=abs(results$FEF-gamma)^2\n",
    "    var_table=aggregate(cbind(var_fevd,var_fef)~N+T, data=results, mean, na.rm=TRUE)\n",
    "    var_table$mse_ratio=var_table$var_fef/var_table$var_fevd\n",
    "    p2=ggplot(data=var_table, aes(x=N, y=mse_ratio))+ geom_hline(yintercept=1)+geom_point(size=1)+ stat_smooth(se=TRUE, method=smoothing_method)+ facet_grid(. ~ T) #+ theme_bw()\n",
    "    #print(p2)\n",
    "    gg <- ggplotly(p2)\n",
    "    chart_link12 = plotly_POST(gg, filename=title)\n",
    "}"
   ]
  },
  {
   "cell_type": "code",
   "execution_count": 31,
   "metadata": {
    "ExecuteTime": {
     "end_time": "2017-01-12T17:37:42.980544",
     "start_time": "2017-01-12T16:37:42.967Z"
    },
    "collapsed": false,
    "extensions": {
     "jupyter_dashboards": {
      "version": 1,
      "views": {
       "grid_default": {
        "hidden": true
       },
       "report_default": {
        "hidden": false
       }
      }
     }
    }
   },
   "outputs": [],
   "source": [
    "options(repr.plot.width=10, repr.plot.height=5)"
   ]
  },
  {
   "cell_type": "code",
   "execution_count": 33,
   "metadata": {
    "ExecuteTime": {
     "end_time": "2017-01-12T17:38:10.617278",
     "start_time": "2017-01-12T16:37:54.582Z"
    },
    "collapsed": false,
    "extensions": {
     "jupyter_dashboards": {
      "version": 1,
      "views": {
       "grid_default": {
        "hidden": true
       },
       "report_default": {
        "hidden": false
       }
      }
     }
    }
   },
   "outputs": [
    {
     "name": "stderr",
     "output_type": "stream",
     "text": [
      "No encoding supplied: defaulting to UTF-8.\n",
      "Success! Modified your plotly here -> https://plot.ly/~NicolasWoloszko/60\n",
      "No encoding supplied: defaulting to UTF-8.\n",
      "Success! Modified your plotly here -> https://plot.ly/~NicolasWoloszko/62\n"
     ]
    }
   ],
   "source": [
    "gamma=1\n",
    "display_bias_ratio(results, gamma=gamma, title=\"Bias ratio - Simple DGP\")\n",
    "display_mse(results, gamma=gamma1, title=\"Variance ratio - Simple DGP\")"
   ]
  },
  {
   "cell_type": "markdown",
   "metadata": {
    "extensions": {
     "jupyter_dashboards": {
      "version": 1,
      "views": {
       "grid_default": {
        "col": 0,
        "height": 17,
        "hidden": false,
        "row": 404,
        "width": 12
       },
       "report_default": {
        "hidden": false
       }
      }
     }
    }
   },
   "source": [
    "<tr>\n",
    "\n",
    "<td style=\" border-top-width: 0px; border-right-width: 0px; border-bottom-width: 0px; border-left-width: 0px;\"> \n",
    "    <center> Bias ratio - Simple DGP </center>\n",
    "    <a href=\"https://plot.ly/~NicolasWoloszko/60/\" target=\"_blank\" title=\"\" style=\"display: block; text-align: center;\"><img src=\"https://plot.ly/~NicolasWoloszko/60.png\" alt=\"\" style=\"max-width: 100%;width: 600px;\"  width=\"600\" onerror=\"this.onerror=null;this.src='https://plot.ly/404.png';\" /></a>\n",
    "    <script data-plotly=\"NicolasWoloszko:32\"  src=\"https://plot.ly/embed.js\" async></script>\n",
    "</td>\n",
    "\n",
    "<td style=\" border-top-width: 0px; border-right-width: 0px; border-bottom-width: 0px; border-left-width: 0px;\">  \n",
    "    <center> MSE ratio - Simple DGP </center>\n",
    "    <a href=\"https://plot.ly/~NicolasWoloszko/62/\" target=\"_blank\" title=\"\" style=\"display: block; text-align: center;\"><img src=\"https://plot.ly/~NicolasWoloszko/62.png\" alt=\"\" style=\"max-width: 100%;width: 600px;\"  width=\"600\" onerror=\"this.onerror=null;this.src='https://plot.ly/404.png';\" /></a>\n",
    "    <script data-plotly=\"NicolasWoloszko:32\"  src=\"https://plot.ly/embed.js\" async></script>\n",
    "</td>\n",
    "\n",
    "</tr>"
   ]
  },
  {
   "cell_type": "markdown",
   "metadata": {
    "extensions": {
     "jupyter_dashboards": {
      "version": 1,
      "views": {
       "grid_default": {
        "col": 0,
        "height": 4,
        "hidden": false,
        "row": 438,
        "width": 4
       },
       "report_default": {
        "hidden": false
       }
      }
     }
    }
   },
   "source": [
    "### b. Pesaran's DGP : case 1"
   ]
  },
  {
   "cell_type": "code",
   "execution_count": 24,
   "metadata": {
    "ExecuteTime": {
     "end_time": "2017-01-12T17:13:38.955698",
     "start_time": "2017-01-12T16:13:38.845Z"
    },
    "collapsed": false,
    "extensions": {
     "jupyter_dashboards": {
      "version": 1,
      "views": {
       "grid_default": {
        "col": 4,
        "height": 9,
        "hidden": false,
        "row": 438,
        "width": 4
       },
       "report_default": {
        "hidden": false
       }
      }
     }
    }
   },
   "outputs": [
    {
     "data": {
      "text/html": [
       "<ol class=list-inline>\n",
       "\t<li>4000</li>\n",
       "\t<li>6</li>\n",
       "</ol>\n"
      ],
      "text/latex": [
       "\\begin{enumerate*}\n",
       "\\item 4000\n",
       "\\item 6\n",
       "\\end{enumerate*}\n"
      ],
      "text/markdown": [
       "1. 4000\n",
       "2. 6\n",
       "\n",
       "\n"
      ],
      "text/plain": [
       "[1] 4000    6"
      ]
     },
     "metadata": {},
     "output_type": "display_data"
    }
   ],
   "source": [
    "gamma1=1\n",
    "gamma2=1\n",
    "path=\"/Users/Nicolas/Google Drive/OECD/2016 - Consultant ECO/OECD_SSD_Fixed_Effects\"\n",
    "setwd(path)\n",
    "\n",
    "results=read.table(\"simulations_results_dgp1_case1_v2.txt\", sep=\",\")\n",
    "colnames(results)=c(\"N\", \"T\", \"FEVD_1\",\"FEVD_2\", \"FEF_1\", \"FEF_2\")\n",
    "\n",
    "results_z1=results[c(\"N\", \"T\", \"FEVD_1\", \"FEF_1\")]\n",
    "colnames(results_z1)=c(\"N\", \"T\", \"FEVD\", \"FEF\")\n",
    "\n",
    "results_z2=results[c(\"N\", \"T\", \"FEVD_2\", \"FEF_2\")]\n",
    "colnames(results_z2)=c(\"N\", \"T\", \"FEVD\", \"FEF\")\n",
    "\n",
    "dim(results)"
   ]
  },
  {
   "cell_type": "code",
   "execution_count": 46,
   "metadata": {
    "ExecuteTime": {
     "end_time": "2017-01-12T16:02:13.620394",
     "start_time": "2017-01-12T15:02:03.772Z"
    },
    "collapsed": false,
    "extensions": {
     "jupyter_dashboards": {
      "version": 1,
      "views": {
       "grid_default": {
        "hidden": true
       },
       "report_default": {
        "hidden": false
       }
      }
     }
    }
   },
   "outputs": [
    {
     "name": "stderr",
     "output_type": "stream",
     "text": [
      "No encoding supplied: defaulting to UTF-8.\n",
      "Success! Modified your plotly here -> https://plot.ly/~NicolasWoloszko/52\n",
      "No encoding supplied: defaulting to UTF-8.\n",
      "Success! Modified your plotly here -> https://plot.ly/~NicolasWoloszko/54\n",
      "No encoding supplied: defaulting to UTF-8.\n",
      "Success! Modified your plotly here -> https://plot.ly/~NicolasWoloszko/56\n",
      "No encoding supplied: defaulting to UTF-8.\n",
      "Success! Modified your plotly here -> https://plot.ly/~NicolasWoloszko/58\n"
     ]
    }
   ],
   "source": [
    "display_bias_ratio(results_z1, gamma=gamma1, title = \"Bias Ratio - DGP1 - Case 1\")\n",
    "display_bias_ratio(results_z2, gamma=gamma2, title = \"Bias Ratio for z2 - DGP1 - Case 1\")\n",
    "display_mse(results_z1, gamma=gamma1, title=\"Variance ratio - DGP1 - case 1\")\n",
    "display_mse(results_z2, gamma=gamma2, title=\"Variance ratio for z2 - DGP1 - case 1\")"
   ]
  },
  {
   "cell_type": "markdown",
   "metadata": {},
   "source": [
    "<tr>\n",
    "\n",
    "<td style=\" border-top-width: 0px; border-right-width: 0px; border-bottom-width: 0px; border-left-width: 0px;\"> \n",
    "    <center> Bias ratio for z1 - DGP1 - case 1 </center>\n",
    "    <a href=\"https://plot.ly/~NicolasWoloszko/52/\" target=\"_blank\" title=\"\" style=\"display: block; text-align: center;\"><img src=\"https://plot.ly/~NicolasWoloszko/52.png\" alt=\"\" style=\"max-width: 100%;width: 600px;\"  width=\"600\" onerror=\"this.onerror=null;this.src='https://plot.ly/404.png';\" /></a>\n",
    "    <script data-plotly=\"NicolasWoloszko:32\"  src=\"https://plot.ly/embed.js\" async></script>\n",
    "</td>\n",
    "\n",
    "<td style=\" border-top-width: 0px; border-right-width: 0px; border-bottom-width: 0px; border-left-width: 0px;\">  \n",
    "    <center> Bias ratio for z2 - DGP1 - case 1 </center>\n",
    "    <a href=\"https://plot.ly/~NicolasWoloszko/54/\" target=\"_blank\" title=\"\" style=\"display: block; text-align: center;\"><img src=\"https://plot.ly/~NicolasWoloszko/54.png\" alt=\"\" style=\"max-width: 100%;width: 600px;\"  width=\"600\" onerror=\"this.onerror=null;this.src='https://plot.ly/404.png';\" /></a>\n",
    "    <script data-plotly=\"NicolasWoloszko:32\"  src=\"https://plot.ly/embed.js\" async></script>\n",
    "</td>\n",
    "\n",
    "</tr>\n",
    "\n",
    "<tr>\n",
    "\n",
    "<td style=\" border-top-width: 0px; border-right-width: 0px; border-bottom-width: 0px; border-left-width: 0px;\"> \n",
    "    <center> MSE ratio for z1 - DGP1 - case 1 </center>\n",
    "    <a href=\"https://plot.ly/~NicolasWoloszko/56/\" target=\"_blank\" title=\"\" style=\"display: block; text-align: center;\"><img src=\"https://plot.ly/~NicolasWoloszko/56.png\" alt=\"\" style=\"max-width: 100%;width: 600px;\"  width=\"600\" onerror=\"this.onerror=null;this.src='https://plot.ly/404.png';\" /></a>\n",
    "    <script data-plotly=\"NicolasWoloszko:32\"  src=\"https://plot.ly/embed.js\" async></script>\n",
    "</td>\n",
    "\n",
    "<td style=\" border-top-width: 0px; border-right-width: 0px; border-bottom-width: 0px; border-left-width: 0px;\">  \n",
    "    <center> MSE ratio for z2 - DGP1 - case 1 </center>\n",
    "    <a href=\"https://plot.ly/~NicolasWoloszko/58/\" target=\"_blank\" title=\"\" style=\"display: block; text-align: center;\"><img src=\"https://plot.ly/~NicolasWoloszko/58.png\" alt=\"\" style=\"max-width: 100%;width: 600px;\"  width=\"600\" onerror=\"this.onerror=null;this.src='https://plot.ly/404.png';\" /></a>\n",
    "    <script data-plotly=\"NicolasWoloszko:32\"  src=\"https://plot.ly/embed.js\" async></script>\n",
    "</td>\n",
    "\n",
    "</tr>"
   ]
  },
  {
   "cell_type": "markdown",
   "metadata": {
    "extensions": {
     "jupyter_dashboards": {
      "version": 1,
      "views": {
       "grid_default": {
        "col": 8,
        "height": 4,
        "hidden": false,
        "row": 438,
        "width": 4
       },
       "report_default": {
        "hidden": false
       }
      }
     }
    }
   },
   "source": [
    "### c. Pesaran's DGP : case 2\n",
    "\n",
    "Heteroskedastic errors"
   ]
  },
  {
   "cell_type": "code",
   "execution_count": 25,
   "metadata": {
    "ExecuteTime": {
     "end_time": "2017-01-12T17:13:45.473321",
     "start_time": "2017-01-12T16:13:45.220Z"
    },
    "collapsed": false,
    "extensions": {
     "jupyter_dashboards": {
      "version": 1,
      "views": {
       "grid_default": {
        "col": 0,
        "height": 9,
        "hidden": false,
        "row": 515,
        "width": 4
       },
       "report_default": {
        "hidden": false
       }
      }
     }
    }
   },
   "outputs": [
    {
     "data": {
      "text/html": [
       "<ol class=list-inline>\n",
       "\t<li>15000</li>\n",
       "\t<li>6</li>\n",
       "</ol>\n"
      ],
      "text/latex": [
       "\\begin{enumerate*}\n",
       "\\item 15000\n",
       "\\item 6\n",
       "\\end{enumerate*}\n"
      ],
      "text/markdown": [
       "1. 15000\n",
       "2. 6\n",
       "\n",
       "\n"
      ],
      "text/plain": [
       "[1] 15000     6"
      ]
     },
     "metadata": {},
     "output_type": "display_data"
    }
   ],
   "source": [
    "gamma1=1\n",
    "gamma2=1\n",
    "#path=\"/Users/Nicolas/Simulations_R/\"\n",
    "path=\"/Users/Nicolas/Google Drive/OECD/2016 - Consultant ECO/OECD_SSD_Fixed_Effects\"\n",
    "setwd(path)\n",
    "\n",
    "results=read.table(\"simulations_results_dgp1_case2.txt\", sep=\",\")\n",
    "colnames(results)=c(\"N\", \"T\", \"FEVD_1\",\"FEVD_2\", \"FEF_1\", \"FEF_2\")\n",
    "\n",
    "results_z1=results[c(\"N\", \"T\", \"FEVD_1\", \"FEF_1\")]\n",
    "colnames(results_z1)=c(\"N\", \"T\", \"FEVD\", \"FEF\")\n",
    "\n",
    "results_z2=results[c(\"N\", \"T\", \"FEVD_2\", \"FEF_2\")]\n",
    "colnames(results_z2)=c(\"N\", \"T\", \"FEVD\", \"FEF\")\n",
    "\n",
    "#head(results_z1)\n",
    "#head(results_z2)\n",
    "dim(results)"
   ]
  },
  {
   "cell_type": "code",
   "execution_count": 50,
   "metadata": {
    "ExecuteTime": {
     "end_time": "2017-01-10T17:08:19.879230",
     "start_time": "2017-01-10T16:08:10.655Z"
    },
    "collapsed": false,
    "extensions": {
     "jupyter_dashboards": {
      "version": 1,
      "views": {
       "grid_default": {
        "hidden": true
       },
       "report_default": {
        "hidden": false
       }
      }
     }
    }
   },
   "outputs": [
    {
     "name": "stderr",
     "output_type": "stream",
     "text": [
      "No encoding supplied: defaulting to UTF-8.\n",
      "Success! Modified your plotly here -> https://plot.ly/~NicolasWoloszko/64\n",
      "No encoding supplied: defaulting to UTF-8.\n",
      "Success! Modified your plotly here -> https://plot.ly/~NicolasWoloszko/66\n",
      "No encoding supplied: defaulting to UTF-8.\n",
      "Success! Modified your plotly here -> https://plot.ly/~NicolasWoloszko/68\n",
      "No encoding supplied: defaulting to UTF-8.\n",
      "Success! Modified your plotly here -> https://plot.ly/~NicolasWoloszko/70\n"
     ]
    }
   ],
   "source": [
    "display_bias_ratio(results_z1, gamma=gamma1, title = \"Bias Ratio - DGP1 - Case 2\")\n",
    "display_bias_ratio(results_z2, gamma=gamma2, title = \"Bias Ratio for z2 - DGP1 - Case 2\")\n",
    "display_mse(results_z1, gamma=gamma1, title=\"Variance ratio - DGP1 - Case 2\")\n",
    "display_mse(results_z2, gamma=gamma2, title=\"Variance ratio for z2 - DGP1 - Case 2\")"
   ]
  },
  {
   "cell_type": "markdown",
   "metadata": {},
   "source": [
    "\n",
    "\n",
    "<tr style=\" border-top-width: 0px; border-right-width: 0px; border-bottom-width: 0px; border-left-width: 0px;\">\n",
    "\n",
    "<td style=\" border-top-width: 0px; border-right-width: 0px; border-bottom-width: 0px; border-left-width: 0px;\"> \n",
    "    <center> Bias ratio for z1 - DGP1 - case 2 </center>\n",
    "    <a href=\"https://plot.ly/~NicolasWoloszko/64/\" target=\"_blank\" title=\"\" style=\"display: block; text-align: center;\"><img src=\"https://plot.ly/~NicolasWoloszko/64.png\" alt=\"\" style=\"max-width: 100%;width: 600px;\"  width=\"600\" onerror=\"this.onerror=null;this.src='https://plot.ly/404.png';\" /></a>\n",
    "    <script data-plotly=\"NicolasWoloszko:32\"  src=\"https://plot.ly/embed.js\" async></script>\n",
    "</td>\n",
    "\n",
    "<td style=\" border-top-width: 0px; border-right-width: 0px; border-bottom-width: 0px; border-left-width: 0px;\">  \n",
    "    <center> Bias ratio for z2 - DGP1 - case 2 </center>\n",
    "    <a href=\"https://plot.ly/~NicolasWoloszko/66/\" target=\"_blank\" title=\"\" style=\"display: block; text-align: center;\"><img src=\"https://plot.ly/~NicolasWoloszko/66.png\" alt=\"\" style=\"max-width: 100%;width: 600px;\"  width=\"600\" onerror=\"this.onerror=null;this.src='https://plot.ly/404.png';\" /></a>\n",
    "    <script data-plotly=\"NicolasWoloszko:32\"  src=\"https://plot.ly/embed.js\" async></script>\n",
    "</td>\n",
    "\n",
    "</tr>\n",
    "  \n",
    "\n",
    "    "
   ]
  },
  {
   "cell_type": "markdown",
   "metadata": {},
   "source": [
    "<tr >\n",
    "\n",
    "<td style=\" border-top-width: 0px; border-right-width: 0px; border-bottom-width: 0px; border-left-width: 0px;\"> \n",
    "    <center> MSE ratio for z1 - DGP1 - case 2 </center>\n",
    "    <a href=\"https://plot.ly/~NicolasWoloszko/68/\" target=\"_blank\" title=\"\" style=\"display: block; text-align: center;\"><img src=\"https://plot.ly/~NicolasWoloszko/68.png\" alt=\"\" style=\"max-width: 100%;width: 600px;\"  width=\"600\" onerror=\"this.onerror=null;this.src='https://plot.ly/404.png';\" /></a>\n",
    "    <script data-plotly=\"NicolasWoloszko:32\"  src=\"https://plot.ly/embed.js\" async></script>\n",
    "</td>\n",
    "\n",
    "<td style=\" border-top-width: 0px; border-right-width: 0px; border-bottom-width: 0px; border-left-width: 0px;\">  \n",
    "    <center> MSE ratio for z2 - DGP1 - case 2 </center>\n",
    "    <a href=\"https://plot.ly/~NicolasWoloszko/70/\" target=\"_blank\" title=\"\" style=\"display: block; text-align: center;\"><img src=\"https://plot.ly/~NicolasWoloszko/70.png\" alt=\"\" style=\"max-width: 100%;width: 600px;\"  width=\"600\" onerror=\"this.onerror=null;this.src='https://plot.ly/404.png';\" /></a>\n",
    "    <script data-plotly=\"NicolasWoloszko:32\"  src=\"https://plot.ly/embed.js\" async></script>\n",
    "</td>\n",
    "\n",
    "</tr>"
   ]
  },
  {
   "cell_type": "markdown",
   "metadata": {
    "extensions": {
     "jupyter_dashboards": {
      "version": 1,
      "views": {
       "grid_default": {
        "col": 0,
        "height": 4,
        "hidden": false,
        "row": 442,
        "width": 4
       },
       "report_default": {
        "hidden": false
       }
      }
     }
    }
   },
   "source": [
    "### d. Pesaran's DGP : case 3\n",
    "\n",
    "Serially correlated and heteroskedastic errors"
   ]
  },
  {
   "cell_type": "code",
   "execution_count": 34,
   "metadata": {
    "ExecuteTime": {
     "end_time": "2017-01-12T17:47:41.147186",
     "start_time": "2017-01-12T16:47:40.915Z"
    },
    "collapsed": false,
    "extensions": {
     "jupyter_dashboards": {
      "version": 1,
      "views": {
       "grid_default": {
        "col": 4,
        "height": 9,
        "hidden": false,
        "row": 515,
        "width": 4
       },
       "report_default": {
        "hidden": false
       }
      }
     }
    }
   },
   "outputs": [
    {
     "data": {
      "text/html": [
       "<ol class=list-inline>\n",
       "\t<li>15000</li>\n",
       "\t<li>6</li>\n",
       "</ol>\n"
      ],
      "text/latex": [
       "\\begin{enumerate*}\n",
       "\\item 15000\n",
       "\\item 6\n",
       "\\end{enumerate*}\n"
      ],
      "text/markdown": [
       "1. 15000\n",
       "2. 6\n",
       "\n",
       "\n"
      ],
      "text/plain": [
       "[1] 15000     6"
      ]
     },
     "metadata": {},
     "output_type": "display_data"
    }
   ],
   "source": [
    "gamma1=1\n",
    "gamma2=1\n",
    "#path=\"/Users/Nicolas/Simulations_R/\"\n",
    "path=\"/Users/Nicolas/Google Drive/OECD/2016 - Consultant ECO/OECD_SSD_Fixed_Effects\"\n",
    "setwd(path)\n",
    "\n",
    "results=read.table(\"simulations_results_dgp1_case3.txt\", sep=\",\")\n",
    "colnames(results)=c(\"N\", \"T\", \"FEVD_1\",\"FEVD_2\", \"FEF_1\", \"FEF_2\")\n",
    "\n",
    "results_z1=results[c(\"N\", \"T\", \"FEVD_1\", \"FEF_1\")]\n",
    "colnames(results_z1)=c(\"N\", \"T\", \"FEVD\", \"FEF\")\n",
    "\n",
    "results_z2=results[c(\"N\", \"T\", \"FEVD_2\", \"FEF_2\")]\n",
    "colnames(results_z2)=c(\"N\", \"T\", \"FEVD\", \"FEF\")\n",
    "\n",
    "#head(results_z1)\n",
    "#head(results_z2)\n",
    "dim(results)"
   ]
  },
  {
   "cell_type": "code",
   "execution_count": 4,
   "metadata": {
    "ExecuteTime": {
     "end_time": "2017-01-11T11:19:50.205919",
     "start_time": "2017-01-11T10:19:40.869Z"
    },
    "collapsed": false,
    "extensions": {
     "jupyter_dashboards": {
      "version": 1,
      "views": {
       "grid_default": {
        "hidden": true
       },
       "report_default": {
        "hidden": false
       }
      }
     }
    }
   },
   "outputs": [
    {
     "name": "stderr",
     "output_type": "stream",
     "text": [
      "No encoding supplied: defaulting to UTF-8.\n",
      "Success! Modified your plotly here -> https://plot.ly/~NicolasWoloszko/72\n",
      "No encoding supplied: defaulting to UTF-8.\n",
      "Success! Modified your plotly here -> https://plot.ly/~NicolasWoloszko/74\n",
      "No encoding supplied: defaulting to UTF-8.\n",
      "Success! Modified your plotly here -> https://plot.ly/~NicolasWoloszko/76\n",
      "No encoding supplied: defaulting to UTF-8.\n",
      "Success! Modified your plotly here -> https://plot.ly/~NicolasWoloszko/78\n"
     ]
    }
   ],
   "source": [
    "display_bias_ratio(results_z1, gamma=gamma1, title = \"Bias Ratio - DGP1 - Case 3\")\n",
    "display_bias_ratio(results_z2, gamma=gamma2, title = \"Bias Ratio for z2 - DGP1 - Case 3\")\n",
    "display_mse(results_z1, gamma=gamma1, title=\"Variance ratio - DGP1 - Case 3\")\n",
    "display_mse(results_z2, gamma=gamma2, title=\"Variance ratio for z2 - DGP1 - Case 3\")"
   ]
  },
  {
   "cell_type": "markdown",
   "metadata": {},
   "source": [
    "<tr>\n",
    "\n",
    "<td style=\" border-top-width: 0px; border-right-width: 0px; border-bottom-width: 0px; border-left-width: 0px;\"> \n",
    "    <center> Bias ratio for z1 - DGP1 - case 3 </center>\n",
    "    <a href=\"https://plot.ly/~NicolasWoloszko/72/\" target=\"_blank\" title=\"\" style=\"display: block; text-align: center;\"><img src=\"https://plot.ly/~NicolasWoloszko/72.png\" alt=\"\" style=\"max-width: 100%;width: 600px;\"  width=\"600\" onerror=\"this.onerror=null;this.src='https://plot.ly/404.png';\" /></a>\n",
    "    <script data-plotly=\"NicolasWoloszko:32\"  src=\"https://plot.ly/embed.js\" async></script>\n",
    "</td>\n",
    "\n",
    "<td style=\" border-top-width: 0px; border-right-width: 0px; border-bottom-width: 0px; border-left-width: 0px;\">  \n",
    "    <center> Bias ratio for z2 - DGP1 - case 3 </center>\n",
    "    <a href=\"https://plot.ly/~NicolasWoloszko/74/\" target=\"_blank\" title=\"\" style=\"display: block; text-align: center;\"><img src=\"https://plot.ly/~NicolasWoloszko/74.png\" alt=\"\" style=\"max-width: 100%;width: 600px;\"  width=\"600\" onerror=\"this.onerror=null;this.src='https://plot.ly/404.png';\" /></a>\n",
    "    <script data-plotly=\"NicolasWoloszko:32\"  src=\"https://plot.ly/embed.js\" async></script>\n",
    "</td>\n",
    "\n",
    "</tr>\n",
    "\n",
    "<tr>\n",
    "\n",
    "<td style=\" border-top-width: 0px; border-right-width: 0px; border-bottom-width: 0px; border-left-width: 0px;\"> \n",
    "    <center> MSE ratio for z1 - DGP1 - case 3 </center>\n",
    "    <a href=\"https://plot.ly/~NicolasWoloszko/76/\" target=\"_blank\" title=\"\" style=\"display: block; text-align: center;\"><img src=\"https://plot.ly/~NicolasWoloszko/76.png\" alt=\"\" style=\"max-width: 100%;width: 600px;\"  width=\"600\" onerror=\"this.onerror=null;this.src='https://plot.ly/404.png';\" /></a>\n",
    "    <script data-plotly=\"NicolasWoloszko:32\"  src=\"https://plot.ly/embed.js\" async></script>\n",
    "</td>\n",
    "\n",
    "<td style=\" border-top-width: 0px; border-right-width: 0px; border-bottom-width: 0px; border-left-width: 0px;\">  \n",
    "    <center> MSE ratio for z2 - DGP1 - case 3 </center>\n",
    "    <a href=\"https://plot.ly/~NicolasWoloszko/78/\" target=\"_blank\" title=\"\" style=\"display: block; text-align: center;\"><img src=\"https://plot.ly/~NicolasWoloszko/78.png\" alt=\"\" style=\"max-width: 100%;width: 600px;\"  width=\"600\" onerror=\"this.onerror=null;this.src='https://plot.ly/404.png';\" /></a>\n",
    "    <script data-plotly=\"NicolasWoloszko:32\"  src=\"https://plot.ly/embed.js\" async></script>\n",
    "</td>\n",
    "\n",
    "</tr>"
   ]
  },
  {
   "cell_type": "markdown",
   "metadata": {
    "extensions": {
     "jupyter_dashboards": {
      "version": 1,
      "views": {
       "grid_default": {
        "col": 8,
        "height": 4,
        "hidden": false,
        "row": 442,
        "width": 4
       },
       "report_default": {
        "hidden": false
       }
      }
     }
    }
   },
   "source": [
    "# Conclusion"
   ]
  },
  {
   "cell_type": "markdown",
   "metadata": {
    "extensions": {
     "jupyter_dashboards": {
      "version": 1,
      "views": {
       "grid_default": {
        "col": 8,
        "height": 4,
        "hidden": false,
        "row": 515,
        "width": 4
       },
       "report_default": {
        "hidden": false
       }
      }
     }
    }
   },
   "source": [
    " "
   ]
  },
  {
   "cell_type": "markdown",
   "metadata": {
    "extensions": {
     "jupyter_dashboards": {
      "version": 1,
      "views": {
       "grid_default": {
        "col": 8,
        "height": 4,
        "hidden": false,
        "row": 519,
        "width": 4
       },
       "report_default": {
        "hidden": false
       }
      }
     }
    },
    "nbpresent": {
     "id": "b6b1dfcd-20f6-4985-9bbe-b77bcecd0677"
    }
   },
   "source": [
    "__________________________"
   ]
  },
  {
   "cell_type": "markdown",
   "metadata": {},
   "source": [
    "# Bibliography"
   ]
  },
  {
   "cell_type": "markdown",
   "metadata": {
    "collapsed": true,
    "extensions": {
     "jupyter_dashboards": {
      "version": 1,
      "views": {
       "grid_default": {
        "col": 0,
        "height": 8,
        "hidden": false,
        "row": 656,
        "width": 12
       },
       "report_default": {
        "hidden": false
       }
      }
     }
    },
    "nbpresent": {
     "id": "92a03642-bc72-401a-b48c-583ec76ada6f"
    }
   },
   "source": [
    "1. Thomas Plümper and Vera E. Troeger, “Efficient Estimation of Time-Invariant and Rarely Changing Variables in Finite Sample Panel Analyses with Unit Fixed Effects,” Political Analysis 15, no. 2 (March 20, 2007): 124–39, doi:10.1093/pan/mpm002.\n",
    "2. Jushan Bai, “Panel Data Models With Interactive Fixed Effects,” Econometrica 77, no. 4 (July 1, 2009): 1229–79, doi:10.3982/ECTA6135.\n",
    "3. William Greene, “Fixed Effects Vector Decomposition: A Magical Solution to the Problem of Time-Invariant Variables in Fixed Effects Models?,” Political Analysis 19, no. 2 (2011): 135–146.\n",
    "4. Jushan Bai, “Fixed-Effects Dynamic Panel Models, a Factor Analytical Method,” Econometrica 81, no. 1 (2013): 285–314.\n",
    "5. Jushan Bai, “Likelihood Approach to Dynamic Panel Models with Interactive Effects,” Available at SSRN 2332992, 2013, http://papers.ssrn.com/sol3/papers.cfm?abstract_id=2332992.\n",
    "6. Jushan Bai, Kunpeng Li, and others, “Theory and Methods of Panel Data Models with Interactive Effects,” The Annals of Statistics 42, no. 1 (2014): 142–170.\n"
   ]
  },
  {
   "cell_type": "raw",
   "metadata": {
    "extensions": {
     "jupyter_dashboards": {
      "version": 1,
      "views": {
       "grid_default": {
        "hidden": true
       },
       "report_default": {
        "hidden": false
       }
      }
     }
    }
   },
   "source": [
    "<script>\n",
    "  $(document).ready(function(){\n",
    "    $('div.prompt').hide();\n",
    "    $('div.back-to-top').hide();\n",
    "    $('nav#menubar').hide();\n",
    "    $('.breadcrumb').hide();\n",
    "    $('.hidden-print').hide();\n",
    "  });\n",
    "</script>\n",
    "\n",
    "<footer id=\"attribution\" style=\"float:right; color:#999; background:#fff;\">\n",
    "Created by Nicolas Woloszko, ECO/SSD.\n",
    "</footer>"
   ]
  }
 ],
 "metadata": {
  "anaconda-cloud": {},
  "extensions": {
   "jupyter_dashboards": {
    "activeView": "report_default",
    "version": 1,
    "views": {
     "grid_default": {
      "cellMargin": 10,
      "defaultCellHeight": 20,
      "maxColumns": 12,
      "name": "grid",
      "type": "grid"
     },
     "report_default": {
      "name": "report",
      "type": "report"
     }
    }
   }
  },
  "kernelspec": {
   "display_name": "R",
   "language": "R",
   "name": "ir"
  },
  "language_info": {
   "codemirror_mode": "r",
   "file_extension": ".r",
   "mimetype": "text/x-r-source",
   "name": "R",
   "pygments_lexer": "r",
   "version": "3.3.2"
  },
  "nbpresent": {
   "slides": {
    "3214dc95-8753-4b5f-9ef8-027b7380adaf": {
     "id": "3214dc95-8753-4b5f-9ef8-027b7380adaf",
     "layout": "treemap",
     "prev": null,
     "regions": {
      "052d20f3-dd58-4c91-aa3d-c4884a3ed7cd": {
       "attrs": {
        "height": 1,
        "treemap:weight": 1,
        "width": 0.5,
        "x": 0.5,
        "y": 0
       },
       "content": {
        "cell": "459d3bd7-3f86-440b-b986-ce4961ee7a14",
        "part": "source"
       },
       "id": "052d20f3-dd58-4c91-aa3d-c4884a3ed7cd"
      },
      "21593a0c-2c72-47a7-ae11-00493667d42e": {
       "attrs": {
        "height": 1,
        "treemap:weight": 1,
        "width": 0.5,
        "x": 0,
        "y": 0
       },
       "id": "21593a0c-2c72-47a7-ae11-00493667d42e"
      }
     }
    },
    "825c1152-434f-4697-81a6-10ee1a55e82e": {
     "id": "825c1152-434f-4697-81a6-10ee1a55e82e",
     "prev": "881c1ad5-7a0e-41c8-b300-28fc14a2852a",
     "regions": {
      "12153fa3-9e75-466b-95c1-764097167fe4": {
       "attrs": {
        "height": 1,
        "width": 1,
        "x": 0,
        "y": 0
       },
       "content": {
        "cell": "e9289100-faf1-402d-8b4b-cdc21ba7ec76",
        "part": "outputs"
       },
       "id": "12153fa3-9e75-466b-95c1-764097167fe4"
      }
     }
    },
    "881c1ad5-7a0e-41c8-b300-28fc14a2852a": {
     "id": "881c1ad5-7a0e-41c8-b300-28fc14a2852a",
     "layout": "manual",
     "prev": "3214dc95-8753-4b5f-9ef8-027b7380adaf",
     "regions": {
      "08228502-3362-4096-8d61-74d818b8cb75": {
       "attrs": {
        "height": 1,
        "pad": -0.04000000000000026,
        "treemap:weight": 1,
        "width": 1,
        "x": 0,
        "y": 0
       },
       "content": {
        "cell": "fffeb8b9-0f86-436b-95b2-41bd56f64108",
        "part": "whole"
       },
       "id": "08228502-3362-4096-8d61-74d818b8cb75",
       "treemap:weight": 2
      },
      "67377773-5c84-4108-9224-52e82f56eb4d": {
       "attrs": {
        "height": 0.8,
        "width": 0.8,
        "x": 0.1,
        "y": 0.1
       },
       "id": "67377773-5c84-4108-9224-52e82f56eb4d"
      }
     }
    },
    "f3dcd0f0-4fb1-4cab-aebb-33b4a41a9568": {
     "id": "f3dcd0f0-4fb1-4cab-aebb-33b4a41a9568",
     "prev": "825c1152-434f-4697-81a6-10ee1a55e82e",
     "regions": {
      "3d23daa3-9dce-4d9a-84dc-2be9f89e8b3e": {
       "attrs": {
        "height": 1,
        "width": 1,
        "x": 0,
        "y": 0
       },
       "content": {
        "cell": "3cc42af7-57a3-48f5-b62b-9a9181e1477a",
        "part": "outputs"
       },
       "id": "3d23daa3-9dce-4d9a-84dc-2be9f89e8b3e"
      }
     }
    }
   },
   "themes": {
    "default": "e837354d-6437-489c-8d1b-b66df0fb0e44",
    "theme": {
     "e837354d-6437-489c-8d1b-b66df0fb0e44": {
      "id": "e837354d-6437-489c-8d1b-b66df0fb0e44",
      "palette": {
       "19cc588f-0593-49c9-9f4b-e4d7cc113b1c": {
        "id": "19cc588f-0593-49c9-9f4b-e4d7cc113b1c",
        "rgb": [
         252,
         252,
         252
        ]
       },
       "31af15d2-7e15-44c5-ab5e-e04b16a89eff": {
        "id": "31af15d2-7e15-44c5-ab5e-e04b16a89eff",
        "rgb": [
         68,
         68,
         68
        ]
       },
       "50f92c45-a630-455b-aec3-788680ec7410": {
        "id": "50f92c45-a630-455b-aec3-788680ec7410",
        "rgb": [
         155,
         177,
         192
        ]
       },
       "c5cc3653-2ee1-402a-aba2-7caae1da4f6c": {
        "id": "c5cc3653-2ee1-402a-aba2-7caae1da4f6c",
        "rgb": [
         43,
         126,
         184
        ]
       },
       "efa7f048-9acb-414c-8b04-a26811511a21": {
        "id": "efa7f048-9acb-414c-8b04-a26811511a21",
        "rgb": [
         25.118061674008803,
         73.60176211453744,
         107.4819383259912
        ]
       }
      },
      "rules": {
       "blockquote": {
        "color": "50f92c45-a630-455b-aec3-788680ec7410"
       },
       "code": {
        "font-family": "Anonymous Pro"
       },
       "h1": {
        "color": "c5cc3653-2ee1-402a-aba2-7caae1da4f6c",
        "font-family": "Lato",
        "font-size": 8
       },
       "h2": {
        "color": "c5cc3653-2ee1-402a-aba2-7caae1da4f6c",
        "font-family": "Lato",
        "font-size": 6
       },
       "h3": {
        "color": "50f92c45-a630-455b-aec3-788680ec7410",
        "font-family": "Lato",
        "font-size": 5.5
       },
       "h4": {
        "color": "c5cc3653-2ee1-402a-aba2-7caae1da4f6c",
        "font-family": "Lato",
        "font-size": 5
       },
       "h5": {
        "font-family": "Lato"
       },
       "h6": {
        "font-family": "Lato"
       },
       "h7": {
        "font-family": "Lato"
       },
       "pre": {
        "font-family": "Anonymous Pro",
        "font-size": 4
       }
      },
      "text-base": {
       "font-family": "Merriweather",
       "font-size": 4
      }
     }
    }
   }
  },
  "toc": {
   "nav_menu": {
    "height": "512px",
    "width": "252px"
   },
   "navigate_menu": true,
   "number_sections": false,
   "sideBar": true,
   "threshold": 4,
   "toc_cell": true,
   "toc_position": {
    "height": "847px",
    "left": "0px",
    "right": "1211px",
    "top": "106px",
    "width": "268px"
   },
   "toc_section_display": "block",
   "toc_window_display": true
  }
 },
 "nbformat": 4,
 "nbformat_minor": 0
}
