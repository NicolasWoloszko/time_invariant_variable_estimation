{
 "cells": [
  {
   "cell_type": "raw",
   "metadata": {
    "deletable": true,
    "editable": true
   },
   "source": [
    "<script>\n",
    "  jQuery(document).ready(function($) {\n",
    "\n",
    "  $(window).load(function(){\n",
    "    $('#preloader').fadeOut('slow',function(){$(this).remove();});\n",
    "  });\n",
    "\n",
    "  });\n",
    "</script>\n",
    "\n",
    "<style type=\"text/css\">\n",
    "  div#preloader { position: fixed;\n",
    "      left: 0;\n",
    "      top: 0;\n",
    "      z-index: 999;\n",
    "      width: 100%;\n",
    "      height: 100%;\n",
    "      overflow: visible;\n",
    "      background: #fff url('http://preloaders.net/preloaders/720/Moving%20line.gif') no-repeat center center;\n",
    "  }\n",
    "\n",
    "</style>\n",
    "\n",
    "<div id=\"preloader\"></div>"
   ]
  },
  {
   "cell_type": "raw",
   "metadata": {
    "deletable": true,
    "editable": true
   },
   "source": [
    "<script>\n",
    "  function code_toggle() {\n",
    "    if (code_shown){\n",
    "      $('div.input').hide('500')\n",
    "      $('#toggleButton').val('Show Code')\n",
    "    } else {\n",
    "      $('div.input').show('500');\n",
    "      $('#toggleButton').val('Hide Code')\n",
    "    }\n",
    "    code_shown = !code_shown\n",
    "  }\n",
    "\n",
    "  $( document ).ready(function(){\n",
    "    code_shown=false;\n",
    "    $('div.input').hide();\n",
    "    $('div.output_stderr').hide('500')\n",
    "    $('div.output_prompt').hide('500')\n",
    "  });\n",
    "</script>\n",
    "<form action=\"javascript:code_toggle()\"><input type=\"submit\" id=\"toggleButton\" value=\"Show Code\"></form>"
   ]
  },
  {
   "cell_type": "markdown",
   "metadata": {},
   "source": [
    "<style>\n",
    ".lev1 {margin-left: 80px}\n",
    ".lev2 {margin-left: 100px}\n",
    ".lev3 {margin-left: 120px}\n",
    ".lev4 {margin-left: 140px}\n",
    ".lev5 {margin-left: 160px}\n",
    ".lev6 {margin-left: 180px}\n",
    ".p {font-family: \"Times New Roman\";}\n",
    "</style>"
   ]
  },
  {
   "cell_type": "markdown",
   "metadata": {
    "deletable": true,
    "editable": true
   },
   "source": [
    "<img src=\"https://upload.wikimedia.org/wikipedia/en/thumb/0/0d/OECD_logo_new.svg/1280px-OECD_logo_new.svg.png\" width=\"200\" height=\"200\" />\n",
    "\n",
    "\n",
    "\n",
    "<p style=\"margin-top: 22px; font-size:40px;  color:black; text-align: center;  \n",
    "font-weight: bold;  line-height: 100%;\"> Jupyter Notebooks </p>\n",
    "\n",
    "<p style=\"margin-top: 22px; font-size:30px;  color:black; text-align: center;  \n",
    "font-weight: bold;  line-height: 100%;\"> ...and their tremendous features </p>\n",
    "***********\n"
   ]
  },
  {
   "cell_type": "markdown",
   "metadata": {
    "toc": "true"
   },
   "source": [
    "# Table of Contents\n",
    " <p><div class=\"lev1 toc-item\"><a href=\"#Words\" data-toc-modified-id=\"Words-1\"><span class=\"toc-item-num\">1&nbsp;&nbsp;</span>Words</a></div><div class=\"lev1 toc-item\"><a href=\"#Code\" data-toc-modified-id=\"Code-2\"><span class=\"toc-item-num\">2&nbsp;&nbsp;</span>Code</a></div><div class=\"lev2 toc-item\"><a href=\"#DataViz\" data-toc-modified-id=\"DataViz-21\"><span class=\"toc-item-num\">2.1&nbsp;&nbsp;</span>DataViz</a></div><div class=\"lev2 toc-item\"><a href=\"#From-a-notebook-to-a-report\" data-toc-modified-id=\"From-a-notebook-to-a-report-22\"><span class=\"toc-item-num\">2.2&nbsp;&nbsp;</span>From a notebook to a report</a></div><div class=\"lev2 toc-item\"><a href=\"#Fine-tune-to-your-need\" data-toc-modified-id=\"Fine-tune-to-your-need-23\"><span class=\"toc-item-num\">2.3&nbsp;&nbsp;</span>Fine tune to your need</a></div><div class=\"lev1 toc-item\"><a href=\"#Conclusion\" data-toc-modified-id=\"Conclusion-3\"><span class=\"toc-item-num\">3&nbsp;&nbsp;</span>Conclusion</a></div><div class=\"lev1 toc-item\"><a href=\"#A-concrete-example:-Lucas-(1990)-&quot;Why-Doesn't-Capital-Flow-from-Rich-to-Poor-Countries?&quot;\" data-toc-modified-id=\"A-concrete-example:-Lucas-(1990)-&quot;Why-Doesn't-Capital-Flow-from-Rich-to-Poor-Countries?&quot;-4\"><span class=\"toc-item-num\">4&nbsp;&nbsp;</span>A concrete example: Lucas (1990) \"Why Doesn't Capital Flow from Rich to Poor Countries?\"</a></div><div class=\"lev2 toc-item\"><a href=\"#Neoclassical-convergence-predictions:\" data-toc-modified-id=\"Neoclassical-convergence-predictions:-41\"><span class=\"toc-item-num\">4.1&nbsp;&nbsp;</span>Neoclassical convergence predictions:</a></div><div class=\"lev2 toc-item\"><a href=\"#Simplest-model\" data-toc-modified-id=\"Simplest-model-42\"><span class=\"toc-item-num\">4.2&nbsp;&nbsp;</span>Simplest model</a></div><div class=\"lev2 toc-item\"><a href=\"#The-puzzle\" data-toc-modified-id=\"The-puzzle-43\"><span class=\"toc-item-num\">4.3&nbsp;&nbsp;</span>The puzzle</a></div>"
   ]
  },
  {
   "cell_type": "code",
   "execution_count": 12,
   "metadata": {
    "ExecuteTime": {
     "end_time": "2017-03-29T15:05:23.193000",
     "start_time": "2017-03-29T15:05:23.125000"
    },
    "collapsed": false,
    "deletable": true,
    "editable": true
   },
   "outputs": [],
   "source": [
    "import numpy as np\n",
    "import pandas as pd\n",
    "import sklearn as sk\n",
    "\n",
    "get_ipython().magic('matplotlib inline')\n",
    "import matplotlib as mpl\n",
    "import matplotlib.pyplot as plt\n",
    "mpl.style.use('ggplot')\n",
    "\n",
    "import plotly\n",
    "plotly.tools.set_credentials_file(username='NicolasWoloszko', api_key='Rq01zHODMCjSxOiI6EsX')\n",
    "plotly.tools.set_config_file(world_readable=True)#,sharing='private')\n",
    "#import plotly\n",
    "plotly.offline.init_notebook_mode()"
   ]
  },
  {
   "cell_type": "markdown",
   "metadata": {
    "deletable": true,
    "editable": true
   },
   "source": [
    "Jupyter Notebooks are an awesome tool to work with data, code, share code, and produce ready-to-use reports. It is widely used in the data science community. A incredible number of big companies use them and rely on the fact that notebooks allow to interweave code, words, and output charts and graphs in a self-contained report, in a user-friendly way. "
   ]
  },
  {
   "cell_type": "markdown",
   "metadata": {
    "deletable": true,
    "editable": true
   },
   "source": [
    "# Words"
   ]
  },
  {
   "cell_type": "markdown",
   "metadata": {
    "deletable": true,
    "editable": true
   },
   "source": [
    "A notebook is composed of cells, that may include either code, or words. As to the former, Jupyter works with a variety of coding languages, including R, Python, and so many others. As to the latter, one may include plain text, LaTeX equations, tables, and full HTML, which implies that one may insert images, iframes, and dynamic DataViz... \n",
    "\n",
    "$$\n",
    "\\begin{aligned}\n",
    "U &=\n",
    "\\frac{\\{1 - (1 - \\alpha) \\beta\\} u(c) + \\beta \\gamma \\sum_{s \\geq s^*} p_s u(w_s)}\n",
    "     {(1 - \\beta) \\left[\\{1 - (1 - \\alpha) \\beta\\} +\n",
    "                        \\beta \\gamma \\sum_{s \\geq s^*} p_s\\right]}, \\\\\n",
    "V_s &=\n",
    "\\begin{cases}\n",
    "U & \\text{if $s < s^*$} \\\\\n",
    "\\dfrac{u(w_s) + \\alpha \\beta U}{1 - (1 - \\alpha) \\beta} & \\text{if $s \\geq s^*$}.\n",
    "\\end{cases}\n",
    "\\end{aligned}\n",
    "$$"
   ]
  },
  {
   "cell_type": "markdown",
   "metadata": {
    "deletable": true,
    "editable": true
   },
   "source": [
    "# Code"
   ]
  },
  {
   "cell_type": "markdown",
   "metadata": {
    "deletable": true,
    "editable": true
   },
   "source": [
    "Jupyter notebooks work with many languages, including **R, Python, and Stata** ! Jupyter Notebook's distinctive feature is that they display a code cell's result below that cell, be it the result of a calculation, or a dataviz : "
   ]
  },
  {
   "cell_type": "code",
   "execution_count": 20,
   "metadata": {
    "ExecuteTime": {
     "end_time": "2017-03-29T14:39:36.838000",
     "start_time": "2017-03-29T14:39:36.838000"
    },
    "collapsed": false,
    "deletable": true,
    "editable": true
   },
   "outputs": [
    {
     "name": "stdout",
     "output_type": "stream",
     "text": [
      "Hello, World\n"
     ]
    }
   ],
   "source": [
    "def say_hello():\n",
    "    print \"Hello, World\"\n",
    "    \n",
    "say_hello()"
   ]
  },
  {
   "cell_type": "code",
   "execution_count": 27,
   "metadata": {
    "ExecuteTime": {
     "end_time": "2017-03-29T16:11:57.177000",
     "start_time": "2017-03-29T16:11:57.166000"
    },
    "collapsed": false,
    "deletable": true,
    "editable": true
   },
   "outputs": [
    {
     "name": "stdout",
     "output_type": "stream",
     "text": [
      "1. France\n",
      "2. UK\n",
      "3. USA\n"
     ]
    }
   ],
   "source": [
    "countries=['France', 'UK', 'USA']\n",
    "for i, country in enumerate(countries):\n",
    "    print str(i+1)+ '.',  country"
   ]
  },
  {
   "cell_type": "code",
   "execution_count": 22,
   "metadata": {
    "ExecuteTime": {
     "end_time": "2017-03-29T14:40:08.904000",
     "start_time": "2017-03-29T14:40:08.597000"
    },
    "collapsed": false,
    "deletable": true,
    "editable": true,
    "scrolled": true
   },
   "outputs": [
    {
     "data": {
      "image/png": "[encoded data removed]",
      "text/plain": [
       "<matplotlib.figure.Figure at 0x6257630>"
      ]
     },
     "metadata": {},
     "output_type": "display_data"
    }
   ],
   "source": [
    "t = np.arange(0.0, 2.0, 0.01)\n",
    "s = 1 + np.sin(2*np.pi*t)\n",
    "plt.plot(t, s)\n",
    "\n",
    "plt.xlabel('time (s)')\n",
    "plt.ylabel('voltage (mV)')\n",
    "plt.title('A very simple chart')\n",
    "plt.grid(True)\n",
    "plt.savefig(\"test.png\")\n",
    "plt.show()"
   ]
  },
  {
   "cell_type": "markdown",
   "metadata": {
    "deletable": true,
    "editable": true
   },
   "source": [
    "## DataViz"
   ]
  },
  {
   "cell_type": "markdown",
   "metadata": {
    "deletable": true,
    "editable": true
   },
   "source": [
    "This is where it gets really cool. Not only do Notebooks display charts and plots right below your code, but also, Jupyter charts may be displayed in an interactive way. \n",
    "\n",
    "Interactive charts can be produced using Plotly, a dataviz library. Plotly charts are beautiful, interactive, dynamic, can include 3-D... Let's see how they render in a Notebook : "
   ]
  },
  {
   "cell_type": "code",
   "execution_count": 19,
   "metadata": {
    "ExecuteTime": {
     "end_time": "2017-03-29T15:08:22.377000",
     "start_time": "2017-03-29T15:08:09.151000"
    },
    "collapsed": false,
    "deletable": true,
    "editable": true
   },
   "outputs": [
    {
     "data": {
      "text/html": [
       "<iframe id=\"igraph\" scrolling=\"no\" style=\"border:none;\" seamless=\"seamless\" src=\"https://plot.ly/~NicolasWoloszko/101.embed\" height=\"525px\" width=\"100%\"></iframe>"
      ],
      "text/plain": [
       "<plotly.tools.PlotlyDisplay object>"
      ]
     },
     "execution_count": 19,
     "metadata": {},
     "output_type": "execute_result"
    }
   ],
   "source": [
    "\n",
    "data = [dict(\n",
    "        visible = False,\n",
    "        line=dict(color='00CED1', width=6),\n",
    "        name = '𝜈 = '+str(step),\n",
    "        x = np.arange(0,10,0.01),\n",
    "        y = np.sin(step*np.arange(0,10,0.01))) for step in np.arange(0,5,0.1)]\n",
    "data[10]['visible'] = True\n",
    "\n",
    "steps = []\n",
    "for i in range(len(data)):\n",
    "    step = dict(\n",
    "        method = 'restyle',\n",
    "        args = ['visible', [False] * len(data)],\n",
    "    )\n",
    "    step['args'][1][i] = True # Toggle i'th trace to \"visible\"\n",
    "    steps.append(step)\n",
    "\n",
    "sliders = [dict(\n",
    "    active = 10,\n",
    "    currentvalue = {\"prefix\": \"Frequency: \"},\n",
    "    pad = {\"t\": 50},\n",
    "    steps = steps\n",
    ")]\n",
    "\n",
    "layout = dict(sliders=sliders)\n",
    "fig = dict(data=data, layout=layout)\n",
    "\n",
    "py.iplot(fig, filename='Sine Wave Slider')"
   ]
  },
  {
   "cell_type": "code",
   "execution_count": 13,
   "metadata": {
    "ExecuteTime": {
     "end_time": "2017-03-29T15:06:14.647000",
     "start_time": "2017-03-29T15:05:30.241000"
    },
    "collapsed": false,
    "deletable": true,
    "editable": true
   },
   "outputs": [
    {
     "data": {
      "text/html": [
       "<iframe id=\"igraph\" scrolling=\"no\" style=\"border:none;\" seamless=\"seamless\" src=\"https://plot.ly/~NicolasWoloszko/99.embed\" height=\"525px\" width=\"100%\"></iframe>"
      ],
      "text/plain": [
       "<plotly.tools.PlotlyDisplay object>"
      ]
     },
     "execution_count": 13,
     "metadata": {},
     "output_type": "execute_result"
    }
   ],
   "source": [
    "import plotly.plotly as py\n",
    "from plotly.graph_objs import *\n",
    "\n",
    "import numpy as np\n",
    "\n",
    "s = np.linspace(0, 2 * np.pi, 240)\n",
    "t = np.linspace(0, np.pi, 240)\n",
    "tGrid, sGrid = np.meshgrid(s, t)\n",
    "\n",
    "r = 2 + np.sin(7 * sGrid + 5 * tGrid)  # r = 2 + sin(7s+5t)\n",
    "x = r * np.cos(sGrid) * np.sin(tGrid)  # x = r*cos(s)*sin(t)\n",
    "y = r * np.sin(sGrid) * np.sin(tGrid)  # y = r*sin(s)*sin(t)\n",
    "z = r * np.cos(tGrid)                  # z = r*cos(t)\n",
    "\n",
    "surface = Surface(x=x, y=y, z=z)\n",
    "data = Data([surface])\n",
    "\n",
    "layout = Layout(\n",
    "    title='3D interactive plot',\n",
    "    scene=Scene(\n",
    "        xaxis=XAxis(\n",
    "            gridcolor='rgb(255, 255, 255)',\n",
    "            zerolinecolor='rgb(255, 255, 255)',\n",
    "            showbackground=True,\n",
    "            backgroundcolor='rgb(230, 230,230)'\n",
    "        ),\n",
    "        yaxis=YAxis(\n",
    "            gridcolor='rgb(255, 255, 255)',\n",
    "            zerolinecolor='rgb(255, 255, 255)',\n",
    "            showbackground=True,\n",
    "            backgroundcolor='rgb(230, 230,230)'\n",
    "        ),\n",
    "        zaxis=ZAxis(\n",
    "            gridcolor='rgb(255, 255, 255)',\n",
    "            zerolinecolor='rgb(255, 255, 255)',\n",
    "            showbackground=True,\n",
    "            backgroundcolor='rgb(230, 230,230)'\n",
    "        )\n",
    "    )\n",
    ")\n",
    "\n",
    "fig = Figure(data=data, layout=layout)\n",
    "py.iplot(fig, filename='parametric_plot')"
   ]
  },
  {
   "cell_type": "markdown",
   "metadata": {
    "deletable": true,
    "editable": true
   },
   "source": [
    "Go ahead, you can play with it ! You can zoom, focus on certain parts, make it move..."
   ]
  },
  {
   "cell_type": "markdown",
   "metadata": {
    "deletable": true,
    "editable": true
   },
   "source": [
    "## From a notebook to a report\n",
    "\n",
    "The notebook can be exported to an HTML report. You are currently reading that report. It can also be exported to PDF. It can also be exported directly in a series of slides that make a beautiful HTML presentation. "
   ]
  },
  {
   "cell_type": "markdown",
   "metadata": {
    "deletable": true,
    "editable": true
   },
   "source": [
    "## Fine tune to your need"
   ]
  },
  {
   "cell_type": "markdown",
   "metadata": {
    "deletable": true,
    "editable": true
   },
   "source": [
    "Jupyter's HTML report are HTML. That means one can manipulate as any other webpage. As you may know, one can do quite a few things with webpages, using mostly CSS and Javascript. \n",
    "\n",
    "For instance, I have inserted a button at the top left of this page that will allow you to hide the code, thus showing only text, equations and plots, or show the code. That functionality is incredibly useful when working with both technical and non-technical people, which is a daily issue here at the OECD. That tool me only a few lines of Javascript, a web-focused coding language. \n",
    "\n",
    "One may configure the whole style and appearance of a notebook once and for all. Once the configuration will be set, users would type their code, and edit reports that could look just like OECD publications. "
   ]
  },
  {
   "cell_type": "markdown",
   "metadata": {
    "deletable": true,
    "editable": true
   },
   "source": [
    "# Conclusion\n",
    "\n",
    "Notebooks are a great tool to share code that is easy to read. Pure .do files are often impenetrable. Displaying a self-contained report that includes code, clear explanations, headers, models, equations, and even dataviz makes it much easier to understand one another's code. Sharing code is a key issue. It allows to reproduce one's work, and to double-check and reduce the likeliness of mistakes. \n",
    "\n",
    "Notebooks are versatile. They allow to easily create HTML reports, that can display interactive and dynamic dataviz. HTML reports are more fitted to the web than static PDF, that are meant to be printed, not read online. "
   ]
  },
  {
   "cell_type": "markdown",
   "metadata": {
    "deletable": true,
    "editable": true
   },
   "source": [
    "# A concrete example: Lucas (1990) \"Why Doesn't Capital Flow from Rich to Poor Countries?\"\n",
    "\n",
    "Summary and analytical notes:\n",
    "\n",
    "    Lucas, Robert E. \"Why Doesn't Capital Flow from Rich to Poor Countries?\" \n",
    "    The American Economic Review (1990): 92-96.\n",
    "    \n",
    "## Neoclassical convergence predictions:\n",
    "- predict the convergence of factor prices and incomes per-capita over time \n",
    "- via the substitute mechanisms of factor movements, trade in products, and/or capital accumulation. \n",
    "- follows from assumptions about technology and market competition\n",
    "  - in particular: diminishing returns to capital (i.e. $F_{KK} < 0$ ), or any one factor.\n",
    "  \n",
    "## Simplest model\n",
    "Assume two countries have same aggregate production function, where $X$ is capital stock and $L$ is labor force:\n",
    "$$Y = A X^\\beta L^{1-\\beta}$$\n",
    "\n",
    "**in intensive or per-capita form**:\n",
    "$$y = A x^\\beta$$\n",
    "\n",
    "where \n",
    "$$y = \\frac{Y}{L} \\text{    and    } x = \\frac{X}{L}$$\n",
    "\n",
    "**Marginal Product of Capital is:**\n",
    "$$r = A \\beta x^{\\beta -1}$$\n",
    "\n",
    "**Marginal Product of Capital (MPK) as a function of income per capita:**\n",
    "\n",
    "    \n",
    "$$r = \\beta A^\\frac{1}{\\beta} y^\\frac{\\beta -1}{\\beta}$$   \n",
    "\n",
    "or \n",
    "\n",
    "$$r = A \\beta \\left ( {\\frac{y}{A}} \\right ) ^\\frac{\\beta - 1}{\\beta}$$\n",
    "    \n",
    "\n",
    "Steps:\n",
    "\n",
    "$$y = A x^\\beta  $$\n",
    "so \n",
    "$$x = \\left ({\\frac{y}{A}}  \\right)^\\frac{1}{\\beta}   $$\n",
    "\n",
    "substitute this into $r = A \\beta x^{\\beta -1}$\n",
    "\n",
    "## The puzzle\n",
    " - Let capital share $\\beta =0.4$ (average of USA and India)\n",
    " - Assume $A$ is the same in both countries\n",
    " \n",
    " - In 1988 income per capita in USA was 15 times higher than USA:\n",
    " \n",
    "$$\\frac{y_{US}}{y_{IN}} = 15$$\n",
    "\n",
    " - implies MPK in India should be:\n",
    " $$\\frac{r_{US}}{r_{IN}} = \\left [ { \\frac{y_{US}}{y_{IN}} } \\right] ^ \\frac{1-\\beta}{\\beta} = 58.1$$\n",
    " times higher in India.\n",
    " \n",
    "Differences in capital per worker:\n",
    "\n",
    "As $x = \\left ({\\frac{y}{A}}  \\right)^\\frac{1}{\\beta} $ and  $\\frac{y_{US}}{y_{IN}} = 15$, US workers would have to have this multiple of the amount of capital per worker compared to India:\n",
    " \n",
    " $$\\frac{x_{US}}{x_{IN}} = \\left ( {\\frac{y_{US}}{y_{IN}}}  \\right)^\\frac{1}{\\beta} = 871.4$$\n",
    " \n",
    " So if in India the capital-labor ratio is 10 in the USA it must be 8714 !\n",
    " \n",
    "- With such huge differentials capital would RUSH from USA to India quickly lower the gap in returns and incomes.\n",
    "-  What's wrong with the model?  Lucas walks through 4 alternate hyptotheses."
   ]
  },
  {
   "cell_type": "code",
   "execution_count": 2,
   "metadata": {
    "ExecuteTime": {
     "end_time": "2017-03-29T14:04:28.372000",
     "start_time": "2017-03-29T14:04:28.222000"
    },
    "collapsed": true,
    "deletable": true,
    "editable": true
   },
   "outputs": [],
   "source": [
    "%matplotlib inline\n",
    "import numpy as np\n",
    "import matplotlib.pylab as plt\n",
    "\n",
    "A = 1 \n",
    "beta = 0.4\n",
    "y_US = 15\n",
    "y_IN = 1\n",
    "\n",
    "def f(x):\n",
    "    return x**beta\n",
    "\n",
    "def mpx(x):\n",
    "    return beta*x**(beta-1)\n",
    "\n",
    "def r(y, A):\n",
    "    return beta * (A**(1-beta)) * y**((beta-1)/beta)\n",
    "\n",
    "    \n",
    "def kap(y, A):\n",
    "    return (y/A)**(1/beta)"
   ]
  },
  {
   "cell_type": "code",
   "execution_count": 3,
   "metadata": {
    "ExecuteTime": {
     "end_time": "2017-03-29T14:04:28.593000",
     "start_time": "2017-03-29T14:04:28.469000"
    },
    "collapsed": false,
    "deletable": true,
    "editable": true
   },
   "outputs": [
    {
     "name": "stdout",
     "output_type": "stream",
     "text": [
      "Return to capital in India relative to USA :  58.1\n"
     ]
    }
   ],
   "source": [
    "print('Return to capital in India relative to USA : {:5.1f}'.format(r(y_IN, A)/r(y_US, A)))"
   ]
  },
  {
   "cell_type": "markdown",
   "metadata": {
    "deletable": true,
    "editable": true
   },
   "source": [
    "The ratio of capital stock per worker in the USA compared to India that is implied by this difference in incomes per capita is even more unbelievable:"
   ]
  },
  {
   "cell_type": "code",
   "execution_count": 4,
   "metadata": {
    "ExecuteTime": {
     "end_time": "2017-03-29T14:04:28.724000",
     "start_time": "2017-03-29T14:04:28.699000"
    },
    "collapsed": false,
    "deletable": true,
    "editable": true
   },
   "outputs": [
    {
     "name": "stdout",
     "output_type": "stream",
     "text": [
      "Capital per worker in USA relative to India : 871.4\n"
     ]
    }
   ],
   "source": [
    "print('Capital per worker in USA relative to India : {:5.1f}'.format(kap(y_US, A)/kap(y_IN, A)))"
   ]
  },
  {
   "cell_type": "code",
   "execution_count": 5,
   "metadata": {
    "ExecuteTime": {
     "end_time": "2017-03-29T14:04:31.507000",
     "start_time": "2017-03-29T14:04:28.858000"
    },
    "collapsed": false,
    "deletable": true,
    "editable": true
   },
   "outputs": [
    {
     "data": {
      "image/png": "[encoded data removed]",
      "text/plain": [
       "<matplotlib.figure.Figure at 0xc160a58>"
      ]
     },
     "metadata": {},
     "output_type": "display_data"
    }
   ],
   "source": [
    "y = np.linspace(0.1,20,100)\n",
    "plt.figure(figsize=(12, 6))\n",
    "plt.subplot(2,1,1)\n",
    "plt.plot(y,kap(y, A))\n",
    "plt.ylabel(\"$k$ -- capital per worker\")\n",
    "plt.ylim(0,kap(y_US +1, A))\n",
    "plt.axvline(y_IN,color='k',ls='dashed')\n",
    "plt.axvline(y_US,color='k',ls='dashed')\n",
    "plt.title(\"capital per worker\")\n",
    "\n",
    "plt.subplot(2,1,2)\n",
    "plt.plot(y,r(y,A))\n",
    "plt.xlabel(\"$y$ -- output per worker\")\n",
    "plt.ylabel(\"$4$ -- marginal product capital\")\n",
    "plt.title(\"return to capital\")\n",
    "plt.ylim(0,r(y_IN,A))\n",
    "plt.axvline(y_IN,color='k',ls='dashed')\n",
    "plt.axvline(y_US,color='k',ls='dashed')\n",
    "plt.annotate('India', xy=(y_IN, r(y_IN,A)), xytext=(y_IN +2, r(y_IN,A)*0.75),\n",
    "            arrowprops=dict(facecolor='black', shrink=0.05),)\n",
    "plt.annotate('USA', xy=(y_US, r(y_US,A)), xytext=(y_US +2, r(y_US,A)+0.1),\n",
    "            arrowprops=dict(facecolor='black', shrink=0.05),);"
   ]
  }
 ],
 "metadata": {
  "kernelspec": {
   "display_name": "Python 2",
   "language": "python",
   "name": "python2"
  },
  "language_info": {
   "codemirror_mode": {
    "name": "ipython",
    "version": 2
   },
   "file_extension": ".py",
   "mimetype": "text/x-python",
   "name": "python",
   "nbconvert_exporter": "python",
   "pygments_lexer": "ipython2",
   "version": "2.7.13"
  },
  "toc": {
   "colors": {
    "hover_highlight": "#DAA520",
    "running_highlight": "#FF0000",
    "selected_highlight": "#FFD700"
   },
   "moveMenuLeft": true,
   "nav_menu": {
    "height": "213px",
    "width": "252px"
   },
   "navigate_menu": true,
   "number_sections": true,
   "sideBar": true,
   "threshold": 4,
   "toc_cell": true,
   "toc_section_display": "block",
   "toc_window_display": true
  }
 },
 "nbformat": 4,
 "nbformat_minor": 2
}
